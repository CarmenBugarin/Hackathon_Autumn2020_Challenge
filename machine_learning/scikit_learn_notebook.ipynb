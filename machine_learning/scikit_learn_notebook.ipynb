{
  "nbformat": 4,
  "nbformat_minor": 0,
  "metadata": {
    "colab": {
      "name": "Scikit-learn_class.ipynb",
      "provenance": [],
      "collapsed_sections": []
    },
    "kernelspec": {
      "name": "python3",
      "display_name": "Python 3"
    }
  },
  "cells": [
    {
      "cell_type": "markdown",
      "metadata": {
        "id": "qet_C1Qljuxx",
        "colab_type": "text"
      },
      "source": [
        "<p><img alt=\"Scikit-learn logo\" height=\"45px\" src=\"https://raw.githubusercontent.com/KHSDTC/Hackathon_Spring2020_Challenge/machine_learning/machine_learning/figures/scikit-learn-logo-small.png\" align=\"left\" hspace=\"10px\" vspace=\"0px\"></p>\n",
        "\n",
        "<h1>Introduction to Machine Learning with Scikit-learn</h1>\n"
      ]
    },
    {
      "cell_type": "markdown",
      "metadata": {
        "id": "Gqfm6CpLkS_v",
        "colab_type": "text"
      },
      "source": [
        "## **Getting started**\n",
        "\n",
        "There are many Python libraries which provide reliable implementations of machine learning algorithms. One of the most popular is Scikit-Learn (https://scikit-learn.org/stable/index.html), an open-source package that provides efficient versions of a large number of standard algorithms. \n",
        "\n",
        "Scikit-Learn is characterized by a clean API, as well as by handy and complete online documentation. A benefit of this uniform API is that once you understand the basic use and syntax for one type of model, switching to a new model is pretty straightforward. \n",
        "\n",
        "A guide illustrating some of the Scikit-Learn main features can be found [here](https://scikit-learn.org/stable/getting_started.html).\n",
        "\n",
        "In this tutorial, we will learn how to use Scikit-Learn to perform a very basic machine learning task involving supervised learning. Let's start!\n",
        "\n",
        "---\n"
      ]
    },
    {
      "cell_type": "markdown",
      "metadata": {
        "id": "7QNxZDxiDe19",
        "colab_type": "text"
      },
      "source": [
        "# Importing libraries\n",
        "As we saw in the Python course, it is a good pratice to first import all the Python libraries that we are going to use in the script."
      ]
    },
    {
      "cell_type": "code",
      "metadata": {
        "id": "H3MtKIHolcwq",
        "colab_type": "code",
        "colab": {}
      },
      "source": [
        "import matplotlib.pyplot as plt\n",
        "import numpy as np\n",
        "import pandas as pd\n",
        "from joblib import dump, load\n",
        "from sklearn.metrics import accuracy_score\n",
        "from sklearn.model_selection import train_test_split\n",
        "from sklearn.svm import LinearSVC"
      ],
      "execution_count": 0,
      "outputs": []
    },
    {
      "cell_type": "markdown",
      "metadata": {
        "id": "iKCTNwFCEQd_",
        "colab_type": "text"
      },
      "source": [
        "# Download dataset\n",
        "\n",
        "Now, let's download and have a quick look on the data that we are going to use.\n"
      ]
    },
    {
      "cell_type": "code",
      "metadata": {
        "id": "S_MqLKvKMuJJ",
        "colab_type": "code",
        "outputId": "b8b1c2d6-4565-4a4d-efd2-6657ff8f328e",
        "colab": {
          "base_uri": "https://localhost:8080/",
          "height": 260
        }
      },
      "source": [
        "dataset_url = 'https://raw.githubusercontent.com/KHSDTC/Hackathon_Spring2020_Challenge/machine_learning/machine_learning/dataset.csv'\n",
        "dataset = pd.read_csv(dataset_url)\n",
        "print(dataset)"
      ],
      "execution_count": 4,
      "outputs": [
        {
          "output_type": "stream",
          "text": [
            "     washing hands  touching face  outcome\n",
            "0         8.862434      15.637931      ill\n",
            "1        10.422334      15.404222      ill\n",
            "2        12.462217      27.923875      ill\n",
            "3        12.242321      25.734998      ill\n",
            "4        12.511457      18.840600      ill\n",
            "..             ...            ...      ...\n",
            "195      14.613281      18.484341  healthy\n",
            "196      17.811169      22.817188  healthy\n",
            "197      16.425944      13.559383  healthy\n",
            "198      20.922666      23.578661  healthy\n",
            "199      14.923250      12.524323  healthy\n",
            "\n",
            "[200 rows x 3 columns]\n"
          ],
          "name": "stdout"
        }
      ]
    },
    {
      "cell_type": "markdown",
      "metadata": {
        "id": "jkyrDl0l2gVe",
        "colab_type": "text"
      },
      "source": [
        "In our dataset, we have data from about 200 people telling:\n",
        "\n",
        "*   Mean time spent washing their hands;\n",
        "*   Mean number of times that they touched their face per hour;\n",
        "*   And if they got the \"*flu virus*\" in the following 2 months.\n",
        "\n",
        "From all this data, we want to develop a model that would perform an useful clinical task for us. For this development, we will apply the **machine learning workflow**."
      ]
    },
    {
      "cell_type": "markdown",
      "metadata": {
        "id": "FkICW-xsFlK0",
        "colab_type": "text"
      },
      "source": [
        "# **Machine learning workflow**\n",
        "For this tutorial, we will use the workflow presented during our the theory presentation.\n",
        "\n",
        "\n",
        "\n",
        "<center><img src=\"https://raw.githubusercontent.com/KHSDTC/Hackathon_Spring2020_Challenge/machine_learning/machine_learning/figures/workflow.png\" width=\"600\"></center>\n",
        "\n",
        "\n",
        "\n",
        "The machine learning workflow try to give us a step-by-step to follow when working with a machine learning project. The first step is to perform the **problem formulation**."
      ]
    },
    {
      "cell_type": "markdown",
      "metadata": {
        "id": "2YU56yRWZPNV",
        "colab_type": "text"
      },
      "source": [
        "## <p><img alt=\"Scikit-learn logo\" height=\"45px\" src=\"https://raw.githubusercontent.com/KHSDTC/Hackathon_Spring2020_Challenge/machine_learning/machine_learning/figures/problem.png\" align=\"left\" hspace=\"10px\" vspace=\"0px\"></p> **Problem formulation**\n",
        "\n",
        "First step is to frame our machine learning problem. \n",
        "\n",
        "Give a try to create an straight forward sentence presenting our project scope. When you are done, check our sentence below:\n",
        "\n"
      ]
    },
    {
      "cell_type": "markdown",
      "metadata": {
        "id": "rnw9EbBrKjYY",
        "colab_type": "text"
      },
      "source": [
        "### Answer"
      ]
    },
    {
      "cell_type": "markdown",
      "metadata": {
        "id": "L5B9opQVINP9",
        "colab_type": "text"
      },
      "source": [
        "> *Given how often people touch their own face and how long they take washing ther hands, predict if they get ill after 1 month.*\n",
        "\n",
        "*   Task: Classification\n",
        "*   Features: Washing hand time and how many times touch the face\n",
        "*   Target: Outcome after 1 month  \n"
      ]
    },
    {
      "cell_type": "markdown",
      "metadata": {
        "id": "op818zaWJoGi",
        "colab_type": "text"
      },
      "source": [
        "For convinience, let's store our features and targets in lists to use later."
      ]
    },
    {
      "cell_type": "code",
      "metadata": {
        "id": "xu3rELsmM3vY",
        "colab_type": "code",
        "colab": {}
      },
      "source": [
        "features = ['washing hands', 'touching face']\n",
        "targets = ['outcome']"
      ],
      "execution_count": 0,
      "outputs": []
    },
    {
      "cell_type": "markdown",
      "metadata": {
        "id": "qah6FegWldT6",
        "colab_type": "text"
      },
      "source": [
        "## <p><img alt=\"Scikit-learn logo\" height=\"45px\" src=\"https://raw.githubusercontent.com/KHSDTC/Hackathon_Spring2020_Challenge/machine_learning/machine_learning/figures/data.png\" align=\"left\" hspace=\"10px\" vspace=\"0px\"></p>  **Data preparation**\n",
        "\n",
        "In this point, we perform most of the exploratory data analyses and try to deal with the inconsistensies of the data. As we saw in the previous course, Pandas ins an excellent tool to perform this step when we are working with tabular data.\n",
        "\n",
        "In our case, our dataset is already cleaned and validated for our task. Let's check how it looks like!\n"
      ]
    },
    {
      "cell_type": "code",
      "metadata": {
        "id": "7weTVgzE7P65",
        "colab_type": "code",
        "colab": {}
      },
      "source": [
        "X = dataset[features].values\n",
        "y = dataset[targets].values"
      ],
      "execution_count": 0,
      "outputs": []
    },
    {
      "cell_type": "code",
      "metadata": {
        "id": "TVM6VIGcNmJp",
        "colab_type": "code",
        "outputId": "31e774da-daf4-4df2-d5fb-73338f09ef69",
        "colab": {
          "base_uri": "https://localhost:8080/",
          "height": 86
        }
      },
      "source": [
        "print(f'Features type: {type(X)}')\n",
        "print(f'Target type: {type(y)}')\n",
        "\n",
        "print(f'Features dimensions: {X.shape}')\n",
        "print(f'Target dimensions: {y.shape}')"
      ],
      "execution_count": 8,
      "outputs": [
        {
          "output_type": "stream",
          "text": [
            "Features type: <class 'numpy.ndarray'>\n",
            "Target type: <class 'numpy.ndarray'>\n",
            "Features dimensions: (200, 2)\n",
            "Target dimensions: (200, 1)\n"
          ],
          "name": "stdout"
        }
      ]
    },
    {
      "cell_type": "markdown",
      "metadata": {
        "id": "OQo-0kCu5Tvk",
        "colab_type": "text"
      },
      "source": [
        "It is possible to use the Pandas DataFrame itself to train models and make predictions using the Scikit-Learn library. However, to have more flexibility to plot some graphs, here, we opt to use the data in the numpy array format.\n",
        "\n",
        "Using this format, we have the following feature matrix and target vector.\n",
        "\n",
        "![alt text](https://raw.githubusercontent.com/KHSDTC/Hackathon_Spring2020_Challenge/machine_learning/machine_learning/figures/features_targets.png)\n",
        "\n",
        "Now, let's try to visualise how our features are distrubuted."
      ]
    },
    {
      "cell_type": "code",
      "metadata": {
        "id": "keUon2K2-j6u",
        "colab_type": "code",
        "outputId": "bcc48497-99df-4afc-ca7b-66905eda15ac",
        "colab": {
          "base_uri": "https://localhost:8080/",
          "height": 279
        }
      },
      "source": [
        "plt.scatter(X[:, 0], X[:, 1], marker='.', color='k')\n",
        "plt.xlabel('Washing hands (seconds)')\n",
        "plt.ylabel('Face touches (per hour)')\n",
        "plt.show()"
      ],
      "execution_count": 10,
      "outputs": [
        {
          "output_type": "display_data",
          "data": {
            "image/png": "[encoded data removed]",
            "text/plain": [
              "<Figure size 432x288 with 1 Axes>"
            ]
          },
          "metadata": {
            "tags": []
          }
        }
      ]
    },
    {
      "cell_type": "markdown",
      "metadata": {
        "id": "nXbEb1J3Lmx8",
        "colab_type": "text"
      },
      "source": [
        "Since we are trying to perform classification, let's have a look how the different categories are scattered in our plot."
      ]
    },
    {
      "cell_type": "code",
      "metadata": {
        "id": "BME7GCN2OHik",
        "colab_type": "code",
        "outputId": "4281d429-917b-4632-fd19-1c2c1861cb44",
        "colab": {
          "base_uri": "https://localhost:8080/",
          "height": 279
        }
      },
      "source": [
        "healthy_index = np.where(y=='healthy')\n",
        "ill_index = np.where(y=='ill')\n",
        "\n",
        "plt.scatter(X[healthy_index, 0], X[healthy_index, 1], marker='o', color='blue', label='healthy')\n",
        "plt.scatter(X[ill_index, 0], X[ill_index, 1], marker='x', color='red', label='ill')\n",
        "plt.xlabel('Washing hands (seconds)')\n",
        "plt.ylabel('Face touches (per hour)')\n",
        "plt.legend()\n",
        "plt.show()"
      ],
      "execution_count": 0,
      "outputs": [
        {
          "output_type": "display_data",
          "data": {
            "image/png": "[encoded data removed]",
            "text/plain": [
              "<Figure size 432x288 with 1 Axes>"
            ]
          },
          "metadata": {
            "tags": []
          }
        }
      ]
    },
    {
      "cell_type": "markdown",
      "metadata": {
        "id": "4-J1kEuLeXsz",
        "colab_type": "text"
      },
      "source": [
        "### **Splitting Your Data**\n",
        "The previous module introduced the idea of dividing your data set into two subsets:\n",
        "\n",
        "training set—a subset to train a model.\n",
        "test set—a subset to test the trained model.\n",
        "\n",
        "Make sure that your test set meets the following two conditions:\n",
        "\n",
        "Is large enough to yield statistically meaningful results.\n",
        "Is representative of the data set as a whole. In other words, don't pick a test set with different characteristics than the training set.\n",
        "\n",
        "**Never train on test data**. If you are seeing surprisingly good results on your evaluation metrics, it might be a sign that you are accidentally training on the test set. For example, high accuracy might indicate that test data has leaked into the training set.\n",
        "\n",
        "More information:\n",
        "\n",
        "- https://developers.google.com/machine-learning/data-prep\n",
        "- https://scikit-learn.org/stable/modules/cross_validation.html"
      ]
    },
    {
      "cell_type": "code",
      "metadata": {
        "id": "fkfjmvftmeRj",
        "colab_type": "code",
        "colab": {}
      },
      "source": [
        "X_train, X_test, y_train, y_test = train_test_split(X, y, test_size=0.20, random_state=42)"
      ],
      "execution_count": 0,
      "outputs": []
    },
    {
      "cell_type": "code",
      "metadata": {
        "id": "jd4IvNlm_RSy",
        "colab_type": "code",
        "colab": {
          "base_uri": "https://localhost:8080/",
          "height": 52
        },
        "outputId": "5695abb0-de53-4de0-ee9c-faeeaa91653c"
      },
      "source": [
        "print(f'Training set size: {X_train.shape[0]}')\n",
        "print(f'Test set size: {X_test.shape[0]}')\n"
      ],
      "execution_count": 36,
      "outputs": [
        {
          "output_type": "stream",
          "text": [
            "Training set size: 160\n",
            "Test set size: 40\n"
          ],
          "name": "stdout"
        }
      ]
    },
    {
      "cell_type": "markdown",
      "metadata": {
        "id": "6mnINHzJXg2S",
        "colab_type": "text"
      },
      "source": [
        "## <p><img alt=\"Scikit-learn logo\" height=\"45px\" src=\"https://raw.githubusercontent.com/KHSDTC/Hackathon_Spring2020_Challenge/machine_learning/machine_learning/figures/training.png\" align=\"left\" hspace=\"10px\" vspace=\"0px\"></p>   **Training model**\n",
        "\n",
        "\n",
        "Training a model simply means learning (determining) good values for all the weights and the bias from labeled examples. In supervised learning, a machine learning algorithm builds a model by examining many examples and attempting to find a model that minimizes loss; this process is called empirical risk minimization.\n",
        "\n",
        "Loss is the penalty for a bad prediction. That is, loss is a number indicating how bad the model's prediction was on a single example. If the model's prediction is perfect, the loss is zero; otherwise, the loss is greater. The goal of training a model is to find a set of weights and biases that have low loss, on average, across all examples. For example, Figure 3 shows a high loss model on the left and a low loss model on the right. Note the following about the figure:\n"
      ]
    },
    {
      "cell_type": "markdown",
      "metadata": {
        "id": "gjQM7yNcloBa",
        "colab_type": "text"
      },
      "source": [
        "### **Choosing your model**\n",
        "\n",
        "Often the hardest part of solving a machine learning problem can be finding the right estimator for the job.\n",
        "\n",
        "Different estimators are better suited for different types of data and different problems.\n",
        "\n",
        "<a href=\"https://scikit-learn.org/stable/tutorial/machine_learning_map/index.html\">\n",
        "<img src=\"https://scikit-learn.org/stable/_static/ml_map.png\">\n",
        "</a>\n",
        "Source: https://scikit-learn.org/stable/tutorial/machine_learning_map/index.html\n"
      ]
    },
    {
      "cell_type": "markdown",
      "metadata": {
        "id": "yXdpyPuVa-WF",
        "colab_type": "text"
      },
      "source": [
        "In our case, we have about 200 samples and we are performing an classification.\n",
        "\n",
        "Then, the recommended model is the [LinearSVC](https://scikit-learn.org/stable/modules/generated/sklearn.svm.LinearSVC.html)"
      ]
    },
    {
      "cell_type": "code",
      "metadata": {
        "id": "ia9ZpgngApMI",
        "colab_type": "code",
        "colab": {}
      },
      "source": [
        "clf = LinearSVC(random_state=0)"
      ],
      "execution_count": 0,
      "outputs": []
    },
    {
      "cell_type": "code",
      "metadata": {
        "id": "b2hfcwRRBIkZ",
        "colab_type": "code",
        "outputId": "37dc90a1-01bc-426a-a621-73877d793011",
        "colab": {
          "base_uri": "https://localhost:8080/",
          "height": 176
        }
      },
      "source": [
        "clf.fit(X_train, y_train)"
      ],
      "execution_count": 17,
      "outputs": [
        {
          "output_type": "stream",
          "text": [
            "/usr/local/lib/python3.6/dist-packages/sklearn/utils/validation.py:760: DataConversionWarning: A column-vector y was passed when a 1d array was expected. Please change the shape of y to (n_samples, ), for example using ravel().\n",
            "  y = column_or_1d(y, warn=True)\n",
            "/usr/local/lib/python3.6/dist-packages/sklearn/svm/_base.py:947: ConvergenceWarning: Liblinear failed to converge, increase the number of iterations.\n",
            "  \"the number of iterations.\", ConvergenceWarning)\n"
          ],
          "name": "stderr"
        },
        {
          "output_type": "execute_result",
          "data": {
            "text/plain": [
              "LinearSVC(C=1.0, class_weight=None, dual=True, fit_intercept=True,\n",
              "          intercept_scaling=1, loss='squared_hinge', max_iter=1000,\n",
              "          multi_class='ovr', penalty='l2', random_state=42, tol=0.0001,\n",
              "          verbose=0)"
            ]
          },
          "metadata": {
            "tags": []
          },
          "execution_count": 17
        }
      ]
    },
    {
      "cell_type": "markdown",
      "metadata": {
        "id": "MxzuP5nZmaYT",
        "colab_type": "text"
      },
      "source": [
        "## <p><img alt=\"Scikit-learn logo\" height=\"45px\" src=\"https://raw.githubusercontent.com/KHSDTC/Hackathon_Spring2020_Challenge/machine_learning/machine_learning/figures/evaluation.png\" align=\"left\" hspace=\"10px\" vspace=\"0px\"></p>   **Model evaluation**\n",
        "\n",
        "Fitting a model to some data does not entail that it will predict well on unseen data. This needs to be directly evaluated. We have just seen the train_test_split helper that splits a dataset into train and test sets, but scikit-learn provides many other tools for model evaluation, in particular for cross-validation.\n",
        "\n",
        "https://scikit-learn.org/stable/modules/model_evaluation.html\n",
        "\n",
        "https://machinelearningmastery.com/metrics-evaluate-machine-learning-algorithms-python/\n"
      ]
    },
    {
      "cell_type": "code",
      "metadata": {
        "id": "WmWxfECH7l2G",
        "colab_type": "code",
        "colab": {}
      },
      "source": [
        "pred = clf.predict(X_test)"
      ],
      "execution_count": 0,
      "outputs": []
    },
    {
      "cell_type": "code",
      "metadata": {
        "id": "0Q7AH4j179vL",
        "colab_type": "code",
        "outputId": "3522ae56-faef-4887-d3b3-6763fe954e5f",
        "colab": {
          "base_uri": "https://localhost:8080/",
          "height": 104
        }
      },
      "source": [
        "print(pred)"
      ],
      "execution_count": 28,
      "outputs": [
        {
          "output_type": "stream",
          "text": [
            "['ill' 'healthy' 'ill' 'healthy' 'healthy' 'healthy' 'ill' 'healthy'\n",
            " 'healthy' 'healthy' 'ill' 'healthy' 'healthy' 'ill' 'healthy' 'healthy'\n",
            " 'ill' 'healthy' 'ill' 'ill' 'healthy' 'ill' 'healthy' 'ill' 'healthy'\n",
            " 'ill' 'healthy' 'healthy' 'healthy' 'healthy' 'ill' 'healthy' 'ill'\n",
            " 'healthy' 'healthy' 'healthy' 'healthy' 'healthy' 'healthy' 'ill']\n"
          ],
          "name": "stdout"
        }
      ]
    },
    {
      "cell_type": "code",
      "metadata": {
        "id": "qtRWzNLT8GAR",
        "colab_type": "code",
        "colab": {
          "base_uri": "https://localhost:8080/",
          "height": 104
        },
        "outputId": "551e2c8f-4729-4551-a817-597a29a4a71c"
      },
      "source": [
        "print(y_test.flatten())"
      ],
      "execution_count": 34,
      "outputs": [
        {
          "output_type": "stream",
          "text": [
            "['ill' 'ill' 'ill' 'healthy' 'healthy' 'healthy' 'ill' 'healthy' 'healthy'\n",
            " 'ill' 'ill' 'healthy' 'healthy' 'ill' 'healthy' 'healthy' 'ill' 'healthy'\n",
            " 'ill' 'ill' 'healthy' 'ill' 'healthy' 'ill' 'ill' 'ill' 'ill' 'ill'\n",
            " 'healthy' 'healthy' 'ill' 'ill' 'ill' 'ill' 'healthy' 'healthy' 'healthy'\n",
            " 'healthy' 'healthy' 'ill']\n"
          ],
          "name": "stdout"
        }
      ]
    },
    {
      "cell_type": "markdown",
      "metadata": {
        "id": "IEaWjdeI9E5W",
        "colab_type": "text"
      },
      "source": [
        "Since it is a lot of samples being predicted, let's summarise it into some some performance metrics. The Scikit-Learn offer a wide number of options of metrics. They are especific for which machine learning task we are performing. In our case, we are developing an classifier, so an commonly used metric is the accuracy. Informally, accuracy is the fraction of predictions our model got right. Formally, accuracy has the following definition:\n",
        "\n",
        "$$\\text{Accuracy} = \\frac{\\text{Number of correct predictions}}{\\text{Total number of predictions}}$$\n",
        "\n",
        "You can check for others metrics from scikit-learn [here](https://scikit-learn.org/stable/modules/classes.html#module-sklearn.metrics)"
      ]
    },
    {
      "cell_type": "code",
      "metadata": {
        "id": "kFR58KOGBWh3",
        "colab_type": "code",
        "outputId": "b14e4cf6-7fa9-45f4-f1ed-ca01136619c3",
        "colab": {
          "base_uri": "https://localhost:8080/",
          "height": 34
        }
      },
      "source": [
        "acc = accuracy_score(y_test, pred)\n",
        "print(f'Model Accuracy: {acc}')"
      ],
      "execution_count": 19,
      "outputs": [
        {
          "output_type": "stream",
          "text": [
            "Model Accuracy: 0.825\n"
          ],
          "name": "stdout"
        }
      ]
    },
    {
      "cell_type": "markdown",
      "metadata": {
        "id": "L5-wDHiz_B-9",
        "colab_type": "text"
      },
      "source": [
        "Accuracy comes out to 0.825, or 82.5% (33 correct predictions out of 40 total examples from the test set). That means our classifier is doing a great job of identifying people in risk, right?"
      ]
    },
    {
      "cell_type": "code",
      "metadata": {
        "id": "evXhbxoX8D9G",
        "colab_type": "code",
        "outputId": "c4d3b701-774f-43d1-855c-729df0cc5990",
        "colab": {
          "base_uri": "https://localhost:8080/",
          "height": 34
        }
      },
      "source": [
        "clf.predict(np.array([[20,10]]))"
      ],
      "execution_count": 0,
      "outputs": [
        {
          "output_type": "execute_result",
          "data": {
            "text/plain": [
              "array(['healthy'], dtype=object)"
            ]
          },
          "metadata": {
            "tags": []
          },
          "execution_count": 43
        }
      ]
    },
    {
      "cell_type": "code",
      "metadata": {
        "id": "3PICzuF6eUz1",
        "colab_type": "code",
        "outputId": "f25b75a4-e887-401a-b872-7601b0625500",
        "colab": {
          "base_uri": "https://localhost:8080/",
          "height": 279
        }
      },
      "source": [
        "h = .02\n",
        "cm = plt.cm.RdBu\n",
        "xx, yy = np.meshgrid(np.arange(0, 30, h),\n",
        "                        np.arange(0, 30, h))\n",
        "Z = clf.predict(np.c_[xx.ravel(), yy.ravel()])\n",
        "Z = Z.reshape(xx.shape)\n",
        "\n",
        "Z[Z =='ill'] = 1\n",
        "Z[Z =='healthy'] = 0\n",
        "\n",
        "plt.contourf(xx, yy, Z, alpha=.8)\n",
        "\n",
        "\n",
        "healthy_index = np.where(y_test=='healthy')\n",
        "ill_index = np.where(y_test=='ill')\n",
        "\n",
        "plt.scatter(X_test[healthy_index, 0], X_test[healthy_index, 1], marker='o', color='blue', label='healthy')\n",
        "plt.scatter(X_test[ill_index, 0], X_test[ill_index, 1], marker='x', color='red', label='ill')\n",
        "plt.xlabel('Washing hands (in sec)')\n",
        "plt.ylabel('Face touches (per hour)')\n",
        "plt.show()"
      ],
      "execution_count": 0,
      "outputs": [
        {
          "output_type": "display_data",
          "data": {
            "image/png": "[encoded data removed]",
            "text/plain": [
              "<Figure size 432x288 with 1 Axes>"
            ]
          },
          "metadata": {
            "tags": []
          }
        }
      ]
    },
    {
      "cell_type": "markdown",
      "metadata": {
        "id": "0cztx9KMme9q",
        "colab_type": "text"
      },
      "source": [
        "## **Finalising**\n",
        "### **Saving model and predictions**"
      ]
    },
    {
      "cell_type": "code",
      "metadata": {
        "id": "OB4atvRbmk84",
        "colab_type": "code",
        "colab": {}
      },
      "source": [
        "dump(clf, 'classifier.joblib') "
      ],
      "execution_count": 0,
      "outputs": []
    },
    {
      "cell_type": "markdown",
      "metadata": {
        "id": "O7kfArwbkmVJ",
        "colab_type": "text"
      },
      "source": [
        "# Exercise\n",
        "\n",
        "Read and try to implement an scaler in \n",
        "\n",
        "Note: fit and transform with the scaler on the training set and then just transform the test set\n",
        "\n",
        "https://scikit-learn.org/stable/modules/preprocessing.html"
      ]
    },
    {
      "cell_type": "code",
      "metadata": {
        "id": "Hd0ZVhypklQR",
        "colab_type": "code",
        "outputId": "848032e9-b0a5-4cdd-97fd-c79652f8f1e0",
        "colab": {
          "base_uri": "https://localhost:8080/",
          "height": 89
        }
      },
      "source": [
        "# Data preparation\n",
        "dataset = pd.read_csv('https://raw.githubusercontent.com/KHSDTC/Hackathon_Spring2020_Challenge/machine_learning/machine_learning/dataset.csv')\n",
        "\n",
        "features = ['washing hands', 'touching face']\n",
        "targets = ['outcome']\n",
        "\n",
        "X = dataset[features].values\n",
        "y = dataset[targets].values\n",
        "\n",
        "# Spliting data\n",
        "X_train, X_test, y_train, y_test = train_test_split(X, y, test_size=0.20, random_state=42)\n",
        "\n",
        "# Feature engineering\n",
        "# Check which transformer you want to apply\n",
        "# https://scikit-learn.org/stable/modules/classes.html#module-sklearn.preprocessing\n",
        "# #####################\n",
        "# CHANGE THE CODE HERE\n",
        "# #####################\n",
        "from sklearn.preprocessing import StandardScaler\n",
        "\n",
        "scaler = StandardScaler()\n",
        "X_train_scaled = scaler.fit_transform(X_train)\n",
        "X_test_scaled = scaler.transform(X_test)\n",
        "\n",
        "# #####################\n",
        "\n",
        "clf = LinearSVC(random_state=0)\n",
        "clf.fit(X_train_scaled, y_train)\n",
        "pred = clf.predict(X_test_scaled)\n",
        "\n",
        "acc = accuracy_score(y_test, pred)\n",
        "print(f'Model Accuracy with Feature Engineering: {acc}')"
      ],
      "execution_count": 38,
      "outputs": [
        {
          "output_type": "stream",
          "text": [
            "Model Accuracy with Feature Engineering: 0.925\n"
          ],
          "name": "stdout"
        },
        {
          "output_type": "stream",
          "text": [
            "/usr/local/lib/python3.6/dist-packages/sklearn/utils/validation.py:760: DataConversionWarning: A column-vector y was passed when a 1d array was expected. Please change the shape of y to (n_samples, ), for example using ravel().\n",
            "  y = column_or_1d(y, warn=True)\n"
          ],
          "name": "stderr"
        }
      ]
    },
    {
      "cell_type": "markdown",
      "metadata": {
        "id": "swWRFAMvBpPJ",
        "colab_type": "text"
      },
      "source": [
        "# References\n",
        "\n",
        "\n",
        "https://colab.research.google.com/github/jakevdp/PythonDataScienceHandbook/blob/master/notebooks/05.02-Introducing-Scikit-Learn.ipynb\n",
        "\n",
        "https://scikit-learn.org/stable/modules/classes.html"
      ]
    }
  ]
}