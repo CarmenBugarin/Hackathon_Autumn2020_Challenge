{
 "nbformat": 4,
 "nbformat_minor": 0,
 "metadata": {
  "kernelspec": {
   "display_name": "Python 3",
   "language": "python",
   "name": "python3"
  },
  "language_info": {
   "codemirror_mode": {
    "name": "ipython",
    "version": 3
   },
   "file_extension": ".py",
   "mimetype": "text/x-python",
   "name": "python",
   "nbconvert_exporter": "python",
   "pygments_lexer": "ipython3",
   "version": "3.7.4"
  },
  "colab": {
   "name": "Pandas_Working-with-Data_class.ipynb",
   "provenance": []
  }
 },
 "cells": [
  {
   "cell_type": "markdown",
   "metadata": {
    "id": "F6SH5vsKhBcX"
   },
   "source": [
    "<p><img alt=\"Pandas logo\" width=\"100\" src=\"https://github.com/KHSDTC/Hackathon_Autumn2020_Challenge/blob/test_notebooks/day1notebooks/figures/pandas_secondary.svg?raw=1\" align=\"left\" hspace=\"10px\" vspace=\"0px\"></p>\n",
    "\n",
    "<h1>Introduction to Working with Data with Pandas</h1>"
   ]
  },
  {
   "cell_type": "markdown",
   "metadata": {
    "id": "IEEcrHByhBca"
   },
   "source": [
    "## **Getting started**\n",
    "\n",
    "\n",
    "<b>pandas</b> (https://pandas.pydata.org/pandas-docs/stable/index.html#) is a software library written for the Python programming language which contains tools for data handling and analysis. Because of its easy-to-use design and broad functionality, it is one of the most popular libraries for data science in Python. It is largely built on top of a more generic and primitive package - NumPy.\n",
    "\n",
    "pandas's stable release version is 1.1.3 as of 5th October 2020 - 1.1.4 on 30th Oct\n",
    "\n",
    "Honestly, pandas's User Guide is a lot more comprehensive and much clearer, (https://pandas.pydata.org/docs/user_guide/index.html) it's worth spending some time there.\n",
    "\n",
    "<br><br>In the <b>\"pandas\"</b> part of this tutorial, we will cover:\n",
    "1. pandas data structures\n",
    "2. input\n",
    "3. data selection\n",
    "4. adding new data\n",
    "5. removing data\n",
    "6. data sorting\n",
    "7. output\n",
    "8. basic methods & attributes to retrieve info\n",
    "\n",
    "<br>In the <b>\"Working with Data\"</b> part of this tutorial, we will cover:\n",
    "9. exploratory data analysis\n",
    "10. combining data (concatenate, join, merge)\n",
    "11. cleaning data (data types, duplicate & missing data)\n",
    "\n",
    "---"
   ]
  },
  {
   "cell_type": "markdown",
   "metadata": {
    "id": "FkICW-xsFlK0"
   },
   "source": [
    "# **Basic programming skills** for data science\n",
    "For this tutorial, we will use the programming skills covered in the presentation.\n",
    "\n",
    "\n",
    "\n",
    "<center><img src=\"https://raw.githubusercontent.com/KHSDTC/Hackathon_Autumn2020_Challenge/master/day1notebooks/figures/data_science_skills.png\" width=\"400\"></center>\n",
    "<center>(https://blog.udacity.com/2014/11/data-science-job-skills.html)</center>\n",
    "\n",
    "<br>This tutorial aims to give an idea of **data intuition**, **statistics**, **data wrangling**, **visualisation**, and of course, Python/pandas as a popular **programming tool**."
   ]
  },
  {
   "cell_type": "markdown",
   "metadata": {
    "id": "We-4KjOEhBcb"
   },
   "source": [
    "**Recap**: Some important terms and concepts..."
   ]
  },
  {
   "cell_type": "markdown",
   "metadata": {
    "id": "Nbg98eRYhBcd"
   },
   "source": [
    "|terminology|description|\n",
    "|------|------|\n",
    "| <B> library/<br>package </B> | eg. pandas, we often like to set a 'local name' - pd<br><B>pd</B>.read_csv(filepath_or_buffer = \"123.csv\") |\n",
    "|<B> function </B> | pd.<B>read_csv(</B>filepath_or_buffer = \"123.csv\"<B>)</B>|\n",
    "|<B> parameter </B> | pd.read_csv(<B>filepath_or_buffer = </B>\"123.csv\")|\n",
    "|<B> argument </B> | a typical function will require at least an 'input' argument<br>pd.read_csv(filepath_or_buffer = <B>\"123.csv\"</B>)|\n",
    "|<B> variable </B> | <B>df</B> = pd.read_csv(filepath_or_buffer = \"123.csv\")|\n",
    "|<B> object </B> | <b>df</b> is now a 'pandas.DataFrame' object|\n",
    "|<B> attribute </B> | like an ID - df<B>.shape</B>|\n",
    "|<B> method </B> | what we want to do with the content - df<B>.head()</B>, df<B>.head(</B>n = 5<B>)</B>|\n"
   ]
  },
  {
   "cell_type": "markdown",
   "metadata": {
    "id": "AH-18XFhhBce"
   },
   "source": [
    " # Importing Python libraries\n",
    "As we saw in the Python course, it is a good practice first to import all the Python libraries that we are going to use in the script."
   ]
  },
  {
   "cell_type": "code",
   "metadata": {
    "id": "Q6Orqj3rhBcf"
   },
   "source": [
    "import matplotlib.pyplot as plt\n",
    "import numpy as np\n",
    "import pandas as pd"
   ],
   "execution_count": 1,
   "outputs": []
  },
  {
   "cell_type": "code",
   "metadata": {
    "id": "r1fYw644hBcm",
    "outputId": "ff428322-c5b6-45fe-ac32-cf9184276f85",
    "colab": {
     "base_uri": "https://localhost:8080/",
     "height": 35
    }
   },
   "source": [
    "# check pandas version\n",
    "pd.__version__"
   ],
   "execution_count": 2,
   "outputs": [
    {
     "output_type": "execute_result",
     "data": {
      "application/vnd.google.colaboratory.intrinsic+json": {
       "type": "string"
      },
      "text/plain": [
       "'1.1.4'"
      ]
     },
     "metadata": {
      "tags": []
     },
     "execution_count": 2
    }
   ]
  },
  {
   "cell_type": "markdown",
   "metadata": {
    "id": "vkiLlevjhBcq"
   },
   "source": [
    "## 1. pandas data structures\n",
    "pandas is useful because it brings in new data structures that are more convenient to work with. The 2 main structures that we use are:\n",
    "- <b>Series</b> - one-dimensional labelled array that holds data of any type\n",
    "- <b>DataFrame</b> - two-dimensional labelled data structure with columns of potentially different types, like a collection of Series\n"
   ]
  },
  {
   "cell_type": "code",
   "metadata": {
    "id": "TMaoMo0ThBcr"
   },
   "source": [
    "# Series() is a pandas function for generating a pandas Series object.\n",
    "# We can build a Series object from a list or an array.\n",
    "\n",
    "s = pd.Series([279569, 32906, 25852, 15359], \n",
    "              index = [\"a\", \"b\", \"c\", \"d\"])"
   ],
   "execution_count": 3,
   "outputs": []
  },
  {
   "cell_type": "code",
   "metadata": {
    "id": "4GkxWwiahBcu",
    "outputId": "86ff9df3-67ac-47f4-ccb9-c719b268673f",
    "colab": {
     "base_uri": "https://localhost:8080/"
    }
   },
   "source": [
    "# check what type of object is s\n",
    "type(s)"
   ],
   "execution_count": 4,
   "outputs": [
    {
     "output_type": "execute_result",
     "data": {
      "text/plain": [
       "pandas.core.series.Series"
      ]
     },
     "metadata": {
      "tags": []
     },
     "execution_count": 4
    }
   ]
  },
  {
   "cell_type": "code",
   "metadata": {
    "id": "tnapX--rhBcy",
    "outputId": "ed895301-638a-4cd6-e4aa-620bb2179ef0",
    "colab": {
     "base_uri": "https://localhost:8080/"
    }
   },
   "source": [
    "# print out content of s\n",
    "s"
   ],
   "execution_count": 5,
   "outputs": [
    {
     "output_type": "execute_result",
     "data": {
      "text/plain": [
       "a    279569\n",
       "b     32906\n",
       "c     25852\n",
       "d     15359\n",
       "dtype: int64"
      ]
     },
     "metadata": {
      "tags": []
     },
     "execution_count": 5
    }
   ]
  },
  {
   "cell_type": "code",
   "metadata": {
    "id": "le4foW6DhBc3"
   },
   "source": [
    "# Similarly, DataFrame() is a pandas function for making a DataFrame object.\n",
    "# We can build a DataFrame from a dictionary.\n",
    "\n",
    "data = {'region':['England','Scotland','Wales','Northern Ireland'],\n",
    "       'population':[55980000,5440000,3130000,1880000],\n",
    "       'cases':[279569, 32906, 25852, 15359],\n",
    "       'deaths':[36765,2530,1630,585]} # as of 6th October 2020\n",
    "df = pd.DataFrame(data,\n",
    "                 columns = ['region','population','cases','deaths'])\n"
   ],
   "execution_count": 6,
   "outputs": []
  },
  {
   "cell_type": "code",
   "metadata": {
    "id": "shk6DVsnhBc5",
    "outputId": "80755af6-da17-4c56-a59d-0213828ec15c",
    "colab": {
     "base_uri": "https://localhost:8080/"
    }
   },
   "source": [
    "type(df)"
   ],
   "execution_count": 7,
   "outputs": [
    {
     "output_type": "execute_result",
     "data": {
      "text/plain": [
       "pandas.core.frame.DataFrame"
      ]
     },
     "metadata": {
      "tags": []
     },
     "execution_count": 7
    }
   ]
  },
  {
   "cell_type": "code",
   "metadata": {
    "id": "kIw78V1ShBc8",
    "outputId": "4256bec7-ede4-481d-ccc5-59bba91deb9a",
    "colab": {
     "base_uri": "https://localhost:8080/",
     "height": 175
    }
   },
   "source": [
    "df"
   ],
   "execution_count": 8,
   "outputs": [
    {
     "output_type": "execute_result",
     "data": {
      "text/html": [
       "<div>\n",
       "<style scoped>\n",
       "    .dataframe tbody tr th:only-of-type {\n",
       "        vertical-align: middle;\n",
       "    }\n",
       "\n",
       "    .dataframe tbody tr th {\n",
       "        vertical-align: top;\n",
       "    }\n",
       "\n",
       "    .dataframe thead th {\n",
       "        text-align: right;\n",
       "    }\n",
       "</style>\n",
       "<table border=\"1\" class=\"dataframe\">\n",
       "  <thead>\n",
       "    <tr style=\"text-align: right;\">\n",
       "      <th></th>\n",
       "      <th>region</th>\n",
       "      <th>population</th>\n",
       "      <th>cases</th>\n",
       "      <th>deaths</th>\n",
       "    </tr>\n",
       "  </thead>\n",
       "  <tbody>\n",
       "    <tr>\n",
       "      <th>0</th>\n",
       "      <td>England</td>\n",
       "      <td>55980000</td>\n",
       "      <td>279569</td>\n",
       "      <td>36765</td>\n",
       "    </tr>\n",
       "    <tr>\n",
       "      <th>1</th>\n",
       "      <td>Scotland</td>\n",
       "      <td>5440000</td>\n",
       "      <td>32906</td>\n",
       "      <td>2530</td>\n",
       "    </tr>\n",
       "    <tr>\n",
       "      <th>2</th>\n",
       "      <td>Wales</td>\n",
       "      <td>3130000</td>\n",
       "      <td>25852</td>\n",
       "      <td>1630</td>\n",
       "    </tr>\n",
       "    <tr>\n",
       "      <th>3</th>\n",
       "      <td>Northern Ireland</td>\n",
       "      <td>1880000</td>\n",
       "      <td>15359</td>\n",
       "      <td>585</td>\n",
       "    </tr>\n",
       "  </tbody>\n",
       "</table>\n",
       "</div>"
      ],
      "text/plain": [
       "             region  population   cases  deaths\n",
       "0           England    55980000  279569   36765\n",
       "1          Scotland     5440000   32906    2530\n",
       "2             Wales     3130000   25852    1630\n",
       "3  Northern Ireland     1880000   15359     585"
      ]
     },
     "metadata": {
      "tags": []
     },
     "execution_count": 8
    }
   ]
  },
  {
   "cell_type": "code",
   "metadata": {
    "id": "ca0EUgZbhBdA"
   },
   "source": [
    "# we can also use a list of lists instead of a dictionary\n",
    "# for a different input data format.\n",
    "\n",
    "df2 = pd.DataFrame([['England',55980000,279569,36765],\n",
    "                   ['Scotland',5440000,32906,2530],\n",
    "                   ['Wales',3130000,25852,1630],\n",
    "                   ['Northern Ireland',1880000,15359,585]],\n",
    "                  columns = ['region','population','cases','deaths'])"
   ],
   "execution_count": 9,
   "outputs": []
  },
  {
   "cell_type": "code",
   "metadata": {
    "id": "23sEimm_hBdD",
    "outputId": "3b6c9276-88d8-4671-9b2f-111cb3846a86",
    "colab": {
     "base_uri": "https://localhost:8080/",
     "height": 175
    }
   },
   "source": [
    "df2"
   ],
   "execution_count": 10,
   "outputs": [
    {
     "output_type": "execute_result",
     "data": {
      "text/html": [
       "<div>\n",
       "<style scoped>\n",
       "    .dataframe tbody tr th:only-of-type {\n",
       "        vertical-align: middle;\n",
       "    }\n",
       "\n",
       "    .dataframe tbody tr th {\n",
       "        vertical-align: top;\n",
       "    }\n",
       "\n",
       "    .dataframe thead th {\n",
       "        text-align: right;\n",
       "    }\n",
       "</style>\n",
       "<table border=\"1\" class=\"dataframe\">\n",
       "  <thead>\n",
       "    <tr style=\"text-align: right;\">\n",
       "      <th></th>\n",
       "      <th>region</th>\n",
       "      <th>population</th>\n",
       "      <th>cases</th>\n",
       "      <th>deaths</th>\n",
       "    </tr>\n",
       "  </thead>\n",
       "  <tbody>\n",
       "    <tr>\n",
       "      <th>0</th>\n",
       "      <td>England</td>\n",
       "      <td>55980000</td>\n",
       "      <td>279569</td>\n",
       "      <td>36765</td>\n",
       "    </tr>\n",
       "    <tr>\n",
       "      <th>1</th>\n",
       "      <td>Scotland</td>\n",
       "      <td>5440000</td>\n",
       "      <td>32906</td>\n",
       "      <td>2530</td>\n",
       "    </tr>\n",
       "    <tr>\n",
       "      <th>2</th>\n",
       "      <td>Wales</td>\n",
       "      <td>3130000</td>\n",
       "      <td>25852</td>\n",
       "      <td>1630</td>\n",
       "    </tr>\n",
       "    <tr>\n",
       "      <th>3</th>\n",
       "      <td>Northern Ireland</td>\n",
       "      <td>1880000</td>\n",
       "      <td>15359</td>\n",
       "      <td>585</td>\n",
       "    </tr>\n",
       "  </tbody>\n",
       "</table>\n",
       "</div>"
      ],
      "text/plain": [
       "             region  population   cases  deaths\n",
       "0           England    55980000  279569   36765\n",
       "1          Scotland     5440000   32906    2530\n",
       "2             Wales     3130000   25852    1630\n",
       "3  Northern Ireland     1880000   15359     585"
      ]
     },
     "metadata": {
      "tags": []
     },
     "execution_count": 10
    }
   ]
  },
  {
   "cell_type": "markdown",
   "metadata": {
    "id": "EoXys23qhBdG"
   },
   "source": [
    "## 2. Input\n",
    "pandas comes with several import functions that can read data from certain types of files directly into a pandas DataFrame object. The most common file type is a 'comma-separated values' (csv) file.\n",
    "\n",
    "Now, let's **download and import** the dataset, then have a look at the data."
   ]
  },
  {
   "cell_type": "code",
   "metadata": {
    "scrolled": true,
    "id": "ktjpUs1AhBdH",
    "outputId": "37c5eed6-92f2-4513-fe04-4dda609000ed",
    "colab": {
     "base_uri": "https://localhost:8080/"
    }
   },
   "source": [
    "dataset_url = 'https://raw.githubusercontent.com/KHSDTC/Hackathon_Autumn2020_Challenge/master/day1notebooks/NHANES_1718_ToyData_modified.csv'\n",
    "\n",
    "dataset = pd.read_csv(dataset_url)\n",
    "print(dataset)"
   ],
   "execution_count": 11,
   "outputs": [
    {
     "output_type": "stream",
     "text": [
      "          ID gender  ...  donte_blood_past_yr drink_dairy_milk\n",
      "0      93705      F  ...                   no               no\n",
      "1      93708      F  ...                   no              yes\n",
      "2      93711      M  ...                   no               no\n",
      "3      93713      M  ...                   no              yes\n",
      "4      93714      F  ...                   no              yes\n",
      "...      ...    ...  ...                  ...              ...\n",
      "4748  102949      M  ...                   no              yes\n",
      "4749  102952      F  ...                   no              yes\n",
      "4750  102953      M  ...                   no              yes\n",
      "4751  102954      F  ...                   no              yes\n",
      "4752  102956      M  ...                   no               no\n",
      "\n",
      "[4753 rows x 18 columns]\n"
     ],
     "name": "stdout"
    }
   ]
  },
  {
   "cell_type": "markdown",
   "metadata": {
    "id": "jkyrDl0l2gVe"
   },
   "source": [
    "<p><img alt=\"Scikit-learn logo\" height=\"45px\" src=\"https://raw.githubusercontent.com/KHSDTC/Hackathon_Autumn2020_Challenge/master/day1notebooks/figures/data.png\" align=\"left\" hspace=\"10px\" vspace=\"0px\"></p>\n",
    "\n",
    "<br><br><br>This dataset is compiled from US National Health and Nutrition Examination Survey (NHANES).\n",
    "(https://wwwn.cdc.gov/nchs/nhanes/continuousnhanes/default.aspx?BeginYear=2017)\n",
    "<br>It has been modified for the purpose of this tutorial.\n",
    "\n",
    "In our dataset, we have data from 4753 people telling their:\n",
    "\n",
    "*   demographic background;\n",
    "*   bodily measures;\n",
    "*   answers to health- and habit-related questions."
   ]
  },
  {
   "cell_type": "code",
   "metadata": {
    "id": "ZsyjWSjnhBdL",
    "outputId": "9cd53b4a-8064-424c-de6e-94fcac8acff0",
    "colab": {
     "base_uri": "https://localhost:8080/"
    }
   },
   "source": [
    "# there are many more parameters, check them out in the documentation.\n",
    "# we can use the help() function.\n",
    "\n",
    "help(pd.read_csv)"
   ],
   "execution_count": 12,
   "outputs": [
    {
     "output_type": "stream",
     "text": [
      "Help on function read_csv in module pandas.io.parsers:\n",
      "\n",
      "read_csv(filepath_or_buffer:Union[str, pathlib.Path, IO[~AnyStr]], sep=',', delimiter=None, header='infer', names=None, index_col=None, usecols=None, squeeze=False, prefix=None, mangle_dupe_cols=True, dtype=None, engine=None, converters=None, true_values=None, false_values=None, skipinitialspace=False, skiprows=None, skipfooter=0, nrows=None, na_values=None, keep_default_na=True, na_filter=True, verbose=False, skip_blank_lines=True, parse_dates=False, infer_datetime_format=False, keep_date_col=False, date_parser=None, dayfirst=False, cache_dates=True, iterator=False, chunksize=None, compression='infer', thousands=None, decimal:str='.', lineterminator=None, quotechar='\"', quoting=0, doublequote=True, escapechar=None, comment=None, encoding=None, dialect=None, error_bad_lines=True, warn_bad_lines=True, delim_whitespace=False, low_memory=True, memory_map=False, float_precision=None)\n",
      "    Read a comma-separated values (csv) file into DataFrame.\n",
      "    \n",
      "    Also supports optionally iterating or breaking of the file\n",
      "    into chunks.\n",
      "    \n",
      "    Additional help can be found in the online docs for\n",
      "    `IO Tools <https://pandas.pydata.org/pandas-docs/stable/user_guide/io.html>`_.\n",
      "    \n",
      "    Parameters\n",
      "    ----------\n",
      "    filepath_or_buffer : str, path object or file-like object\n",
      "        Any valid string path is acceptable. The string could be a URL. Valid\n",
      "        URL schemes include http, ftp, s3, gs, and file. For file URLs, a host is\n",
      "        expected. A local file could be: file://localhost/path/to/table.csv.\n",
      "    \n",
      "        If you want to pass in a path object, pandas accepts any ``os.PathLike``.\n",
      "    \n",
      "        By file-like object, we refer to objects with a ``read()`` method, such as\n",
      "        a file handler (e.g. via builtin ``open`` function) or ``StringIO``.\n",
      "    sep : str, default ','\n",
      "        Delimiter to use. If sep is None, the C engine cannot automatically detect\n",
      "        the separator, but the Python parsing engine can, meaning the latter will\n",
      "        be used and automatically detect the separator by Python's builtin sniffer\n",
      "        tool, ``csv.Sniffer``. In addition, separators longer than 1 character and\n",
      "        different from ``'\\s+'`` will be interpreted as regular expressions and\n",
      "        will also force the use of the Python parsing engine. Note that regex\n",
      "        delimiters are prone to ignoring quoted data. Regex example: ``'\\r\\t'``.\n",
      "    delimiter : str, default ``None``\n",
      "        Alias for sep.\n",
      "    header : int, list of int, default 'infer'\n",
      "        Row number(s) to use as the column names, and the start of the\n",
      "        data.  Default behavior is to infer the column names: if no names\n",
      "        are passed the behavior is identical to ``header=0`` and column\n",
      "        names are inferred from the first line of the file, if column\n",
      "        names are passed explicitly then the behavior is identical to\n",
      "        ``header=None``. Explicitly pass ``header=0`` to be able to\n",
      "        replace existing names. The header can be a list of integers that\n",
      "        specify row locations for a multi-index on the columns\n",
      "        e.g. [0,1,3]. Intervening rows that are not specified will be\n",
      "        skipped (e.g. 2 in this example is skipped). Note that this\n",
      "        parameter ignores commented lines and empty lines if\n",
      "        ``skip_blank_lines=True``, so ``header=0`` denotes the first line of\n",
      "        data rather than the first line of the file.\n",
      "    names : array-like, optional\n",
      "        List of column names to use. If the file contains a header row,\n",
      "        then you should explicitly pass ``header=0`` to override the column names.\n",
      "        Duplicates in this list are not allowed.\n",
      "    index_col : int, str, sequence of int / str, or False, default ``None``\n",
      "      Column(s) to use as the row labels of the ``DataFrame``, either given as\n",
      "      string name or column index. If a sequence of int / str is given, a\n",
      "      MultiIndex is used.\n",
      "    \n",
      "      Note: ``index_col=False`` can be used to force pandas to *not* use the first\n",
      "      column as the index, e.g. when you have a malformed file with delimiters at\n",
      "      the end of each line.\n",
      "    usecols : list-like or callable, optional\n",
      "        Return a subset of the columns. If list-like, all elements must either\n",
      "        be positional (i.e. integer indices into the document columns) or strings\n",
      "        that correspond to column names provided either by the user in `names` or\n",
      "        inferred from the document header row(s). For example, a valid list-like\n",
      "        `usecols` parameter would be ``[0, 1, 2]`` or ``['foo', 'bar', 'baz']``.\n",
      "        Element order is ignored, so ``usecols=[0, 1]`` is the same as ``[1, 0]``.\n",
      "        To instantiate a DataFrame from ``data`` with element order preserved use\n",
      "        ``pd.read_csv(data, usecols=['foo', 'bar'])[['foo', 'bar']]`` for columns\n",
      "        in ``['foo', 'bar']`` order or\n",
      "        ``pd.read_csv(data, usecols=['foo', 'bar'])[['bar', 'foo']]``\n",
      "        for ``['bar', 'foo']`` order.\n",
      "    \n",
      "        If callable, the callable function will be evaluated against the column\n",
      "        names, returning names where the callable function evaluates to True. An\n",
      "        example of a valid callable argument would be ``lambda x: x.upper() in\n",
      "        ['AAA', 'BBB', 'DDD']``. Using this parameter results in much faster\n",
      "        parsing time and lower memory usage.\n",
      "    squeeze : bool, default False\n",
      "        If the parsed data only contains one column then return a Series.\n",
      "    prefix : str, optional\n",
      "        Prefix to add to column numbers when no header, e.g. 'X' for X0, X1, ...\n",
      "    mangle_dupe_cols : bool, default True\n",
      "        Duplicate columns will be specified as 'X', 'X.1', ...'X.N', rather than\n",
      "        'X'...'X'. Passing in False will cause data to be overwritten if there\n",
      "        are duplicate names in the columns.\n",
      "    dtype : Type name or dict of column -> type, optional\n",
      "        Data type for data or columns. E.g. {'a': np.float64, 'b': np.int32,\n",
      "        'c': 'Int64'}\n",
      "        Use `str` or `object` together with suitable `na_values` settings\n",
      "        to preserve and not interpret dtype.\n",
      "        If converters are specified, they will be applied INSTEAD\n",
      "        of dtype conversion.\n",
      "    engine : {'c', 'python'}, optional\n",
      "        Parser engine to use. The C engine is faster while the python engine is\n",
      "        currently more feature-complete.\n",
      "    converters : dict, optional\n",
      "        Dict of functions for converting values in certain columns. Keys can either\n",
      "        be integers or column labels.\n",
      "    true_values : list, optional\n",
      "        Values to consider as True.\n",
      "    false_values : list, optional\n",
      "        Values to consider as False.\n",
      "    skipinitialspace : bool, default False\n",
      "        Skip spaces after delimiter.\n",
      "    skiprows : list-like, int or callable, optional\n",
      "        Line numbers to skip (0-indexed) or number of lines to skip (int)\n",
      "        at the start of the file.\n",
      "    \n",
      "        If callable, the callable function will be evaluated against the row\n",
      "        indices, returning True if the row should be skipped and False otherwise.\n",
      "        An example of a valid callable argument would be ``lambda x: x in [0, 2]``.\n",
      "    skipfooter : int, default 0\n",
      "        Number of lines at bottom of file to skip (Unsupported with engine='c').\n",
      "    nrows : int, optional\n",
      "        Number of rows of file to read. Useful for reading pieces of large files.\n",
      "    na_values : scalar, str, list-like, or dict, optional\n",
      "        Additional strings to recognize as NA/NaN. If dict passed, specific\n",
      "        per-column NA values.  By default the following values are interpreted as\n",
      "        NaN: '', '#N/A', '#N/A N/A', '#NA', '-1.#IND', '-1.#QNAN', '-NaN', '-nan',\n",
      "        '1.#IND', '1.#QNAN', '<NA>', 'N/A', 'NA', 'NULL', 'NaN', 'n/a',\n",
      "        'nan', 'null'.\n",
      "    keep_default_na : bool, default True\n",
      "        Whether or not to include the default NaN values when parsing the data.\n",
      "        Depending on whether `na_values` is passed in, the behavior is as follows:\n",
      "    \n",
      "        * If `keep_default_na` is True, and `na_values` are specified, `na_values`\n",
      "          is appended to the default NaN values used for parsing.\n",
      "        * If `keep_default_na` is True, and `na_values` are not specified, only\n",
      "          the default NaN values are used for parsing.\n",
      "        * If `keep_default_na` is False, and `na_values` are specified, only\n",
      "          the NaN values specified `na_values` are used for parsing.\n",
      "        * If `keep_default_na` is False, and `na_values` are not specified, no\n",
      "          strings will be parsed as NaN.\n",
      "    \n",
      "        Note that if `na_filter` is passed in as False, the `keep_default_na` and\n",
      "        `na_values` parameters will be ignored.\n",
      "    na_filter : bool, default True\n",
      "        Detect missing value markers (empty strings and the value of na_values). In\n",
      "        data without any NAs, passing na_filter=False can improve the performance\n",
      "        of reading a large file.\n",
      "    verbose : bool, default False\n",
      "        Indicate number of NA values placed in non-numeric columns.\n",
      "    skip_blank_lines : bool, default True\n",
      "        If True, skip over blank lines rather than interpreting as NaN values.\n",
      "    parse_dates : bool or list of int or names or list of lists or dict, default False\n",
      "        The behavior is as follows:\n",
      "    \n",
      "        * boolean. If True -> try parsing the index.\n",
      "        * list of int or names. e.g. If [1, 2, 3] -> try parsing columns 1, 2, 3\n",
      "          each as a separate date column.\n",
      "        * list of lists. e.g.  If [[1, 3]] -> combine columns 1 and 3 and parse as\n",
      "          a single date column.\n",
      "        * dict, e.g. {'foo' : [1, 3]} -> parse columns 1, 3 as date and call\n",
      "          result 'foo'\n",
      "    \n",
      "        If a column or index cannot be represented as an array of datetimes,\n",
      "        say because of an unparseable value or a mixture of timezones, the column\n",
      "        or index will be returned unaltered as an object data type. For\n",
      "        non-standard datetime parsing, use ``pd.to_datetime`` after\n",
      "        ``pd.read_csv``. To parse an index or column with a mixture of timezones,\n",
      "        specify ``date_parser`` to be a partially-applied\n",
      "        :func:`pandas.to_datetime` with ``utc=True``. See\n",
      "        :ref:`io.csv.mixed_timezones` for more.\n",
      "    \n",
      "        Note: A fast-path exists for iso8601-formatted dates.\n",
      "    infer_datetime_format : bool, default False\n",
      "        If True and `parse_dates` is enabled, pandas will attempt to infer the\n",
      "        format of the datetime strings in the columns, and if it can be inferred,\n",
      "        switch to a faster method of parsing them. In some cases this can increase\n",
      "        the parsing speed by 5-10x.\n",
      "    keep_date_col : bool, default False\n",
      "        If True and `parse_dates` specifies combining multiple columns then\n",
      "        keep the original columns.\n",
      "    date_parser : function, optional\n",
      "        Function to use for converting a sequence of string columns to an array of\n",
      "        datetime instances. The default uses ``dateutil.parser.parser`` to do the\n",
      "        conversion. Pandas will try to call `date_parser` in three different ways,\n",
      "        advancing to the next if an exception occurs: 1) Pass one or more arrays\n",
      "        (as defined by `parse_dates`) as arguments; 2) concatenate (row-wise) the\n",
      "        string values from the columns defined by `parse_dates` into a single array\n",
      "        and pass that; and 3) call `date_parser` once for each row using one or\n",
      "        more strings (corresponding to the columns defined by `parse_dates`) as\n",
      "        arguments.\n",
      "    dayfirst : bool, default False\n",
      "        DD/MM format dates, international and European format.\n",
      "    cache_dates : bool, default True\n",
      "        If True, use a cache of unique, converted dates to apply the datetime\n",
      "        conversion. May produce significant speed-up when parsing duplicate\n",
      "        date strings, especially ones with timezone offsets.\n",
      "    \n",
      "        .. versionadded:: 0.25.0\n",
      "    iterator : bool, default False\n",
      "        Return TextFileReader object for iteration or getting chunks with\n",
      "        ``get_chunk()``.\n",
      "    chunksize : int, optional\n",
      "        Return TextFileReader object for iteration.\n",
      "        See the `IO Tools docs\n",
      "        <https://pandas.pydata.org/pandas-docs/stable/io.html#io-chunking>`_\n",
      "        for more information on ``iterator`` and ``chunksize``.\n",
      "    compression : {'infer', 'gzip', 'bz2', 'zip', 'xz', None}, default 'infer'\n",
      "        For on-the-fly decompression of on-disk data. If 'infer' and\n",
      "        `filepath_or_buffer` is path-like, then detect compression from the\n",
      "        following extensions: '.gz', '.bz2', '.zip', or '.xz' (otherwise no\n",
      "        decompression). If using 'zip', the ZIP file must contain only one data\n",
      "        file to be read in. Set to None for no decompression.\n",
      "    thousands : str, optional\n",
      "        Thousands separator.\n",
      "    decimal : str, default '.'\n",
      "        Character to recognize as decimal point (e.g. use ',' for European data).\n",
      "    lineterminator : str (length 1), optional\n",
      "        Character to break file into lines. Only valid with C parser.\n",
      "    quotechar : str (length 1), optional\n",
      "        The character used to denote the start and end of a quoted item. Quoted\n",
      "        items can include the delimiter and it will be ignored.\n",
      "    quoting : int or csv.QUOTE_* instance, default 0\n",
      "        Control field quoting behavior per ``csv.QUOTE_*`` constants. Use one of\n",
      "        QUOTE_MINIMAL (0), QUOTE_ALL (1), QUOTE_NONNUMERIC (2) or QUOTE_NONE (3).\n",
      "    doublequote : bool, default ``True``\n",
      "       When quotechar is specified and quoting is not ``QUOTE_NONE``, indicate\n",
      "       whether or not to interpret two consecutive quotechar elements INSIDE a\n",
      "       field as a single ``quotechar`` element.\n",
      "    escapechar : str (length 1), optional\n",
      "        One-character string used to escape other characters.\n",
      "    comment : str, optional\n",
      "        Indicates remainder of line should not be parsed. If found at the beginning\n",
      "        of a line, the line will be ignored altogether. This parameter must be a\n",
      "        single character. Like empty lines (as long as ``skip_blank_lines=True``),\n",
      "        fully commented lines are ignored by the parameter `header` but not by\n",
      "        `skiprows`. For example, if ``comment='#'``, parsing\n",
      "        ``#empty\\na,b,c\\n1,2,3`` with ``header=0`` will result in 'a,b,c' being\n",
      "        treated as the header.\n",
      "    encoding : str, optional\n",
      "        Encoding to use for UTF when reading/writing (ex. 'utf-8'). `List of Python\n",
      "        standard encodings\n",
      "        <https://docs.python.org/3/library/codecs.html#standard-encodings>`_ .\n",
      "    dialect : str or csv.Dialect, optional\n",
      "        If provided, this parameter will override values (default or not) for the\n",
      "        following parameters: `delimiter`, `doublequote`, `escapechar`,\n",
      "        `skipinitialspace`, `quotechar`, and `quoting`. If it is necessary to\n",
      "        override values, a ParserWarning will be issued. See csv.Dialect\n",
      "        documentation for more details.\n",
      "    error_bad_lines : bool, default True\n",
      "        Lines with too many fields (e.g. a csv line with too many commas) will by\n",
      "        default cause an exception to be raised, and no DataFrame will be returned.\n",
      "        If False, then these \"bad lines\" will dropped from the DataFrame that is\n",
      "        returned.\n",
      "    warn_bad_lines : bool, default True\n",
      "        If error_bad_lines is False, and warn_bad_lines is True, a warning for each\n",
      "        \"bad line\" will be output.\n",
      "    delim_whitespace : bool, default False\n",
      "        Specifies whether or not whitespace (e.g. ``' '`` or ``'    '``) will be\n",
      "        used as the sep. Equivalent to setting ``sep='\\s+'``. If this option\n",
      "        is set to True, nothing should be passed in for the ``delimiter``\n",
      "        parameter.\n",
      "    low_memory : bool, default True\n",
      "        Internally process the file in chunks, resulting in lower memory use\n",
      "        while parsing, but possibly mixed type inference.  To ensure no mixed\n",
      "        types either set False, or specify the type with the `dtype` parameter.\n",
      "        Note that the entire file is read into a single DataFrame regardless,\n",
      "        use the `chunksize` or `iterator` parameter to return the data in chunks.\n",
      "        (Only valid with C parser).\n",
      "    memory_map : bool, default False\n",
      "        If a filepath is provided for `filepath_or_buffer`, map the file object\n",
      "        directly onto memory and access the data directly from there. Using this\n",
      "        option can improve performance because there is no longer any I/O overhead.\n",
      "    float_precision : str, optional\n",
      "        Specifies which converter the C engine should use for floating-point\n",
      "        values. The options are `None` for the ordinary converter,\n",
      "        `high` for the high-precision converter, and `round_trip` for the\n",
      "        round-trip converter.\n",
      "    \n",
      "    Returns\n",
      "    -------\n",
      "    DataFrame or TextParser\n",
      "        A comma-separated values (csv) file is returned as two-dimensional\n",
      "        data structure with labeled axes.\n",
      "    \n",
      "    See Also\n",
      "    --------\n",
      "    DataFrame.to_csv : Write DataFrame to a comma-separated values (csv) file.\n",
      "    read_csv : Read a comma-separated values (csv) file into DataFrame.\n",
      "    read_fwf : Read a table of fixed-width formatted lines into DataFrame.\n",
      "    \n",
      "    Examples\n",
      "    --------\n",
      "    >>> pd.read_csv('data.csv')  # doctest: +SKIP\n",
      "\n"
     ],
     "name": "stdout"
    }
   ]
  },
  {
   "cell_type": "code",
   "metadata": {
    "scrolled": true,
    "id": "NOI9DDJWhBdO",
    "outputId": "ed1c6dfe-4e1e-42b8-b1c9-031a4c482c50",
    "colab": {
     "base_uri": "https://localhost:8080/"
    }
   },
   "source": [
    "# for example, we can set the index when importing data\n",
    "dataset = pd.read_csv(dataset_url, index_col='ID')\n",
    "print(dataset)"
   ],
   "execution_count": 13,
   "outputs": [
    {
     "output_type": "stream",
     "text": [
      "       gender  age  ... donte_blood_past_yr  drink_dairy_milk\n",
      "ID                  ...                                      \n",
      "93705       F   66  ...                  no                no\n",
      "93708       F   66  ...                  no               yes\n",
      "93711       M   56  ...                  no                no\n",
      "93713       M   67  ...                  no               yes\n",
      "93714       F   54  ...                  no               yes\n",
      "...       ...  ...  ...                 ...               ...\n",
      "102949      M   33  ...                  no               yes\n",
      "102952      F   70  ...                  no               yes\n",
      "102953      M   42  ...                  no               yes\n",
      "102954      F   41  ...                  no               yes\n",
      "102956      M   38  ...                  no                no\n",
      "\n",
      "[4753 rows x 17 columns]\n"
     ],
     "name": "stdout"
    }
   ]
  },
  {
   "cell_type": "markdown",
   "metadata": {
    "id": "V8BLcXnwhBdS"
   },
   "source": [
    "## 3. Data selection\n",
    "Often we want to get a single element or a small subset from the table, instead of listing the whole table and scroll, which doesn't make sense with huge datasets. pandas has its own way to select/slice from a Series or DataFrame object."
   ]
  },
  {
   "cell_type": "markdown",
   "metadata": {
    "id": "3FtRPdMvhBdS"
   },
   "source": [
    "**DataFrame (columns)**"
   ]
  },
  {
   "cell_type": "markdown",
   "metadata": {
    "id": "4EyjhCPWhBdT"
   },
   "source": [
    "|description|code|\n",
    "|------|------|\n",
    "|by column name|dataset['age']|\n",
    "|multiple column names|dataset[['age','gender']]|"
   ]
  },
  {
   "cell_type": "code",
   "metadata": {
    "id": "qzQDRnHyhBdT",
    "outputId": "7330e72f-6c7a-4415-d5dc-06b0e184dd17",
    "colab": {
     "base_uri": "https://localhost:8080/",
     "height": 0
    }
   },
   "source": [
    "# try it yourself\n",
    "dataset[['age','gender']]"
   ],
   "execution_count": 14,
   "outputs": [
    {
     "output_type": "execute_result",
     "data": {
      "text/html": [
       "<div>\n",
       "<style scoped>\n",
       "    .dataframe tbody tr th:only-of-type {\n",
       "        vertical-align: middle;\n",
       "    }\n",
       "\n",
       "    .dataframe tbody tr th {\n",
       "        vertical-align: top;\n",
       "    }\n",
       "\n",
       "    .dataframe thead th {\n",
       "        text-align: right;\n",
       "    }\n",
       "</style>\n",
       "<table border=\"1\" class=\"dataframe\">\n",
       "  <thead>\n",
       "    <tr style=\"text-align: right;\">\n",
       "      <th></th>\n",
       "      <th>age</th>\n",
       "      <th>gender</th>\n",
       "    </tr>\n",
       "    <tr>\n",
       "      <th>ID</th>\n",
       "      <th></th>\n",
       "      <th></th>\n",
       "    </tr>\n",
       "  </thead>\n",
       "  <tbody>\n",
       "    <tr>\n",
       "      <th>93705</th>\n",
       "      <td>66</td>\n",
       "      <td>F</td>\n",
       "    </tr>\n",
       "    <tr>\n",
       "      <th>93708</th>\n",
       "      <td>66</td>\n",
       "      <td>F</td>\n",
       "    </tr>\n",
       "    <tr>\n",
       "      <th>93711</th>\n",
       "      <td>56</td>\n",
       "      <td>M</td>\n",
       "    </tr>\n",
       "    <tr>\n",
       "      <th>93713</th>\n",
       "      <td>67</td>\n",
       "      <td>M</td>\n",
       "    </tr>\n",
       "    <tr>\n",
       "      <th>93714</th>\n",
       "      <td>54</td>\n",
       "      <td>F</td>\n",
       "    </tr>\n",
       "    <tr>\n",
       "      <th>...</th>\n",
       "      <td>...</td>\n",
       "      <td>...</td>\n",
       "    </tr>\n",
       "    <tr>\n",
       "      <th>102949</th>\n",
       "      <td>33</td>\n",
       "      <td>M</td>\n",
       "    </tr>\n",
       "    <tr>\n",
       "      <th>102952</th>\n",
       "      <td>70</td>\n",
       "      <td>F</td>\n",
       "    </tr>\n",
       "    <tr>\n",
       "      <th>102953</th>\n",
       "      <td>42</td>\n",
       "      <td>M</td>\n",
       "    </tr>\n",
       "    <tr>\n",
       "      <th>102954</th>\n",
       "      <td>41</td>\n",
       "      <td>F</td>\n",
       "    </tr>\n",
       "    <tr>\n",
       "      <th>102956</th>\n",
       "      <td>38</td>\n",
       "      <td>M</td>\n",
       "    </tr>\n",
       "  </tbody>\n",
       "</table>\n",
       "<p>4753 rows × 2 columns</p>\n",
       "</div>"
      ],
      "text/plain": [
       "        age gender\n",
       "ID                \n",
       "93705    66      F\n",
       "93708    66      F\n",
       "93711    56      M\n",
       "93713    67      M\n",
       "93714    54      F\n",
       "...     ...    ...\n",
       "102949   33      M\n",
       "102952   70      F\n",
       "102953   42      M\n",
       "102954   41      F\n",
       "102956   38      M\n",
       "\n",
       "[4753 rows x 2 columns]"
      ]
     },
     "metadata": {
      "tags": []
     },
     "execution_count": 14
    }
   ]
  },
  {
   "cell_type": "markdown",
   "metadata": {
    "id": "IrAzOclhhBdW"
   },
   "source": [
    "**DataFrame (rows)**"
   ]
  },
  {
   "cell_type": "markdown",
   "metadata": {
    "id": "0kvMPIvnhBdW"
   },
   "source": [
    "|description|code|\n",
    "|------|------|\n",
    "|by position using .iloc (eg. start 2nd end before 4th) |dataset.iloc[1:3]|\n",
    "|by index/name using .loc (eg. 93705 if ID is set as index)|dataset.loc[[93705]]|\n",
    "|rows that meet a logical criteria|dataset[dataset.age > 75]|\n",
    "|first n=3 rows|dataset.head(n=3)|\n",
    "|last n=3 rows|dataset.tail(n=3)|\n",
    "|random fraction of rows|dataset.sample(frac=0.001)|\n",
    "|random n rows|dataset.sample(n=3)|\n",
    "|select and order top n entries|dataset.nlargest(3,'height_cm')|\n",
    "|select and order bottom n entries|dataset.nsmallest(3,'height_cm')|"
   ]
  },
  {
   "cell_type": "code",
   "metadata": {
    "id": "b6k-vkEEhBdX",
    "outputId": "7ef781ee-93cd-400d-a57d-7112feff081a",
    "colab": {
     "base_uri": "https://localhost:8080/",
     "height": 0
    }
   },
   "source": [
    "# try it yourself\n",
    "dataset.loc[[93705]]"
   ],
   "execution_count": 15,
   "outputs": [
    {
     "output_type": "execute_result",
     "data": {
      "text/html": [
       "<div>\n",
       "<style scoped>\n",
       "    .dataframe tbody tr th:only-of-type {\n",
       "        vertical-align: middle;\n",
       "    }\n",
       "\n",
       "    .dataframe tbody tr th {\n",
       "        vertical-align: top;\n",
       "    }\n",
       "\n",
       "    .dataframe thead th {\n",
       "        text-align: right;\n",
       "    }\n",
       "</style>\n",
       "<table border=\"1\" class=\"dataframe\">\n",
       "  <thead>\n",
       "    <tr style=\"text-align: right;\">\n",
       "      <th></th>\n",
       "      <th>gender</th>\n",
       "      <th>age</th>\n",
       "      <th>race</th>\n",
       "      <th>DMDEDUC2</th>\n",
       "      <th>household_size</th>\n",
       "      <th>height_cm</th>\n",
       "      <th>weight_kg</th>\n",
       "      <th>freq_worried</th>\n",
       "      <th>freq_depressed</th>\n",
       "      <th>controlling_weight</th>\n",
       "      <th>increasing_exercise</th>\n",
       "      <th>reducing_diet_salt</th>\n",
       "      <th>reducing_diet_fat</th>\n",
       "      <th>lifetime_cigarettes_100+</th>\n",
       "      <th>last_visit_dentist</th>\n",
       "      <th>donte_blood_past_yr</th>\n",
       "      <th>drink_dairy_milk</th>\n",
       "    </tr>\n",
       "    <tr>\n",
       "      <th>ID</th>\n",
       "      <th></th>\n",
       "      <th></th>\n",
       "      <th></th>\n",
       "      <th></th>\n",
       "      <th></th>\n",
       "      <th></th>\n",
       "      <th></th>\n",
       "      <th></th>\n",
       "      <th></th>\n",
       "      <th></th>\n",
       "      <th></th>\n",
       "      <th></th>\n",
       "      <th></th>\n",
       "      <th></th>\n",
       "      <th></th>\n",
       "      <th></th>\n",
       "      <th></th>\n",
       "    </tr>\n",
       "  </thead>\n",
       "  <tbody>\n",
       "    <tr>\n",
       "      <th>93705</th>\n",
       "      <td>F</td>\n",
       "      <td>66</td>\n",
       "      <td>Non-Hispanic Black</td>\n",
       "      <td>2</td>\n",
       "      <td>1</td>\n",
       "      <td>158.3</td>\n",
       "      <td>79.5</td>\n",
       "      <td>few times a year</td>\n",
       "      <td>4</td>\n",
       "      <td>yes</td>\n",
       "      <td>yes</td>\n",
       "      <td>yes</td>\n",
       "      <td>yes</td>\n",
       "      <td>yes</td>\n",
       "      <td>less than 6 months</td>\n",
       "      <td>no</td>\n",
       "      <td>no</td>\n",
       "    </tr>\n",
       "  </tbody>\n",
       "</table>\n",
       "</div>"
      ],
      "text/plain": [
       "      gender  age  ... donte_blood_past_yr  drink_dairy_milk\n",
       "ID                 ...                                      \n",
       "93705      F   66  ...                  no                no\n",
       "\n",
       "[1 rows x 17 columns]"
      ]
     },
     "metadata": {
      "tags": []
     },
     "execution_count": 15
    }
   ]
  },
  {
   "cell_type": "markdown",
   "metadata": {
    "id": "cchBQuyRhBda"
   },
   "source": [
    "**DataFrame (rows & columns)**"
   ]
  },
  {
   "cell_type": "markdown",
   "metadata": {
    "id": "XKqJ1izphBda"
   },
   "source": [
    "|description|code|\n",
    "|------|------|\n",
    "|by position (.iloc)|dataset.iloc[1:5,0:3]|\n",
    "|by labels/names/index (.loc)|dataset.loc[93705,['gender','age']]|"
   ]
  },
  {
   "cell_type": "code",
   "metadata": {
    "id": "Z287WXYthBda",
    "outputId": "1e2f58c9-9d2d-4946-c38b-35be3db4934e",
    "colab": {
     "base_uri": "https://localhost:8080/"
    }
   },
   "source": [
    "# try it yourself\n",
    "dataset.loc[93705,['gender','age']]"
   ],
   "execution_count": 16,
   "outputs": [
    {
     "output_type": "execute_result",
     "data": {
      "text/plain": [
       "gender     F\n",
       "age       66\n",
       "Name: 93705, dtype: object"
      ]
     },
     "metadata": {
      "tags": []
     },
     "execution_count": 16
    }
   ]
  },
  {
   "cell_type": "markdown",
   "metadata": {
    "id": "mr4ou7J8hBdd"
   },
   "source": [
    "**Series** (eg. dataset.iloc[0], dataset.loc[[93705]], dataset.age)"
   ]
  },
  {
   "cell_type": "markdown",
   "metadata": {
    "id": "ZImWKU1lhBdd"
   },
   "source": [
    "|description|code|\n",
    "|------|------|\n",
    "|get an element from the 1-dimension Series object by position|dataset.age.iloc[0]|\n",
    "|get an element from Series by our assigned index|dataset.age.loc[93705]|\n",
    "|get multiple elements by position|dataset.age.iloc[0:3]|\n",
    "|get multiple elements by providing a list/array of indices|dataset.age.loc[[93705,93708,93711]]|"
   ]
  },
  {
   "cell_type": "code",
   "metadata": {
    "id": "tWnimV3bhBdd",
    "outputId": "c93d1b9e-8b64-4976-ade4-00ce83a8d6f2",
    "colab": {
     "base_uri": "https://localhost:8080/"
    }
   },
   "source": [
    "# try it yourself\n",
    "dataset.age.loc[[93705,93708,93711]]"
   ],
   "execution_count": 17,
   "outputs": [
    {
     "output_type": "execute_result",
     "data": {
      "text/plain": [
       "ID\n",
       "93705    66\n",
       "93708    66\n",
       "93711    56\n",
       "Name: age, dtype: int64"
      ]
     },
     "metadata": {
      "tags": []
     },
     "execution_count": 17
    }
   ]
  },
  {
   "cell_type": "markdown",
   "metadata": {
    "id": "Y9npGAINhBdh"
   },
   "source": [
    "**numpy.ndarray**\n",
    "<br>Using the method **.values** on pandas.Series return a numpy.ndarray object. This will be useful for packages that depends on numpy, like Scikit-learn for machine learning. "
   ]
  },
  {
   "cell_type": "code",
   "metadata": {
    "id": "fpZ4r6KLhBdh",
    "outputId": "102a2a1b-b956-4e71-fe07-7a40c20e9d45",
    "colab": {
     "base_uri": "https://localhost:8080/"
    }
   },
   "source": [
    "type(dataset.age)"
   ],
   "execution_count": 18,
   "outputs": [
    {
     "output_type": "execute_result",
     "data": {
      "text/plain": [
       "pandas.core.series.Series"
      ]
     },
     "metadata": {
      "tags": []
     },
     "execution_count": 18
    }
   ]
  },
  {
   "cell_type": "code",
   "metadata": {
    "id": "8TLf4f1MhBdj",
    "outputId": "82c63a7e-88df-4476-e237-70bf9094244f",
    "colab": {
     "base_uri": "https://localhost:8080/"
    }
   },
   "source": [
    "type(dataset.age.values)"
   ],
   "execution_count": 19,
   "outputs": [
    {
     "output_type": "execute_result",
     "data": {
      "text/plain": [
       "numpy.ndarray"
      ]
     },
     "metadata": {
      "tags": []
     },
     "execution_count": 19
    }
   ]
  },
  {
   "cell_type": "markdown",
   "metadata": {
    "id": "oUbOHS02hBdm"
   },
   "source": [
    "## 4. Adding new data\n",
    "We will do simple data addition to a DataFrame here. We will touch upon combining DataFrame objects (concatenating, joining and merging) later."
   ]
  },
  {
   "cell_type": "code",
   "metadata": {
    "id": "Rgvxf9tVhBdm"
   },
   "source": [
    "# we can add a new column simply by 'selecting' a non-existent column and assigning values to it.\n",
    "\n",
    "dataset['other_household_members'] = dataset['household_size'] - 1\n"
   ],
   "execution_count": 20,
   "outputs": []
  },
  {
   "cell_type": "code",
   "metadata": {
    "id": "JUBEOiCFhBdp",
    "outputId": "2d7e091a-f833-4351-836a-eb76cee66584",
    "colab": {
     "base_uri": "https://localhost:8080/"
    }
   },
   "source": [
    "# let's check\n",
    "\n",
    "print(dataset[['household_size','other_household_members']].head())"
   ],
   "execution_count": 21,
   "outputs": [
    {
     "output_type": "stream",
     "text": [
      "       household_size  other_household_members\n",
      "ID                                            \n",
      "93705               1                        0\n",
      "93708               2                        1\n",
      "93711               3                        2\n",
      "93713               1                        0\n",
      "93714               3                        2\n"
     ],
     "name": "stdout"
    }
   ]
  },
  {
   "cell_type": "markdown",
   "metadata": {
    "id": "zZ9QfqxehBds"
   },
   "source": [
    "## 5. Data removal\n",
    ".drop( ) is a simple method for Series and DataFrame objects to drop values. Be careful, <b>there is no undo button</b>."
   ]
  },
  {
   "cell_type": "code",
   "metadata": {
    "id": "6LqqC0VZhBdt",
    "outputId": "4f385a27-0f79-47eb-c259-972f6fd6dcd8",
    "colab": {
     "base_uri": "https://localhost:8080/",
     "height": 0
    }
   },
   "source": [
    "# drop from rows, set axis parameter as 0.\n",
    "# but because axis is 0 by default, we don't have to type it.\n",
    "# check help(pd.DataFrame.drop) for details.\n",
    "\n",
    "dataset.drop(93705, inplace=False).head()\n",
    "\n",
    "# here, inplace parameter means whether we act directly on the object in memory\n",
    "# 'False' will output the change on a copy, won't affect df\n",
    "# 'True' will directly change df"
   ],
   "execution_count": 22,
   "outputs": [
    {
     "output_type": "execute_result",
     "data": {
      "text/html": [
       "<div>\n",
       "<style scoped>\n",
       "    .dataframe tbody tr th:only-of-type {\n",
       "        vertical-align: middle;\n",
       "    }\n",
       "\n",
       "    .dataframe tbody tr th {\n",
       "        vertical-align: top;\n",
       "    }\n",
       "\n",
       "    .dataframe thead th {\n",
       "        text-align: right;\n",
       "    }\n",
       "</style>\n",
       "<table border=\"1\" class=\"dataframe\">\n",
       "  <thead>\n",
       "    <tr style=\"text-align: right;\">\n",
       "      <th></th>\n",
       "      <th>gender</th>\n",
       "      <th>age</th>\n",
       "      <th>race</th>\n",
       "      <th>DMDEDUC2</th>\n",
       "      <th>household_size</th>\n",
       "      <th>height_cm</th>\n",
       "      <th>weight_kg</th>\n",
       "      <th>freq_worried</th>\n",
       "      <th>freq_depressed</th>\n",
       "      <th>controlling_weight</th>\n",
       "      <th>increasing_exercise</th>\n",
       "      <th>reducing_diet_salt</th>\n",
       "      <th>reducing_diet_fat</th>\n",
       "      <th>lifetime_cigarettes_100+</th>\n",
       "      <th>last_visit_dentist</th>\n",
       "      <th>donte_blood_past_yr</th>\n",
       "      <th>drink_dairy_milk</th>\n",
       "      <th>other_household_members</th>\n",
       "    </tr>\n",
       "    <tr>\n",
       "      <th>ID</th>\n",
       "      <th></th>\n",
       "      <th></th>\n",
       "      <th></th>\n",
       "      <th></th>\n",
       "      <th></th>\n",
       "      <th></th>\n",
       "      <th></th>\n",
       "      <th></th>\n",
       "      <th></th>\n",
       "      <th></th>\n",
       "      <th></th>\n",
       "      <th></th>\n",
       "      <th></th>\n",
       "      <th></th>\n",
       "      <th></th>\n",
       "      <th></th>\n",
       "      <th></th>\n",
       "      <th></th>\n",
       "    </tr>\n",
       "  </thead>\n",
       "  <tbody>\n",
       "    <tr>\n",
       "      <th>93708</th>\n",
       "      <td>F</td>\n",
       "      <td>66</td>\n",
       "      <td>Non-Hispanic Asian</td>\n",
       "      <td>1</td>\n",
       "      <td>2</td>\n",
       "      <td>150.2</td>\n",
       "      <td>53.5</td>\n",
       "      <td>never</td>\n",
       "      <td>5</td>\n",
       "      <td>yes</td>\n",
       "      <td>no</td>\n",
       "      <td>yes</td>\n",
       "      <td>no</td>\n",
       "      <td>no</td>\n",
       "      <td>6 months to 1 yr</td>\n",
       "      <td>no</td>\n",
       "      <td>yes</td>\n",
       "      <td>1</td>\n",
       "    </tr>\n",
       "    <tr>\n",
       "      <th>93711</th>\n",
       "      <td>M</td>\n",
       "      <td>56</td>\n",
       "      <td>Non-Hispanic Asian</td>\n",
       "      <td>5</td>\n",
       "      <td>3</td>\n",
       "      <td>170.6</td>\n",
       "      <td>62.1</td>\n",
       "      <td>never</td>\n",
       "      <td>5</td>\n",
       "      <td>yes</td>\n",
       "      <td>no</td>\n",
       "      <td>yes</td>\n",
       "      <td>yes</td>\n",
       "      <td>no</td>\n",
       "      <td>less than 6 months</td>\n",
       "      <td>no</td>\n",
       "      <td>no</td>\n",
       "      <td>2</td>\n",
       "    </tr>\n",
       "    <tr>\n",
       "      <th>93713</th>\n",
       "      <td>M</td>\n",
       "      <td>67</td>\n",
       "      <td>Non-Hispanic White</td>\n",
       "      <td>3</td>\n",
       "      <td>1</td>\n",
       "      <td>178.6</td>\n",
       "      <td>74.9</td>\n",
       "      <td>daily</td>\n",
       "      <td>1</td>\n",
       "      <td>no</td>\n",
       "      <td>no</td>\n",
       "      <td>no</td>\n",
       "      <td>no</td>\n",
       "      <td>yes</td>\n",
       "      <td>less than 6 months</td>\n",
       "      <td>no</td>\n",
       "      <td>yes</td>\n",
       "      <td>0</td>\n",
       "    </tr>\n",
       "    <tr>\n",
       "      <th>93714</th>\n",
       "      <td>F</td>\n",
       "      <td>54</td>\n",
       "      <td>Non-Hispanic Black</td>\n",
       "      <td>4</td>\n",
       "      <td>3</td>\n",
       "      <td>147.8</td>\n",
       "      <td>87.1</td>\n",
       "      <td>few times a year</td>\n",
       "      <td>4</td>\n",
       "      <td>no</td>\n",
       "      <td>no</td>\n",
       "      <td>no</td>\n",
       "      <td>no</td>\n",
       "      <td>yes</td>\n",
       "      <td>more than 5 yrs</td>\n",
       "      <td>no</td>\n",
       "      <td>yes</td>\n",
       "      <td>2</td>\n",
       "    </tr>\n",
       "    <tr>\n",
       "      <th>93715</th>\n",
       "      <td>M</td>\n",
       "      <td>71</td>\n",
       "      <td>Other</td>\n",
       "      <td>3</td>\n",
       "      <td>5</td>\n",
       "      <td>170.6</td>\n",
       "      <td>65.6</td>\n",
       "      <td>daily</td>\n",
       "      <td>3</td>\n",
       "      <td>yes</td>\n",
       "      <td>yes</td>\n",
       "      <td>no</td>\n",
       "      <td>yes</td>\n",
       "      <td>yes</td>\n",
       "      <td>more than 5 yrs</td>\n",
       "      <td>no</td>\n",
       "      <td>yes</td>\n",
       "      <td>4</td>\n",
       "    </tr>\n",
       "  </tbody>\n",
       "</table>\n",
       "</div>"
      ],
      "text/plain": [
       "      gender  age  ... drink_dairy_milk  other_household_members\n",
       "ID                 ...                                          \n",
       "93708      F   66  ...              yes                        1\n",
       "93711      M   56  ...               no                        2\n",
       "93713      M   67  ...              yes                        0\n",
       "93714      F   54  ...              yes                        2\n",
       "93715      M   71  ...              yes                        4\n",
       "\n",
       "[5 rows x 18 columns]"
      ]
     },
     "metadata": {
      "tags": []
     },
     "execution_count": 22
    }
   ]
  },
  {
   "cell_type": "code",
   "metadata": {
    "scrolled": true,
    "id": "BmisRTwrhBdw",
    "outputId": "13c1c6ed-66b9-4561-b3fd-9c800dbca4de",
    "colab": {
     "base_uri": "https://localhost:8080/",
     "height": 0
    }
   },
   "source": [
    "# as explained above, the original df is unchanged\n",
    "\n",
    "dataset.head()"
   ],
   "execution_count": 23,
   "outputs": [
    {
     "output_type": "execute_result",
     "data": {
      "text/html": [
       "<div>\n",
       "<style scoped>\n",
       "    .dataframe tbody tr th:only-of-type {\n",
       "        vertical-align: middle;\n",
       "    }\n",
       "\n",
       "    .dataframe tbody tr th {\n",
       "        vertical-align: top;\n",
       "    }\n",
       "\n",
       "    .dataframe thead th {\n",
       "        text-align: right;\n",
       "    }\n",
       "</style>\n",
       "<table border=\"1\" class=\"dataframe\">\n",
       "  <thead>\n",
       "    <tr style=\"text-align: right;\">\n",
       "      <th></th>\n",
       "      <th>gender</th>\n",
       "      <th>age</th>\n",
       "      <th>race</th>\n",
       "      <th>DMDEDUC2</th>\n",
       "      <th>household_size</th>\n",
       "      <th>height_cm</th>\n",
       "      <th>weight_kg</th>\n",
       "      <th>freq_worried</th>\n",
       "      <th>freq_depressed</th>\n",
       "      <th>controlling_weight</th>\n",
       "      <th>increasing_exercise</th>\n",
       "      <th>reducing_diet_salt</th>\n",
       "      <th>reducing_diet_fat</th>\n",
       "      <th>lifetime_cigarettes_100+</th>\n",
       "      <th>last_visit_dentist</th>\n",
       "      <th>donte_blood_past_yr</th>\n",
       "      <th>drink_dairy_milk</th>\n",
       "      <th>other_household_members</th>\n",
       "    </tr>\n",
       "    <tr>\n",
       "      <th>ID</th>\n",
       "      <th></th>\n",
       "      <th></th>\n",
       "      <th></th>\n",
       "      <th></th>\n",
       "      <th></th>\n",
       "      <th></th>\n",
       "      <th></th>\n",
       "      <th></th>\n",
       "      <th></th>\n",
       "      <th></th>\n",
       "      <th></th>\n",
       "      <th></th>\n",
       "      <th></th>\n",
       "      <th></th>\n",
       "      <th></th>\n",
       "      <th></th>\n",
       "      <th></th>\n",
       "      <th></th>\n",
       "    </tr>\n",
       "  </thead>\n",
       "  <tbody>\n",
       "    <tr>\n",
       "      <th>93705</th>\n",
       "      <td>F</td>\n",
       "      <td>66</td>\n",
       "      <td>Non-Hispanic Black</td>\n",
       "      <td>2</td>\n",
       "      <td>1</td>\n",
       "      <td>158.3</td>\n",
       "      <td>79.5</td>\n",
       "      <td>few times a year</td>\n",
       "      <td>4</td>\n",
       "      <td>yes</td>\n",
       "      <td>yes</td>\n",
       "      <td>yes</td>\n",
       "      <td>yes</td>\n",
       "      <td>yes</td>\n",
       "      <td>less than 6 months</td>\n",
       "      <td>no</td>\n",
       "      <td>no</td>\n",
       "      <td>0</td>\n",
       "    </tr>\n",
       "    <tr>\n",
       "      <th>93708</th>\n",
       "      <td>F</td>\n",
       "      <td>66</td>\n",
       "      <td>Non-Hispanic Asian</td>\n",
       "      <td>1</td>\n",
       "      <td>2</td>\n",
       "      <td>150.2</td>\n",
       "      <td>53.5</td>\n",
       "      <td>never</td>\n",
       "      <td>5</td>\n",
       "      <td>yes</td>\n",
       "      <td>no</td>\n",
       "      <td>yes</td>\n",
       "      <td>no</td>\n",
       "      <td>no</td>\n",
       "      <td>6 months to 1 yr</td>\n",
       "      <td>no</td>\n",
       "      <td>yes</td>\n",
       "      <td>1</td>\n",
       "    </tr>\n",
       "    <tr>\n",
       "      <th>93711</th>\n",
       "      <td>M</td>\n",
       "      <td>56</td>\n",
       "      <td>Non-Hispanic Asian</td>\n",
       "      <td>5</td>\n",
       "      <td>3</td>\n",
       "      <td>170.6</td>\n",
       "      <td>62.1</td>\n",
       "      <td>never</td>\n",
       "      <td>5</td>\n",
       "      <td>yes</td>\n",
       "      <td>no</td>\n",
       "      <td>yes</td>\n",
       "      <td>yes</td>\n",
       "      <td>no</td>\n",
       "      <td>less than 6 months</td>\n",
       "      <td>no</td>\n",
       "      <td>no</td>\n",
       "      <td>2</td>\n",
       "    </tr>\n",
       "    <tr>\n",
       "      <th>93713</th>\n",
       "      <td>M</td>\n",
       "      <td>67</td>\n",
       "      <td>Non-Hispanic White</td>\n",
       "      <td>3</td>\n",
       "      <td>1</td>\n",
       "      <td>178.6</td>\n",
       "      <td>74.9</td>\n",
       "      <td>daily</td>\n",
       "      <td>1</td>\n",
       "      <td>no</td>\n",
       "      <td>no</td>\n",
       "      <td>no</td>\n",
       "      <td>no</td>\n",
       "      <td>yes</td>\n",
       "      <td>less than 6 months</td>\n",
       "      <td>no</td>\n",
       "      <td>yes</td>\n",
       "      <td>0</td>\n",
       "    </tr>\n",
       "    <tr>\n",
       "      <th>93714</th>\n",
       "      <td>F</td>\n",
       "      <td>54</td>\n",
       "      <td>Non-Hispanic Black</td>\n",
       "      <td>4</td>\n",
       "      <td>3</td>\n",
       "      <td>147.8</td>\n",
       "      <td>87.1</td>\n",
       "      <td>few times a year</td>\n",
       "      <td>4</td>\n",
       "      <td>no</td>\n",
       "      <td>no</td>\n",
       "      <td>no</td>\n",
       "      <td>no</td>\n",
       "      <td>yes</td>\n",
       "      <td>more than 5 yrs</td>\n",
       "      <td>no</td>\n",
       "      <td>yes</td>\n",
       "      <td>2</td>\n",
       "    </tr>\n",
       "  </tbody>\n",
       "</table>\n",
       "</div>"
      ],
      "text/plain": [
       "      gender  age  ... drink_dairy_milk  other_household_members\n",
       "ID                 ...                                          \n",
       "93705      F   66  ...               no                        0\n",
       "93708      F   66  ...              yes                        1\n",
       "93711      M   56  ...               no                        2\n",
       "93713      M   67  ...              yes                        0\n",
       "93714      F   54  ...              yes                        2\n",
       "\n",
       "[5 rows x 18 columns]"
      ]
     },
     "metadata": {
      "tags": []
     },
     "execution_count": 23
    }
   ]
  },
  {
   "cell_type": "markdown",
   "metadata": {
    "id": "RmBiaz6nhBdy"
   },
   "source": [
    "Best practice is to use inplace = False and save a copy, eg:\n",
    "\n",
    "- dataset_short = dataset.drop(93705, inplace=False)"
   ]
  },
  {
   "cell_type": "code",
   "metadata": {
    "id": "o0p5cbEfhBdz",
    "outputId": "b86fac7a-12ae-4f71-8744-a4990aa52923",
    "colab": {
     "base_uri": "https://localhost:8080/",
     "height": 0
    }
   },
   "source": [
    "# to drop a column, set axis parameter needs to 1\n",
    "\n",
    "dataset.drop(['gender'], inplace=False, axis=1).head()"
   ],
   "execution_count": 24,
   "outputs": [
    {
     "output_type": "execute_result",
     "data": {
      "text/html": [
       "<div>\n",
       "<style scoped>\n",
       "    .dataframe tbody tr th:only-of-type {\n",
       "        vertical-align: middle;\n",
       "    }\n",
       "\n",
       "    .dataframe tbody tr th {\n",
       "        vertical-align: top;\n",
       "    }\n",
       "\n",
       "    .dataframe thead th {\n",
       "        text-align: right;\n",
       "    }\n",
       "</style>\n",
       "<table border=\"1\" class=\"dataframe\">\n",
       "  <thead>\n",
       "    <tr style=\"text-align: right;\">\n",
       "      <th></th>\n",
       "      <th>age</th>\n",
       "      <th>race</th>\n",
       "      <th>DMDEDUC2</th>\n",
       "      <th>household_size</th>\n",
       "      <th>height_cm</th>\n",
       "      <th>weight_kg</th>\n",
       "      <th>freq_worried</th>\n",
       "      <th>freq_depressed</th>\n",
       "      <th>controlling_weight</th>\n",
       "      <th>increasing_exercise</th>\n",
       "      <th>reducing_diet_salt</th>\n",
       "      <th>reducing_diet_fat</th>\n",
       "      <th>lifetime_cigarettes_100+</th>\n",
       "      <th>last_visit_dentist</th>\n",
       "      <th>donte_blood_past_yr</th>\n",
       "      <th>drink_dairy_milk</th>\n",
       "      <th>other_household_members</th>\n",
       "    </tr>\n",
       "    <tr>\n",
       "      <th>ID</th>\n",
       "      <th></th>\n",
       "      <th></th>\n",
       "      <th></th>\n",
       "      <th></th>\n",
       "      <th></th>\n",
       "      <th></th>\n",
       "      <th></th>\n",
       "      <th></th>\n",
       "      <th></th>\n",
       "      <th></th>\n",
       "      <th></th>\n",
       "      <th></th>\n",
       "      <th></th>\n",
       "      <th></th>\n",
       "      <th></th>\n",
       "      <th></th>\n",
       "      <th></th>\n",
       "    </tr>\n",
       "  </thead>\n",
       "  <tbody>\n",
       "    <tr>\n",
       "      <th>93705</th>\n",
       "      <td>66</td>\n",
       "      <td>Non-Hispanic Black</td>\n",
       "      <td>2</td>\n",
       "      <td>1</td>\n",
       "      <td>158.3</td>\n",
       "      <td>79.5</td>\n",
       "      <td>few times a year</td>\n",
       "      <td>4</td>\n",
       "      <td>yes</td>\n",
       "      <td>yes</td>\n",
       "      <td>yes</td>\n",
       "      <td>yes</td>\n",
       "      <td>yes</td>\n",
       "      <td>less than 6 months</td>\n",
       "      <td>no</td>\n",
       "      <td>no</td>\n",
       "      <td>0</td>\n",
       "    </tr>\n",
       "    <tr>\n",
       "      <th>93708</th>\n",
       "      <td>66</td>\n",
       "      <td>Non-Hispanic Asian</td>\n",
       "      <td>1</td>\n",
       "      <td>2</td>\n",
       "      <td>150.2</td>\n",
       "      <td>53.5</td>\n",
       "      <td>never</td>\n",
       "      <td>5</td>\n",
       "      <td>yes</td>\n",
       "      <td>no</td>\n",
       "      <td>yes</td>\n",
       "      <td>no</td>\n",
       "      <td>no</td>\n",
       "      <td>6 months to 1 yr</td>\n",
       "      <td>no</td>\n",
       "      <td>yes</td>\n",
       "      <td>1</td>\n",
       "    </tr>\n",
       "    <tr>\n",
       "      <th>93711</th>\n",
       "      <td>56</td>\n",
       "      <td>Non-Hispanic Asian</td>\n",
       "      <td>5</td>\n",
       "      <td>3</td>\n",
       "      <td>170.6</td>\n",
       "      <td>62.1</td>\n",
       "      <td>never</td>\n",
       "      <td>5</td>\n",
       "      <td>yes</td>\n",
       "      <td>no</td>\n",
       "      <td>yes</td>\n",
       "      <td>yes</td>\n",
       "      <td>no</td>\n",
       "      <td>less than 6 months</td>\n",
       "      <td>no</td>\n",
       "      <td>no</td>\n",
       "      <td>2</td>\n",
       "    </tr>\n",
       "    <tr>\n",
       "      <th>93713</th>\n",
       "      <td>67</td>\n",
       "      <td>Non-Hispanic White</td>\n",
       "      <td>3</td>\n",
       "      <td>1</td>\n",
       "      <td>178.6</td>\n",
       "      <td>74.9</td>\n",
       "      <td>daily</td>\n",
       "      <td>1</td>\n",
       "      <td>no</td>\n",
       "      <td>no</td>\n",
       "      <td>no</td>\n",
       "      <td>no</td>\n",
       "      <td>yes</td>\n",
       "      <td>less than 6 months</td>\n",
       "      <td>no</td>\n",
       "      <td>yes</td>\n",
       "      <td>0</td>\n",
       "    </tr>\n",
       "    <tr>\n",
       "      <th>93714</th>\n",
       "      <td>54</td>\n",
       "      <td>Non-Hispanic Black</td>\n",
       "      <td>4</td>\n",
       "      <td>3</td>\n",
       "      <td>147.8</td>\n",
       "      <td>87.1</td>\n",
       "      <td>few times a year</td>\n",
       "      <td>4</td>\n",
       "      <td>no</td>\n",
       "      <td>no</td>\n",
       "      <td>no</td>\n",
       "      <td>no</td>\n",
       "      <td>yes</td>\n",
       "      <td>more than 5 yrs</td>\n",
       "      <td>no</td>\n",
       "      <td>yes</td>\n",
       "      <td>2</td>\n",
       "    </tr>\n",
       "  </tbody>\n",
       "</table>\n",
       "</div>"
      ],
      "text/plain": [
       "       age                race  ...  drink_dairy_milk  other_household_members\n",
       "ID                              ...                                           \n",
       "93705   66  Non-Hispanic Black  ...                no                        0\n",
       "93708   66  Non-Hispanic Asian  ...               yes                        1\n",
       "93711   56  Non-Hispanic Asian  ...                no                        2\n",
       "93713   67  Non-Hispanic White  ...               yes                        0\n",
       "93714   54  Non-Hispanic Black  ...               yes                        2\n",
       "\n",
       "[5 rows x 17 columns]"
      ]
     },
     "metadata": {
      "tags": []
     },
     "execution_count": 24
    }
   ]
  },
  {
   "cell_type": "markdown",
   "metadata": {
    "id": "hI0K-3t4hBd1"
   },
   "source": [
    "## 6. Data sorting\n",
    "We can easily sort data stored in DataFrame or Series objects. Check out the parameters in the below methods."
   ]
  },
  {
   "cell_type": "code",
   "metadata": {
    "scrolled": true,
    "id": "4DmnOZKChBd2",
    "outputId": "c857710d-e19f-48cf-ef60-b630bfd9129e",
    "colab": {
     "base_uri": "https://localhost:8080/",
     "height": 0
    }
   },
   "source": [
    "# we can sort by labels/index of a row or column\n",
    "\n",
    "dataset.sort_index(axis=0, ascending=False) # sort row index, descending"
   ],
   "execution_count": 25,
   "outputs": [
    {
     "output_type": "execute_result",
     "data": {
      "text/html": [
       "<div>\n",
       "<style scoped>\n",
       "    .dataframe tbody tr th:only-of-type {\n",
       "        vertical-align: middle;\n",
       "    }\n",
       "\n",
       "    .dataframe tbody tr th {\n",
       "        vertical-align: top;\n",
       "    }\n",
       "\n",
       "    .dataframe thead th {\n",
       "        text-align: right;\n",
       "    }\n",
       "</style>\n",
       "<table border=\"1\" class=\"dataframe\">\n",
       "  <thead>\n",
       "    <tr style=\"text-align: right;\">\n",
       "      <th></th>\n",
       "      <th>gender</th>\n",
       "      <th>age</th>\n",
       "      <th>race</th>\n",
       "      <th>DMDEDUC2</th>\n",
       "      <th>household_size</th>\n",
       "      <th>height_cm</th>\n",
       "      <th>weight_kg</th>\n",
       "      <th>freq_worried</th>\n",
       "      <th>freq_depressed</th>\n",
       "      <th>controlling_weight</th>\n",
       "      <th>increasing_exercise</th>\n",
       "      <th>reducing_diet_salt</th>\n",
       "      <th>reducing_diet_fat</th>\n",
       "      <th>lifetime_cigarettes_100+</th>\n",
       "      <th>last_visit_dentist</th>\n",
       "      <th>donte_blood_past_yr</th>\n",
       "      <th>drink_dairy_milk</th>\n",
       "      <th>other_household_members</th>\n",
       "    </tr>\n",
       "    <tr>\n",
       "      <th>ID</th>\n",
       "      <th></th>\n",
       "      <th></th>\n",
       "      <th></th>\n",
       "      <th></th>\n",
       "      <th></th>\n",
       "      <th></th>\n",
       "      <th></th>\n",
       "      <th></th>\n",
       "      <th></th>\n",
       "      <th></th>\n",
       "      <th></th>\n",
       "      <th></th>\n",
       "      <th></th>\n",
       "      <th></th>\n",
       "      <th></th>\n",
       "      <th></th>\n",
       "      <th></th>\n",
       "      <th></th>\n",
       "    </tr>\n",
       "  </thead>\n",
       "  <tbody>\n",
       "    <tr>\n",
       "      <th>102956</th>\n",
       "      <td>M</td>\n",
       "      <td>38</td>\n",
       "      <td>Non-Hispanic White</td>\n",
       "      <td>4</td>\n",
       "      <td>5</td>\n",
       "      <td>175.8</td>\n",
       "      <td>111.5</td>\n",
       "      <td>weekly</td>\n",
       "      <td>3</td>\n",
       "      <td>no</td>\n",
       "      <td>no</td>\n",
       "      <td>no</td>\n",
       "      <td>no</td>\n",
       "      <td>yes</td>\n",
       "      <td>1 yr to 2 yrs</td>\n",
       "      <td>no</td>\n",
       "      <td>no</td>\n",
       "      <td>4</td>\n",
       "    </tr>\n",
       "    <tr>\n",
       "      <th>102954</th>\n",
       "      <td>F</td>\n",
       "      <td>41</td>\n",
       "      <td>Non-Hispanic Black</td>\n",
       "      <td>5</td>\n",
       "      <td>7</td>\n",
       "      <td>162.6</td>\n",
       "      <td>69.1</td>\n",
       "      <td>never</td>\n",
       "      <td>5</td>\n",
       "      <td>yes</td>\n",
       "      <td>yes</td>\n",
       "      <td>yes</td>\n",
       "      <td>yes</td>\n",
       "      <td>no</td>\n",
       "      <td>2 yrs to 3 yrs</td>\n",
       "      <td>no</td>\n",
       "      <td>yes</td>\n",
       "      <td>6</td>\n",
       "    </tr>\n",
       "    <tr>\n",
       "      <th>102953</th>\n",
       "      <td>M</td>\n",
       "      <td>42</td>\n",
       "      <td>Mexican American</td>\n",
       "      <td>3</td>\n",
       "      <td>1</td>\n",
       "      <td>164.9</td>\n",
       "      <td>97.4</td>\n",
       "      <td>few times a year</td>\n",
       "      <td>4</td>\n",
       "      <td>no</td>\n",
       "      <td>no</td>\n",
       "      <td>no</td>\n",
       "      <td>no</td>\n",
       "      <td>yes</td>\n",
       "      <td>more than 5 yrs</td>\n",
       "      <td>no</td>\n",
       "      <td>yes</td>\n",
       "      <td>0</td>\n",
       "    </tr>\n",
       "    <tr>\n",
       "      <th>102952</th>\n",
       "      <td>F</td>\n",
       "      <td>70</td>\n",
       "      <td>Non-Hispanic Asian</td>\n",
       "      <td>3</td>\n",
       "      <td>2</td>\n",
       "      <td>156.5</td>\n",
       "      <td>49.0</td>\n",
       "      <td>never</td>\n",
       "      <td>5</td>\n",
       "      <td>yes</td>\n",
       "      <td>yes</td>\n",
       "      <td>yes</td>\n",
       "      <td>yes</td>\n",
       "      <td>no</td>\n",
       "      <td>6 months to 1 yr</td>\n",
       "      <td>no</td>\n",
       "      <td>yes</td>\n",
       "      <td>1</td>\n",
       "    </tr>\n",
       "    <tr>\n",
       "      <th>102949</th>\n",
       "      <td>M</td>\n",
       "      <td>33</td>\n",
       "      <td>Non-Hispanic White</td>\n",
       "      <td>3</td>\n",
       "      <td>5</td>\n",
       "      <td>180.1</td>\n",
       "      <td>76.9</td>\n",
       "      <td>never</td>\n",
       "      <td>5</td>\n",
       "      <td>no</td>\n",
       "      <td>no</td>\n",
       "      <td>no</td>\n",
       "      <td>no</td>\n",
       "      <td>yes</td>\n",
       "      <td>3 yrs to 5 yrs</td>\n",
       "      <td>no</td>\n",
       "      <td>yes</td>\n",
       "      <td>4</td>\n",
       "    </tr>\n",
       "    <tr>\n",
       "      <th>...</th>\n",
       "      <td>...</td>\n",
       "      <td>...</td>\n",
       "      <td>...</td>\n",
       "      <td>...</td>\n",
       "      <td>...</td>\n",
       "      <td>...</td>\n",
       "      <td>...</td>\n",
       "      <td>...</td>\n",
       "      <td>...</td>\n",
       "      <td>...</td>\n",
       "      <td>...</td>\n",
       "      <td>...</td>\n",
       "      <td>...</td>\n",
       "      <td>...</td>\n",
       "      <td>...</td>\n",
       "      <td>...</td>\n",
       "      <td>...</td>\n",
       "      <td>...</td>\n",
       "    </tr>\n",
       "    <tr>\n",
       "      <th>93714</th>\n",
       "      <td>F</td>\n",
       "      <td>54</td>\n",
       "      <td>Non-Hispanic Black</td>\n",
       "      <td>4</td>\n",
       "      <td>3</td>\n",
       "      <td>147.8</td>\n",
       "      <td>87.1</td>\n",
       "      <td>few times a year</td>\n",
       "      <td>4</td>\n",
       "      <td>no</td>\n",
       "      <td>no</td>\n",
       "      <td>no</td>\n",
       "      <td>no</td>\n",
       "      <td>yes</td>\n",
       "      <td>more than 5 yrs</td>\n",
       "      <td>no</td>\n",
       "      <td>yes</td>\n",
       "      <td>2</td>\n",
       "    </tr>\n",
       "    <tr>\n",
       "      <th>93713</th>\n",
       "      <td>M</td>\n",
       "      <td>67</td>\n",
       "      <td>Non-Hispanic White</td>\n",
       "      <td>3</td>\n",
       "      <td>1</td>\n",
       "      <td>178.6</td>\n",
       "      <td>74.9</td>\n",
       "      <td>daily</td>\n",
       "      <td>1</td>\n",
       "      <td>no</td>\n",
       "      <td>no</td>\n",
       "      <td>no</td>\n",
       "      <td>no</td>\n",
       "      <td>yes</td>\n",
       "      <td>less than 6 months</td>\n",
       "      <td>no</td>\n",
       "      <td>yes</td>\n",
       "      <td>0</td>\n",
       "    </tr>\n",
       "    <tr>\n",
       "      <th>93711</th>\n",
       "      <td>M</td>\n",
       "      <td>56</td>\n",
       "      <td>Non-Hispanic Asian</td>\n",
       "      <td>5</td>\n",
       "      <td>3</td>\n",
       "      <td>170.6</td>\n",
       "      <td>62.1</td>\n",
       "      <td>never</td>\n",
       "      <td>5</td>\n",
       "      <td>yes</td>\n",
       "      <td>no</td>\n",
       "      <td>yes</td>\n",
       "      <td>yes</td>\n",
       "      <td>no</td>\n",
       "      <td>less than 6 months</td>\n",
       "      <td>no</td>\n",
       "      <td>no</td>\n",
       "      <td>2</td>\n",
       "    </tr>\n",
       "    <tr>\n",
       "      <th>93708</th>\n",
       "      <td>F</td>\n",
       "      <td>66</td>\n",
       "      <td>Non-Hispanic Asian</td>\n",
       "      <td>1</td>\n",
       "      <td>2</td>\n",
       "      <td>150.2</td>\n",
       "      <td>53.5</td>\n",
       "      <td>never</td>\n",
       "      <td>5</td>\n",
       "      <td>yes</td>\n",
       "      <td>no</td>\n",
       "      <td>yes</td>\n",
       "      <td>no</td>\n",
       "      <td>no</td>\n",
       "      <td>6 months to 1 yr</td>\n",
       "      <td>no</td>\n",
       "      <td>yes</td>\n",
       "      <td>1</td>\n",
       "    </tr>\n",
       "    <tr>\n",
       "      <th>93705</th>\n",
       "      <td>F</td>\n",
       "      <td>66</td>\n",
       "      <td>Non-Hispanic Black</td>\n",
       "      <td>2</td>\n",
       "      <td>1</td>\n",
       "      <td>158.3</td>\n",
       "      <td>79.5</td>\n",
       "      <td>few times a year</td>\n",
       "      <td>4</td>\n",
       "      <td>yes</td>\n",
       "      <td>yes</td>\n",
       "      <td>yes</td>\n",
       "      <td>yes</td>\n",
       "      <td>yes</td>\n",
       "      <td>less than 6 months</td>\n",
       "      <td>no</td>\n",
       "      <td>no</td>\n",
       "      <td>0</td>\n",
       "    </tr>\n",
       "  </tbody>\n",
       "</table>\n",
       "<p>4753 rows × 18 columns</p>\n",
       "</div>"
      ],
      "text/plain": [
       "       gender  age  ... drink_dairy_milk  other_household_members\n",
       "ID                  ...                                          \n",
       "102956      M   38  ...               no                        4\n",
       "102954      F   41  ...              yes                        6\n",
       "102953      M   42  ...              yes                        0\n",
       "102952      F   70  ...              yes                        1\n",
       "102949      M   33  ...              yes                        4\n",
       "...       ...  ...  ...              ...                      ...\n",
       "93714       F   54  ...              yes                        2\n",
       "93713       M   67  ...              yes                        0\n",
       "93711       M   56  ...               no                        2\n",
       "93708       F   66  ...              yes                        1\n",
       "93705       F   66  ...               no                        0\n",
       "\n",
       "[4753 rows x 18 columns]"
      ]
     },
     "metadata": {
      "tags": []
     },
     "execution_count": 25
    }
   ]
  },
  {
   "cell_type": "code",
   "metadata": {
    "scrolled": true,
    "id": "P7zMLltIhBd4",
    "outputId": "18b86a18-c053-4e8d-8096-14480754e361",
    "colab": {
     "base_uri": "https://localhost:8080/",
     "height": 0
    }
   },
   "source": [
    "# we can sort by values across rows or columns\n",
    "\n",
    "dataset.sort_values(by='height_cm', axis=0, ascending=True) # sort rows by height\n"
   ],
   "execution_count": 26,
   "outputs": [
    {
     "output_type": "execute_result",
     "data": {
      "text/html": [
       "<div>\n",
       "<style scoped>\n",
       "    .dataframe tbody tr th:only-of-type {\n",
       "        vertical-align: middle;\n",
       "    }\n",
       "\n",
       "    .dataframe tbody tr th {\n",
       "        vertical-align: top;\n",
       "    }\n",
       "\n",
       "    .dataframe thead th {\n",
       "        text-align: right;\n",
       "    }\n",
       "</style>\n",
       "<table border=\"1\" class=\"dataframe\">\n",
       "  <thead>\n",
       "    <tr style=\"text-align: right;\">\n",
       "      <th></th>\n",
       "      <th>gender</th>\n",
       "      <th>age</th>\n",
       "      <th>race</th>\n",
       "      <th>DMDEDUC2</th>\n",
       "      <th>household_size</th>\n",
       "      <th>height_cm</th>\n",
       "      <th>weight_kg</th>\n",
       "      <th>freq_worried</th>\n",
       "      <th>freq_depressed</th>\n",
       "      <th>controlling_weight</th>\n",
       "      <th>increasing_exercise</th>\n",
       "      <th>reducing_diet_salt</th>\n",
       "      <th>reducing_diet_fat</th>\n",
       "      <th>lifetime_cigarettes_100+</th>\n",
       "      <th>last_visit_dentist</th>\n",
       "      <th>donte_blood_past_yr</th>\n",
       "      <th>drink_dairy_milk</th>\n",
       "      <th>other_household_members</th>\n",
       "    </tr>\n",
       "    <tr>\n",
       "      <th>ID</th>\n",
       "      <th></th>\n",
       "      <th></th>\n",
       "      <th></th>\n",
       "      <th></th>\n",
       "      <th></th>\n",
       "      <th></th>\n",
       "      <th></th>\n",
       "      <th></th>\n",
       "      <th></th>\n",
       "      <th></th>\n",
       "      <th></th>\n",
       "      <th></th>\n",
       "      <th></th>\n",
       "      <th></th>\n",
       "      <th></th>\n",
       "      <th></th>\n",
       "      <th></th>\n",
       "      <th></th>\n",
       "    </tr>\n",
       "  </thead>\n",
       "  <tbody>\n",
       "    <tr>\n",
       "      <th>95551</th>\n",
       "      <td>F</td>\n",
       "      <td>57</td>\n",
       "      <td>Mexican American</td>\n",
       "      <td>1</td>\n",
       "      <td>7</td>\n",
       "      <td>138.3</td>\n",
       "      <td>50.4</td>\n",
       "      <td>never</td>\n",
       "      <td>5</td>\n",
       "      <td>no</td>\n",
       "      <td>no</td>\n",
       "      <td>no</td>\n",
       "      <td>no</td>\n",
       "      <td>no</td>\n",
       "      <td>more than 5 yrs</td>\n",
       "      <td>no</td>\n",
       "      <td>no</td>\n",
       "      <td>6</td>\n",
       "    </tr>\n",
       "    <tr>\n",
       "      <th>101807</th>\n",
       "      <td>F</td>\n",
       "      <td>79</td>\n",
       "      <td>Non-Hispanic Asian</td>\n",
       "      <td>1</td>\n",
       "      <td>5</td>\n",
       "      <td>139.7</td>\n",
       "      <td>44.6</td>\n",
       "      <td>few times a year</td>\n",
       "      <td>5</td>\n",
       "      <td>yes</td>\n",
       "      <td>yes</td>\n",
       "      <td>yes</td>\n",
       "      <td>yes</td>\n",
       "      <td>yes</td>\n",
       "      <td>more than 5 yrs</td>\n",
       "      <td>no</td>\n",
       "      <td>no</td>\n",
       "      <td>4</td>\n",
       "    </tr>\n",
       "    <tr>\n",
       "      <th>98133</th>\n",
       "      <td>F</td>\n",
       "      <td>80</td>\n",
       "      <td>Non-Hispanic White</td>\n",
       "      <td>2</td>\n",
       "      <td>1</td>\n",
       "      <td>140.8</td>\n",
       "      <td>59.0</td>\n",
       "      <td>weekly</td>\n",
       "      <td>1</td>\n",
       "      <td>no</td>\n",
       "      <td>no</td>\n",
       "      <td>no</td>\n",
       "      <td>no</td>\n",
       "      <td>no</td>\n",
       "      <td>less than 6 months</td>\n",
       "      <td>no</td>\n",
       "      <td>yes</td>\n",
       "      <td>0</td>\n",
       "    </tr>\n",
       "    <tr>\n",
       "      <th>94950</th>\n",
       "      <td>F</td>\n",
       "      <td>80</td>\n",
       "      <td>Non-Hispanic White</td>\n",
       "      <td>4</td>\n",
       "      <td>3</td>\n",
       "      <td>141.4</td>\n",
       "      <td>43.5</td>\n",
       "      <td>daily</td>\n",
       "      <td>4</td>\n",
       "      <td>no</td>\n",
       "      <td>yes</td>\n",
       "      <td>no</td>\n",
       "      <td>no</td>\n",
       "      <td>no</td>\n",
       "      <td>1 yr to 2 yrs</td>\n",
       "      <td>no</td>\n",
       "      <td>yes</td>\n",
       "      <td>2</td>\n",
       "    </tr>\n",
       "    <tr>\n",
       "      <th>102379</th>\n",
       "      <td>F</td>\n",
       "      <td>71</td>\n",
       "      <td>Other Hispanic</td>\n",
       "      <td>9</td>\n",
       "      <td>2</td>\n",
       "      <td>141.5</td>\n",
       "      <td>79.2</td>\n",
       "      <td>daily</td>\n",
       "      <td>2</td>\n",
       "      <td>yes</td>\n",
       "      <td>no</td>\n",
       "      <td>yes</td>\n",
       "      <td>yes</td>\n",
       "      <td>no</td>\n",
       "      <td>less than 6 months</td>\n",
       "      <td>no</td>\n",
       "      <td>yes</td>\n",
       "      <td>1</td>\n",
       "    </tr>\n",
       "    <tr>\n",
       "      <th>...</th>\n",
       "      <td>...</td>\n",
       "      <td>...</td>\n",
       "      <td>...</td>\n",
       "      <td>...</td>\n",
       "      <td>...</td>\n",
       "      <td>...</td>\n",
       "      <td>...</td>\n",
       "      <td>...</td>\n",
       "      <td>...</td>\n",
       "      <td>...</td>\n",
       "      <td>...</td>\n",
       "      <td>...</td>\n",
       "      <td>...</td>\n",
       "      <td>...</td>\n",
       "      <td>...</td>\n",
       "      <td>...</td>\n",
       "      <td>...</td>\n",
       "      <td>...</td>\n",
       "    </tr>\n",
       "    <tr>\n",
       "      <th>96301</th>\n",
       "      <td>M</td>\n",
       "      <td>54</td>\n",
       "      <td>Non-Hispanic Black</td>\n",
       "      <td>5</td>\n",
       "      <td>1</td>\n",
       "      <td>195.5</td>\n",
       "      <td>105.7</td>\n",
       "      <td>daily</td>\n",
       "      <td>5</td>\n",
       "      <td>no</td>\n",
       "      <td>no</td>\n",
       "      <td>no</td>\n",
       "      <td>no</td>\n",
       "      <td>no</td>\n",
       "      <td>more than 5 yrs</td>\n",
       "      <td>no</td>\n",
       "      <td>yes</td>\n",
       "      <td>0</td>\n",
       "    </tr>\n",
       "    <tr>\n",
       "      <th>97753</th>\n",
       "      <td>M</td>\n",
       "      <td>62</td>\n",
       "      <td>Non-Hispanic White</td>\n",
       "      <td>5</td>\n",
       "      <td>2</td>\n",
       "      <td>195.5</td>\n",
       "      <td>150.6</td>\n",
       "      <td>never</td>\n",
       "      <td>5</td>\n",
       "      <td>yes</td>\n",
       "      <td>yes</td>\n",
       "      <td>no</td>\n",
       "      <td>yes</td>\n",
       "      <td>no</td>\n",
       "      <td>less than 6 months</td>\n",
       "      <td>yes</td>\n",
       "      <td>yes</td>\n",
       "      <td>1</td>\n",
       "    </tr>\n",
       "    <tr>\n",
       "      <th>102338</th>\n",
       "      <td>M</td>\n",
       "      <td>54</td>\n",
       "      <td>Non-Hispanic White</td>\n",
       "      <td>4</td>\n",
       "      <td>6</td>\n",
       "      <td>195.6</td>\n",
       "      <td>110.5</td>\n",
       "      <td>never</td>\n",
       "      <td>5</td>\n",
       "      <td>yes</td>\n",
       "      <td>no</td>\n",
       "      <td>no</td>\n",
       "      <td>no</td>\n",
       "      <td>no</td>\n",
       "      <td>2 yrs to 3 yrs</td>\n",
       "      <td>no</td>\n",
       "      <td>yes</td>\n",
       "      <td>5</td>\n",
       "    </tr>\n",
       "    <tr>\n",
       "      <th>102466</th>\n",
       "      <td>M</td>\n",
       "      <td>34</td>\n",
       "      <td>Non-Hispanic White</td>\n",
       "      <td>5</td>\n",
       "      <td>2</td>\n",
       "      <td>195.8</td>\n",
       "      <td>89.9</td>\n",
       "      <td>never</td>\n",
       "      <td>5</td>\n",
       "      <td>yes</td>\n",
       "      <td>no</td>\n",
       "      <td>yes</td>\n",
       "      <td>yes</td>\n",
       "      <td>yes</td>\n",
       "      <td>less than 6 months</td>\n",
       "      <td>no</td>\n",
       "      <td>no</td>\n",
       "      <td>1</td>\n",
       "    </tr>\n",
       "    <tr>\n",
       "      <th>96471</th>\n",
       "      <td>M</td>\n",
       "      <td>65</td>\n",
       "      <td>Non-Hispanic Black</td>\n",
       "      <td>5</td>\n",
       "      <td>3</td>\n",
       "      <td>197.7</td>\n",
       "      <td>97.5</td>\n",
       "      <td>few times a year</td>\n",
       "      <td>5</td>\n",
       "      <td>yes</td>\n",
       "      <td>yes</td>\n",
       "      <td>yes</td>\n",
       "      <td>yes</td>\n",
       "      <td>no</td>\n",
       "      <td>1 yr to 2 yrs</td>\n",
       "      <td>no</td>\n",
       "      <td>yes</td>\n",
       "      <td>2</td>\n",
       "    </tr>\n",
       "  </tbody>\n",
       "</table>\n",
       "<p>4753 rows × 18 columns</p>\n",
       "</div>"
      ],
      "text/plain": [
       "       gender  age  ... drink_dairy_milk  other_household_members\n",
       "ID                  ...                                          \n",
       "95551       F   57  ...               no                        6\n",
       "101807      F   79  ...               no                        4\n",
       "98133       F   80  ...              yes                        0\n",
       "94950       F   80  ...              yes                        2\n",
       "102379      F   71  ...              yes                        1\n",
       "...       ...  ...  ...              ...                      ...\n",
       "96301       M   54  ...              yes                        0\n",
       "97753       M   62  ...              yes                        1\n",
       "102338      M   54  ...              yes                        5\n",
       "102466      M   34  ...               no                        1\n",
       "96471       M   65  ...              yes                        2\n",
       "\n",
       "[4753 rows x 18 columns]"
      ]
     },
     "metadata": {
      "tags": []
     },
     "execution_count": 26
    }
   ]
  },
  {
   "cell_type": "code",
   "metadata": {
    "scrolled": false,
    "id": "bHA67jpohBd6",
    "outputId": "6cead414-c26b-4545-9e75-39326017b242",
    "colab": {
     "base_uri": "https://localhost:8080/",
     "height": 0
    }
   },
   "source": [
    "# rank values by row or column\n",
    "\n",
    "dataset.rank(axis=0, ascending=True) # this returns a DataFrame full of ranks comparing rows\n"
   ],
   "execution_count": 27,
   "outputs": [
    {
     "output_type": "execute_result",
     "data": {
      "text/html": [
       "<div>\n",
       "<style scoped>\n",
       "    .dataframe tbody tr th:only-of-type {\n",
       "        vertical-align: middle;\n",
       "    }\n",
       "\n",
       "    .dataframe tbody tr th {\n",
       "        vertical-align: top;\n",
       "    }\n",
       "\n",
       "    .dataframe thead th {\n",
       "        text-align: right;\n",
       "    }\n",
       "</style>\n",
       "<table border=\"1\" class=\"dataframe\">\n",
       "  <thead>\n",
       "    <tr style=\"text-align: right;\">\n",
       "      <th></th>\n",
       "      <th>gender</th>\n",
       "      <th>age</th>\n",
       "      <th>race</th>\n",
       "      <th>DMDEDUC2</th>\n",
       "      <th>household_size</th>\n",
       "      <th>height_cm</th>\n",
       "      <th>weight_kg</th>\n",
       "      <th>freq_worried</th>\n",
       "      <th>freq_depressed</th>\n",
       "      <th>controlling_weight</th>\n",
       "      <th>increasing_exercise</th>\n",
       "      <th>reducing_diet_salt</th>\n",
       "      <th>reducing_diet_fat</th>\n",
       "      <th>lifetime_cigarettes_100+</th>\n",
       "      <th>last_visit_dentist</th>\n",
       "      <th>donte_blood_past_yr</th>\n",
       "      <th>drink_dairy_milk</th>\n",
       "      <th>other_household_members</th>\n",
       "    </tr>\n",
       "    <tr>\n",
       "      <th>ID</th>\n",
       "      <th></th>\n",
       "      <th></th>\n",
       "      <th></th>\n",
       "      <th></th>\n",
       "      <th></th>\n",
       "      <th></th>\n",
       "      <th></th>\n",
       "      <th></th>\n",
       "      <th></th>\n",
       "      <th></th>\n",
       "      <th></th>\n",
       "      <th></th>\n",
       "      <th></th>\n",
       "      <th></th>\n",
       "      <th></th>\n",
       "      <th></th>\n",
       "      <th></th>\n",
       "      <th></th>\n",
       "    </tr>\n",
       "  </thead>\n",
       "  <tbody>\n",
       "    <tr>\n",
       "      <th>93705</th>\n",
       "      <td>1220.5</td>\n",
       "      <td>3673.5</td>\n",
       "      <td>1832.0</td>\n",
       "      <td>623.0</td>\n",
       "      <td>327.0</td>\n",
       "      <td>1081.0</td>\n",
       "      <td>2363.0</td>\n",
       "      <td>1554.5</td>\n",
       "      <td>1747.0</td>\n",
       "      <td>3213.0</td>\n",
       "      <td>3338.0</td>\n",
       "      <td>3388.0</td>\n",
       "      <td>3312.5</td>\n",
       "      <td>3741.5</td>\n",
       "      <td>3033.0</td>\n",
       "      <td>2271.5</td>\n",
       "      <td>735.5</td>\n",
       "      <td>327.0</td>\n",
       "    </tr>\n",
       "    <tr>\n",
       "      <th>93708</th>\n",
       "      <td>1220.5</td>\n",
       "      <td>3673.5</td>\n",
       "      <td>953.5</td>\n",
       "      <td>184.5</td>\n",
       "      <td>1409.0</td>\n",
       "      <td>197.5</td>\n",
       "      <td>274.5</td>\n",
       "      <td>3526.5</td>\n",
       "      <td>3628.5</td>\n",
       "      <td>3213.0</td>\n",
       "      <td>961.5</td>\n",
       "      <td>3388.0</td>\n",
       "      <td>936.0</td>\n",
       "      <td>1365.5</td>\n",
       "      <td>1776.0</td>\n",
       "      <td>2271.5</td>\n",
       "      <td>3112.0</td>\n",
       "      <td>1409.0</td>\n",
       "    </tr>\n",
       "    <tr>\n",
       "      <th>93711</th>\n",
       "      <td>3597.0</td>\n",
       "      <td>2694.5</td>\n",
       "      <td>953.5</td>\n",
       "      <td>4167.0</td>\n",
       "      <td>2602.5</td>\n",
       "      <td>3077.5</td>\n",
       "      <td>782.5</td>\n",
       "      <td>3526.5</td>\n",
       "      <td>3628.5</td>\n",
       "      <td>3213.0</td>\n",
       "      <td>961.5</td>\n",
       "      <td>3388.0</td>\n",
       "      <td>3312.5</td>\n",
       "      <td>1365.5</td>\n",
       "      <td>3033.0</td>\n",
       "      <td>2271.5</td>\n",
       "      <td>735.5</td>\n",
       "      <td>2602.5</td>\n",
       "    </tr>\n",
       "    <tr>\n",
       "      <th>93713</th>\n",
       "      <td>3597.0</td>\n",
       "      <td>3757.0</td>\n",
       "      <td>3233.5</td>\n",
       "      <td>1448.5</td>\n",
       "      <td>327.0</td>\n",
       "      <td>4151.5</td>\n",
       "      <td>1913.0</td>\n",
       "      <td>358.5</td>\n",
       "      <td>133.0</td>\n",
       "      <td>836.5</td>\n",
       "      <td>961.5</td>\n",
       "      <td>1011.5</td>\n",
       "      <td>936.0</td>\n",
       "      <td>3741.5</td>\n",
       "      <td>3033.0</td>\n",
       "      <td>2271.5</td>\n",
       "      <td>3112.0</td>\n",
       "      <td>327.0</td>\n",
       "    </tr>\n",
       "    <tr>\n",
       "      <th>93714</th>\n",
       "      <td>1220.5</td>\n",
       "      <td>2490.5</td>\n",
       "      <td>1832.0</td>\n",
       "      <td>2803.5</td>\n",
       "      <td>2602.5</td>\n",
       "      <td>105.5</td>\n",
       "      <td>3041.5</td>\n",
       "      <td>1554.5</td>\n",
       "      <td>1747.0</td>\n",
       "      <td>836.5</td>\n",
       "      <td>961.5</td>\n",
       "      <td>1011.5</td>\n",
       "      <td>936.0</td>\n",
       "      <td>3741.5</td>\n",
       "      <td>4305.0</td>\n",
       "      <td>2271.5</td>\n",
       "      <td>3112.0</td>\n",
       "      <td>2602.5</td>\n",
       "    </tr>\n",
       "    <tr>\n",
       "      <th>...</th>\n",
       "      <td>...</td>\n",
       "      <td>...</td>\n",
       "      <td>...</td>\n",
       "      <td>...</td>\n",
       "      <td>...</td>\n",
       "      <td>...</td>\n",
       "      <td>...</td>\n",
       "      <td>...</td>\n",
       "      <td>...</td>\n",
       "      <td>...</td>\n",
       "      <td>...</td>\n",
       "      <td>...</td>\n",
       "      <td>...</td>\n",
       "      <td>...</td>\n",
       "      <td>...</td>\n",
       "      <td>...</td>\n",
       "      <td>...</td>\n",
       "      <td>...</td>\n",
       "    </tr>\n",
       "    <tr>\n",
       "      <th>102949</th>\n",
       "      <td>3597.0</td>\n",
       "      <td>978.0</td>\n",
       "      <td>3233.5</td>\n",
       "      <td>1448.5</td>\n",
       "      <td>4025.0</td>\n",
       "      <td>4289.0</td>\n",
       "      <td>2113.0</td>\n",
       "      <td>3526.5</td>\n",
       "      <td>3628.5</td>\n",
       "      <td>836.5</td>\n",
       "      <td>961.5</td>\n",
       "      <td>1011.5</td>\n",
       "      <td>936.0</td>\n",
       "      <td>3741.5</td>\n",
       "      <td>1228.5</td>\n",
       "      <td>2271.5</td>\n",
       "      <td>3112.0</td>\n",
       "      <td>4025.0</td>\n",
       "    </tr>\n",
       "    <tr>\n",
       "      <th>102952</th>\n",
       "      <td>1220.5</td>\n",
       "      <td>3982.0</td>\n",
       "      <td>953.5</td>\n",
       "      <td>1448.5</td>\n",
       "      <td>1409.0</td>\n",
       "      <td>833.0</td>\n",
       "      <td>101.0</td>\n",
       "      <td>3526.5</td>\n",
       "      <td>3628.5</td>\n",
       "      <td>3213.0</td>\n",
       "      <td>3338.0</td>\n",
       "      <td>3388.0</td>\n",
       "      <td>3312.5</td>\n",
       "      <td>1365.5</td>\n",
       "      <td>1776.0</td>\n",
       "      <td>2271.5</td>\n",
       "      <td>3112.0</td>\n",
       "      <td>1409.0</td>\n",
       "    </tr>\n",
       "    <tr>\n",
       "      <th>102953</th>\n",
       "      <td>3597.0</td>\n",
       "      <td>1626.5</td>\n",
       "      <td>316.0</td>\n",
       "      <td>1448.5</td>\n",
       "      <td>327.0</td>\n",
       "      <td>2163.5</td>\n",
       "      <td>3668.5</td>\n",
       "      <td>1554.5</td>\n",
       "      <td>1747.0</td>\n",
       "      <td>836.5</td>\n",
       "      <td>961.5</td>\n",
       "      <td>1011.5</td>\n",
       "      <td>936.0</td>\n",
       "      <td>3741.5</td>\n",
       "      <td>4305.0</td>\n",
       "      <td>2271.5</td>\n",
       "      <td>3112.0</td>\n",
       "      <td>327.0</td>\n",
       "    </tr>\n",
       "    <tr>\n",
       "      <th>102954</th>\n",
       "      <td>1220.5</td>\n",
       "      <td>1549.5</td>\n",
       "      <td>1832.0</td>\n",
       "      <td>4167.0</td>\n",
       "      <td>4651.5</td>\n",
       "      <td>1781.5</td>\n",
       "      <td>1329.5</td>\n",
       "      <td>3526.5</td>\n",
       "      <td>3628.5</td>\n",
       "      <td>3213.0</td>\n",
       "      <td>3338.0</td>\n",
       "      <td>3388.0</td>\n",
       "      <td>3312.5</td>\n",
       "      <td>1365.5</td>\n",
       "      <td>840.5</td>\n",
       "      <td>2271.5</td>\n",
       "      <td>3112.0</td>\n",
       "      <td>4651.5</td>\n",
       "    </tr>\n",
       "    <tr>\n",
       "      <th>102956</th>\n",
       "      <td>3597.0</td>\n",
       "      <td>1338.0</td>\n",
       "      <td>3233.5</td>\n",
       "      <td>2803.5</td>\n",
       "      <td>4025.0</td>\n",
       "      <td>3819.0</td>\n",
       "      <td>4234.0</td>\n",
       "      <td>4431.5</td>\n",
       "      <td>790.5</td>\n",
       "      <td>836.5</td>\n",
       "      <td>961.5</td>\n",
       "      <td>1011.5</td>\n",
       "      <td>936.0</td>\n",
       "      <td>3741.5</td>\n",
       "      <td>323.0</td>\n",
       "      <td>2271.5</td>\n",
       "      <td>735.5</td>\n",
       "      <td>4025.0</td>\n",
       "    </tr>\n",
       "  </tbody>\n",
       "</table>\n",
       "<p>4753 rows × 18 columns</p>\n",
       "</div>"
      ],
      "text/plain": [
       "        gender     age  ...  drink_dairy_milk  other_household_members\n",
       "ID                      ...                                           \n",
       "93705   1220.5  3673.5  ...             735.5                    327.0\n",
       "93708   1220.5  3673.5  ...            3112.0                   1409.0\n",
       "93711   3597.0  2694.5  ...             735.5                   2602.5\n",
       "93713   3597.0  3757.0  ...            3112.0                    327.0\n",
       "93714   1220.5  2490.5  ...            3112.0                   2602.5\n",
       "...        ...     ...  ...               ...                      ...\n",
       "102949  3597.0   978.0  ...            3112.0                   4025.0\n",
       "102952  1220.5  3982.0  ...            3112.0                   1409.0\n",
       "102953  3597.0  1626.5  ...            3112.0                    327.0\n",
       "102954  1220.5  1549.5  ...            3112.0                   4651.5\n",
       "102956  3597.0  1338.0  ...             735.5                   4025.0\n",
       "\n",
       "[4753 rows x 18 columns]"
      ]
     },
     "metadata": {
      "tags": []
     },
     "execution_count": 27
    }
   ]
  },
  {
   "cell_type": "markdown",
   "metadata": {
    "id": "hY0B79e7hBd8"
   },
   "source": [
    "## 7. Output\n",
    "After cleaning or manipulating our data, we can output the DataFrame to a file for storage."
   ]
  },
  {
   "cell_type": "code",
   "metadata": {
    "id": "BSK270iYhBd9"
   },
   "source": [
    "# .to_csv() method saves the DataFrame object to a csv file\n",
    "\n",
    "dataset.to_csv('my_df.csv')\n"
   ],
   "execution_count": 28,
   "outputs": []
  },
  {
   "cell_type": "code",
   "metadata": {
    "id": "ALpIyalVhBd-"
   },
   "source": [
    "# it's confusing, but we can output tab-separated values (tsv)/txt file with .to_csv()\n",
    "\n",
    "dataset.to_csv('my_df.txt', sep=\"\\t\")\n"
   ],
   "execution_count": 29,
   "outputs": []
  },
  {
   "cell_type": "code",
   "metadata": {
    "id": "mE4R2DuDhBeB"
   },
   "source": [
    "# .to_excel()\n",
    "\n",
    "dataset.to_excel('my_df.xlsx', sheet_name='test1')"
   ],
   "execution_count": 30,
   "outputs": []
  },
  {
   "cell_type": "markdown",
   "metadata": {
    "id": "Gwu7OziChBeD"
   },
   "source": [
    "## 8. Retrieve DataFrame information\n",
    "Below are some useful methods or attributes to help us understand some basic information about the DataFrame object."
   ]
  },
  {
   "cell_type": "markdown",
   "metadata": {
    "id": "rAw6pzb1hBeE"
   },
   "source": [
    "df.shape\n",
    "<br>df.index\n",
    "<br>df.columns\n",
    "<br>df.info()\n",
    "<br>df.count()\n",
    "<br>df.sum()\n",
    "<br>df.cumsum()\n",
    "<br>df.min()\n",
    "<br>df.max()\n",
    "<br>df.describe()\n",
    "<br>df.mean()\n",
    "<br>df.median()"
   ]
  },
  {
   "cell_type": "code",
   "metadata": {
    "id": "lOaawGw2hBeE",
    "outputId": "40e33d36-6737-43b9-cd5e-197c73643438",
    "colab": {
     "base_uri": "https://localhost:8080/"
    }
   },
   "source": [
    "# try it yourself\n",
    "dataset.columns"
   ],
   "execution_count": 31,
   "outputs": [
    {
     "output_type": "execute_result",
     "data": {
      "text/plain": [
       "Index(['gender', 'age', 'race', 'DMDEDUC2', 'household_size', 'height_cm',\n",
       "       'weight_kg', 'freq_worried', 'freq_depressed', 'controlling_weight',\n",
       "       'increasing_exercise', 'reducing_diet_salt', 'reducing_diet_fat',\n",
       "       'lifetime_cigarettes_100+', 'last_visit_dentist', 'donte_blood_past_yr',\n",
       "       'drink_dairy_milk', 'other_household_members'],\n",
       "      dtype='object')"
      ]
     },
     "metadata": {
      "tags": []
     },
     "execution_count": 31
    }
   ]
  },
  {
   "cell_type": "markdown",
   "metadata": {
    "id": "2YU56yRWZPNV"
   },
   "source": [
    "## <p><img alt=\"Scikit-learn logo\" height=\"45px\" src=\"https://raw.githubusercontent.com/KHSDTC/Hackathon_Autumn2020_Challenge/master/day1notebooks/figures/evaluation.png\" align=\"left\" hspace=\"10px\" vspace=\"0px\"></p>  **Challenge**\n",
    "\n",
    "\n"
   ]
  },
  {
   "cell_type": "markdown",
   "metadata": {
    "id": "sX60xHfbhBeH"
   },
   "source": [
    "Prepare your data by running:"
   ]
  },
  {
   "cell_type": "code",
   "metadata": {
    "id": "dHmEVD25hBeH"
   },
   "source": [
    "dataset_url = 'https://raw.githubusercontent.com/KHSDTC/Hackathon_Autumn2020_Challenge/master/day1notebooks/NHANES_1718_ToyData_modified.csv'\n",
    "dataset = pd.read_csv(dataset_url, index_col=\"ID\")"
   ],
   "execution_count": 32,
   "outputs": []
  },
  {
   "cell_type": "markdown",
   "metadata": {
    "id": "0F2sRZdLhBeJ"
   },
   "source": [
    "Join at www.kahoot.it\n",
    "<br>It's easier to play on phone, browser also works."
   ]
  },
  {
   "cell_type": "markdown",
   "metadata": {
    "id": "w-WiqpYQhBeJ"
   },
   "source": [
    "<br>\n",
    "<br>\n",
    "<br>\n",
    "<br>\n",
    "<br>\n",
    "<br>\n",
    "<br>\n",
    "<br>\n",
    "<br>\n",
    "<br>\n",
    "\n",
    "# Break\n",
    "<br>\n",
    "<br>\n",
    "<br>\n",
    "<br>\n",
    "<br>\n",
    "<br>\n",
    "<br>\n",
    "<br>\n",
    "<br>\n",
    "<br>"
   ]
  },
  {
   "cell_type": "markdown",
   "metadata": {
    "id": "3n00Yb2xhBeK"
   },
   "source": [
    "# Working with data\n",
    "\n",
    "<center><img src=\"https://raw.githubusercontent.com/KHSDTC/Hackathon_Autumn2020_Challenge/master/day1notebooks/figures/time_spent.jpg\" width=\"600\"></center>\n",
    "\n",
    "A core component of data science is to acquire raw data and processing it into an analysis-ready form. Generally, data scientists spend <B>80%</B> of their time <B>collecting, formulating and cleaning data</B>. Therefore, this section is very important - you'll learn useful skills to  spot problems and deal with them.\n",
    "\n"
   ]
  },
  {
   "cell_type": "markdown",
   "metadata": {
    "id": "B4RPgp4JhBeK"
   },
   "source": [
    "## 9. Exploring your data\n",
    "When you've just got a brand new dataset, the first things to do are:\n",
    "- explore and understand the variables and data properties\n",
    "- diagnosing issues such as outliers, missing values, row duplications, wrong data format, and unexpected values."
   ]
  },
  {
   "cell_type": "markdown",
   "metadata": {
    "id": "H4AgFfNAhBeK"
   },
   "source": [
    "### 9.1 Inspecting your data\n"
   ]
  },
  {
   "cell_type": "markdown",
   "metadata": {
    "id": "uGFBhgPHhBeL"
   },
   "source": [
    "Is there a missing value? Which column is it in?"
   ]
  },
  {
   "cell_type": "code",
   "metadata": {
    "id": "72oCsxK1hBeL",
    "outputId": "be89d4fd-7e8d-4cf1-8e8b-82c8197b533f",
    "colab": {
     "base_uri": "https://localhost:8080/"
    }
   },
   "source": [
    "# inspect the dataset with methods & attributes in section 8.\n",
    "# eg. \n",
    "dataset.info()"
   ],
   "execution_count": 33,
   "outputs": [
    {
     "output_type": "stream",
     "text": [
      "<class 'pandas.core.frame.DataFrame'>\n",
      "Int64Index: 4753 entries, 93705 to 102956\n",
      "Data columns (total 17 columns):\n",
      " #   Column                    Non-Null Count  Dtype  \n",
      "---  ------                    --------------  -----  \n",
      " 0   gender                    4753 non-null   object \n",
      " 1   age                       4753 non-null   int64  \n",
      " 2   race                      4753 non-null   object \n",
      " 3   DMDEDUC2                  4753 non-null   int64  \n",
      " 4   household_size            4753 non-null   int64  \n",
      " 5   height_cm                 4753 non-null   float64\n",
      " 6   weight_kg                 4753 non-null   float64\n",
      " 7   freq_worried              4753 non-null   object \n",
      " 8   freq_depressed            4753 non-null   int64  \n",
      " 9   controlling_weight        4753 non-null   object \n",
      " 10  increasing_exercise       4753 non-null   object \n",
      " 11  reducing_diet_salt        4753 non-null   object \n",
      " 12  reducing_diet_fat         4753 non-null   object \n",
      " 13  lifetime_cigarettes_100+  4752 non-null   object \n",
      " 14  last_visit_dentist        4753 non-null   object \n",
      " 15  donte_blood_past_yr       4753 non-null   object \n",
      " 16  drink_dairy_milk          4753 non-null   object \n",
      "dtypes: float64(2), int64(4), object(11)\n",
      "memory usage: 668.4+ KB\n"
     ],
     "name": "stdout"
    }
   ]
  },
  {
   "cell_type": "code",
   "metadata": {
    "id": "JGB7WJGRhBeN"
   },
   "source": [
    "# your code\n"
   ],
   "execution_count": 34,
   "outputs": []
  },
  {
   "cell_type": "markdown",
   "metadata": {
    "id": "EIXvzw7IhBeX"
   },
   "source": [
    "### 9.2 Exploratory data analysis"
   ]
  },
  {
   "cell_type": "markdown",
   "metadata": {
    "id": "pByQGocRhBeY"
   },
   "source": [
    "Summary statistics is an easy way to spot outliers/problematic data. Can you find it?"
   ]
  },
  {
   "cell_type": "code",
   "metadata": {
    "id": "QzLL6paQhBeY",
    "outputId": "5289ea32-a9ec-420f-ffa3-061aa8359c4f",
    "colab": {
     "base_uri": "https://localhost:8080/",
     "height": 0
    }
   },
   "source": [
    "# .describe() gives summary statistics\n",
    "\n",
    "dataset.describe()"
   ],
   "execution_count": 35,
   "outputs": [
    {
     "output_type": "execute_result",
     "data": {
      "text/html": [
       "<div>\n",
       "<style scoped>\n",
       "    .dataframe tbody tr th:only-of-type {\n",
       "        vertical-align: middle;\n",
       "    }\n",
       "\n",
       "    .dataframe tbody tr th {\n",
       "        vertical-align: top;\n",
       "    }\n",
       "\n",
       "    .dataframe thead th {\n",
       "        text-align: right;\n",
       "    }\n",
       "</style>\n",
       "<table border=\"1\" class=\"dataframe\">\n",
       "  <thead>\n",
       "    <tr style=\"text-align: right;\">\n",
       "      <th></th>\n",
       "      <th>age</th>\n",
       "      <th>DMDEDUC2</th>\n",
       "      <th>household_size</th>\n",
       "      <th>height_cm</th>\n",
       "      <th>weight_kg</th>\n",
       "      <th>freq_depressed</th>\n",
       "    </tr>\n",
       "  </thead>\n",
       "  <tbody>\n",
       "    <tr>\n",
       "      <th>count</th>\n",
       "      <td>4753.000000</td>\n",
       "      <td>4753.000000</td>\n",
       "      <td>4753.000000</td>\n",
       "      <td>4753.000000</td>\n",
       "      <td>4753.000000</td>\n",
       "      <td>4753.000000</td>\n",
       "    </tr>\n",
       "    <tr>\n",
       "      <th>mean</th>\n",
       "      <td>51.100989</td>\n",
       "      <td>3.563644</td>\n",
       "      <td>3.117189</td>\n",
       "      <td>166.539870</td>\n",
       "      <td>83.299369</td>\n",
       "      <td>4.090890</td>\n",
       "    </tr>\n",
       "    <tr>\n",
       "      <th>std</th>\n",
       "      <td>17.948600</td>\n",
       "      <td>1.203862</td>\n",
       "      <td>1.623800</td>\n",
       "      <td>10.077514</td>\n",
       "      <td>22.909298</td>\n",
       "      <td>1.171413</td>\n",
       "    </tr>\n",
       "    <tr>\n",
       "      <th>min</th>\n",
       "      <td>20.000000</td>\n",
       "      <td>1.000000</td>\n",
       "      <td>1.000000</td>\n",
       "      <td>138.300000</td>\n",
       "      <td>36.800000</td>\n",
       "      <td>1.000000</td>\n",
       "    </tr>\n",
       "    <tr>\n",
       "      <th>25%</th>\n",
       "      <td>36.000000</td>\n",
       "      <td>3.000000</td>\n",
       "      <td>2.000000</td>\n",
       "      <td>159.100000</td>\n",
       "      <td>67.400000</td>\n",
       "      <td>4.000000</td>\n",
       "    </tr>\n",
       "    <tr>\n",
       "      <th>50%</th>\n",
       "      <td>52.000000</td>\n",
       "      <td>4.000000</td>\n",
       "      <td>3.000000</td>\n",
       "      <td>166.100000</td>\n",
       "      <td>79.600000</td>\n",
       "      <td>4.000000</td>\n",
       "    </tr>\n",
       "    <tr>\n",
       "      <th>75%</th>\n",
       "      <td>65.000000</td>\n",
       "      <td>4.000000</td>\n",
       "      <td>4.000000</td>\n",
       "      <td>173.900000</td>\n",
       "      <td>95.500000</td>\n",
       "      <td>5.000000</td>\n",
       "    </tr>\n",
       "    <tr>\n",
       "      <th>max</th>\n",
       "      <td>333.000000</td>\n",
       "      <td>9.000000</td>\n",
       "      <td>7.000000</td>\n",
       "      <td>197.700000</td>\n",
       "      <td>242.600000</td>\n",
       "      <td>9.000000</td>\n",
       "    </tr>\n",
       "  </tbody>\n",
       "</table>\n",
       "</div>"
      ],
      "text/plain": [
       "               age     DMDEDUC2  ...    weight_kg  freq_depressed\n",
       "count  4753.000000  4753.000000  ...  4753.000000     4753.000000\n",
       "mean     51.100989     3.563644  ...    83.299369        4.090890\n",
       "std      17.948600     1.203862  ...    22.909298        1.171413\n",
       "min      20.000000     1.000000  ...    36.800000        1.000000\n",
       "25%      36.000000     3.000000  ...    67.400000        4.000000\n",
       "50%      52.000000     4.000000  ...    79.600000        4.000000\n",
       "75%      65.000000     4.000000  ...    95.500000        5.000000\n",
       "max     333.000000     9.000000  ...   242.600000        9.000000\n",
       "\n",
       "[8 rows x 6 columns]"
      ]
     },
     "metadata": {
      "tags": []
     },
     "execution_count": 35
    }
   ]
  },
  {
   "cell_type": "markdown",
   "metadata": {
    "id": "GI_hkKnPhBea"
   },
   "source": [
    "More summary methods:\n",
    "- .var( )\n",
    "- .std( )\n",
    "- .quantile([0.25, 0.75])"
   ]
  },
  {
   "cell_type": "code",
   "metadata": {
    "id": "rIhC5SXYhBeb"
   },
   "source": [
    "# your code\n",
    "# eg. dataset.quantile([0.25, 0.75])\n"
   ],
   "execution_count": 36,
   "outputs": []
  },
  {
   "cell_type": "markdown",
   "metadata": {
    "id": "17GAJ8NJhBec"
   },
   "source": [
    "### 9.3 Visual exploratory data analysis\n",
    "\n",
    "Visualising data is a great way to spot outliers and obvious issues. Once we identified the errors, we can plan steps to clean the data. We can also get a brief idea of patterns and relationships between variables.\n",
    "\n",
    "- histograms - single variable distribution\n",
    "- boxplots - multiple variables, individual distributions\n",
    "- scatter plots - multiple variables, combined distribution\n",
    "- simple statistical analysis (correlation)"
   ]
  },
  {
   "cell_type": "code",
   "metadata": {
    "id": "t1w-853zhBed",
    "outputId": "30f31a1a-13b9-482d-dc4f-51b5569f728f",
    "colab": {
     "base_uri": "https://localhost:8080/",
     "height": 0
    }
   },
   "source": [
    "dataset.hist(column = \"height_cm\", bins = 20)\n",
    "\n",
    "plt.show()"
   ],
   "execution_count": 37,
   "outputs": [
    {
     "output_type": "display_data",
     "data": {
      "image/png": "[encoded data removed]",
      "text/plain": [
       "<Figure size 432x288 with 1 Axes>"
      ]
     },
     "metadata": {
      "tags": [],
      "needs_background": "light"
     }
    }
   ]
  },
  {
   "cell_type": "code",
   "metadata": {
    "id": "43sLcKe8hBee",
    "outputId": "829b22d3-3ead-4a3f-d68e-e4edb337e141",
    "colab": {
     "base_uri": "https://localhost:8080/",
     "height": 0
    }
   },
   "source": [
    "dataset.hist(column = \"height_cm\", by = \"gender\", bins = 20)\n",
    "\n",
    "plt.show()"
   ],
   "execution_count": 38,
   "outputs": [
    {
     "output_type": "display_data",
     "data": {
      "image/png": "[encoded data removed]",
      "text/plain": [
       "<Figure size 432x288 with 2 Axes>"
      ]
     },
     "metadata": {
      "tags": [],
      "needs_background": "light"
     }
    }
   ]
  },
  {
   "cell_type": "code",
   "metadata": {
    "id": "24BpchZ7hBeg",
    "outputId": "1db73a1e-44fd-4e10-ec62-84bbb37e0846",
    "colab": {
     "base_uri": "https://localhost:8080/",
     "height": 0
    }
   },
   "source": [
    "dataset.boxplot(column = \"age\", by = \"gender\")\n",
    "\n",
    "plt.show()"
   ],
   "execution_count": 39,
   "outputs": [
    {
     "output_type": "display_data",
     "data": {
      "image/png": "[encoded data removed]",
      "text/plain": [
       "<Figure size 432x288 with 1 Axes>"
      ]
     },
     "metadata": {
      "tags": [],
      "needs_background": "light"
     }
    }
   ]
  },
  {
   "cell_type": "code",
   "metadata": {
    "id": "P1wtofd8hBei",
    "outputId": "57bcb379-4c44-4e51-baf2-626e84550873",
    "colab": {
     "base_uri": "https://localhost:8080/",
     "height": 0
    }
   },
   "source": [
    "# scatter plot\n",
    "# note that this function is .plot.scatter, not .scatter\n",
    "\n",
    "dataset.plot.scatter(\"height_cm\",\"weight_kg\")"
   ],
   "execution_count": 40,
   "outputs": [
    {
     "output_type": "execute_result",
     "data": {
      "text/plain": [
       "<matplotlib.axes._subplots.AxesSubplot at 0x7f31e2c9ac18>"
      ]
     },
     "metadata": {
      "tags": []
     },
     "execution_count": 40
    },
    {
     "output_type": "display_data",
     "data": {
      "image/png": "[encoded data removed]",
      "text/plain": [
       "<Figure size 432x288 with 1 Axes>"
      ]
     },
     "metadata": {
      "tags": [],
      "needs_background": "light"
     }
    }
   ]
  },
  {
   "cell_type": "code",
   "metadata": {
    "id": "NPjGvyTqhBek",
    "outputId": "69722e5e-c4a7-45b3-ab12-ebddf037ddc0",
    "colab": {
     "base_uri": "https://localhost:8080/",
     "height": 0
    }
   },
   "source": [
    "# testing correlation\n",
    "\n",
    "df.corr(method = \"pearson\")"
   ],
   "execution_count": 41,
   "outputs": [
    {
     "output_type": "execute_result",
     "data": {
      "text/html": [
       "<div>\n",
       "<style scoped>\n",
       "    .dataframe tbody tr th:only-of-type {\n",
       "        vertical-align: middle;\n",
       "    }\n",
       "\n",
       "    .dataframe tbody tr th {\n",
       "        vertical-align: top;\n",
       "    }\n",
       "\n",
       "    .dataframe thead th {\n",
       "        text-align: right;\n",
       "    }\n",
       "</style>\n",
       "<table border=\"1\" class=\"dataframe\">\n",
       "  <thead>\n",
       "    <tr style=\"text-align: right;\">\n",
       "      <th></th>\n",
       "      <th>population</th>\n",
       "      <th>cases</th>\n",
       "      <th>deaths</th>\n",
       "    </tr>\n",
       "  </thead>\n",
       "  <tbody>\n",
       "    <tr>\n",
       "      <th>population</th>\n",
       "      <td>1.000000</td>\n",
       "      <td>0.999874</td>\n",
       "      <td>0.999882</td>\n",
       "    </tr>\n",
       "    <tr>\n",
       "      <th>cases</th>\n",
       "      <td>0.999874</td>\n",
       "      <td>1.000000</td>\n",
       "      <td>0.999929</td>\n",
       "    </tr>\n",
       "    <tr>\n",
       "      <th>deaths</th>\n",
       "      <td>0.999882</td>\n",
       "      <td>0.999929</td>\n",
       "      <td>1.000000</td>\n",
       "    </tr>\n",
       "  </tbody>\n",
       "</table>\n",
       "</div>"
      ],
      "text/plain": [
       "            population     cases    deaths\n",
       "population    1.000000  0.999874  0.999882\n",
       "cases         0.999874  1.000000  0.999929\n",
       "deaths        0.999882  0.999929  1.000000"
      ]
     },
     "metadata": {
      "tags": []
     },
     "execution_count": 41
    }
   ]
  },
  {
   "cell_type": "code",
   "metadata": {
    "id": "_AqInx20hBel",
    "outputId": "f3451484-e640-4e6d-fe1c-43b36cd1b0fc",
    "colab": {
     "base_uri": "https://localhost:8080/"
    }
   },
   "source": [
    "# using NumPy's Pearson correlation coefficient function\n",
    "\n",
    "np.corrcoef(dataset.height_cm, dataset.weight_kg)"
   ],
   "execution_count": 42,
   "outputs": [
    {
     "output_type": "execute_result",
     "data": {
      "text/plain": [
       "array([[1.       , 0.4375404],\n",
       "       [0.4375404, 1.       ]])"
      ]
     },
     "metadata": {
      "tags": []
     },
     "execution_count": 42
    }
   ]
  },
  {
   "cell_type": "markdown",
   "metadata": {
    "id": "VFt_dfGchBeo"
   },
   "source": [
    "## 10. Combining data for analysis\n",
    "The ability to transform and combine your data is a crucial skill in data science, because your data may not always come in one monolithic file or table for you to load. A large dataset may be broken into separate datasets to facilitate easier storage and sharing. But it's important to be able to run your analysis on a single dataset."
   ]
  },
  {
   "cell_type": "markdown",
   "metadata": {
    "id": "RbhvtM76hBeo"
   },
   "source": [
    "<center><img src=\"https://raw.githubusercontent.com/KHSDTC/Hackathon_Autumn2020_Challenge/master/day1notebooks/figures/data1_2.png\" width=\"200\"></center>"
   ]
  },
  {
   "cell_type": "code",
   "metadata": {
    "id": "MuzZGHa-hBeo"
   },
   "source": [
    "data1 = pd.DataFrame({'X1':['a','b','c'],\n",
    "                      'X2':[11.432, 1.303, 99.906]})\n",
    "\n",
    "data2 = pd.DataFrame({'X1':['a','b','d'],\n",
    "                      'X3':[20.784, 'NaN', 20.784]})"
   ],
   "execution_count": 43,
   "outputs": []
  },
  {
   "cell_type": "markdown",
   "metadata": {
    "id": "32sO8JT0hBeq"
   },
   "source": [
    "### 10.1 Merging\n",
    "Combining tables with different variables. There must be a common identifier. If a particular variable is not present for an entry, a missing value will be created.\n",
    "- left: keep entries as in the 'left'/first data frame\n",
    "- right: keep entries as in the 'right'/second data frame\n",
    "- inner: keep entries that is present in both data frames\n",
    "- outer: keep all entries"
   ]
  },
  {
   "cell_type": "markdown",
   "metadata": {
    "id": "3UQ1JAA9hBeq"
   },
   "source": [
    "<center><img src=\"https://raw.githubusercontent.com/KHSDTC/Hackathon_Autumn2020_Challenge/master/day1notebooks/figures/merge.png\" width=\"400\"></center>"
   ]
  },
  {
   "cell_type": "code",
   "metadata": {
    "id": "Z1BLjEgBhBeq",
    "outputId": "eb72dd49-facb-42e5-ec96-24295f7e4de6",
    "colab": {
     "base_uri": "https://localhost:8080/",
     "height": 0
    }
   },
   "source": [
    "pd.merge(data1, data2, how='left', on='X1')"
   ],
   "execution_count": 44,
   "outputs": [
    {
     "output_type": "execute_result",
     "data": {
      "text/html": [
       "<div>\n",
       "<style scoped>\n",
       "    .dataframe tbody tr th:only-of-type {\n",
       "        vertical-align: middle;\n",
       "    }\n",
       "\n",
       "    .dataframe tbody tr th {\n",
       "        vertical-align: top;\n",
       "    }\n",
       "\n",
       "    .dataframe thead th {\n",
       "        text-align: right;\n",
       "    }\n",
       "</style>\n",
       "<table border=\"1\" class=\"dataframe\">\n",
       "  <thead>\n",
       "    <tr style=\"text-align: right;\">\n",
       "      <th></th>\n",
       "      <th>X1</th>\n",
       "      <th>X2</th>\n",
       "      <th>X3</th>\n",
       "    </tr>\n",
       "  </thead>\n",
       "  <tbody>\n",
       "    <tr>\n",
       "      <th>0</th>\n",
       "      <td>a</td>\n",
       "      <td>11.432</td>\n",
       "      <td>20.784</td>\n",
       "    </tr>\n",
       "    <tr>\n",
       "      <th>1</th>\n",
       "      <td>b</td>\n",
       "      <td>1.303</td>\n",
       "      <td>NaN</td>\n",
       "    </tr>\n",
       "    <tr>\n",
       "      <th>2</th>\n",
       "      <td>c</td>\n",
       "      <td>99.906</td>\n",
       "      <td>NaN</td>\n",
       "    </tr>\n",
       "  </tbody>\n",
       "</table>\n",
       "</div>"
      ],
      "text/plain": [
       "  X1      X2      X3\n",
       "0  a  11.432  20.784\n",
       "1  b   1.303     NaN\n",
       "2  c  99.906     NaN"
      ]
     },
     "metadata": {
      "tags": []
     },
     "execution_count": 44
    }
   ]
  },
  {
   "cell_type": "markdown",
   "metadata": {
    "id": "DTnXJ5vWhBet"
   },
   "source": [
    "### 10.2 Concatenate\n",
    "Simply glue data frames together. This doesn't consider common identifiers. This is useful for gluing together data frames with different samples."
   ]
  },
  {
   "cell_type": "code",
   "metadata": {
    "id": "pr7mi3n5hBet",
    "outputId": "ed9883c2-55c5-41f7-cb47-3d552a72faed",
    "colab": {
     "base_uri": "https://localhost:8080/",
     "height": 0
    }
   },
   "source": [
    "pd.concat([data1, data2], axis=0)"
   ],
   "execution_count": 45,
   "outputs": [
    {
     "output_type": "execute_result",
     "data": {
      "text/html": [
       "<div>\n",
       "<style scoped>\n",
       "    .dataframe tbody tr th:only-of-type {\n",
       "        vertical-align: middle;\n",
       "    }\n",
       "\n",
       "    .dataframe tbody tr th {\n",
       "        vertical-align: top;\n",
       "    }\n",
       "\n",
       "    .dataframe thead th {\n",
       "        text-align: right;\n",
       "    }\n",
       "</style>\n",
       "<table border=\"1\" class=\"dataframe\">\n",
       "  <thead>\n",
       "    <tr style=\"text-align: right;\">\n",
       "      <th></th>\n",
       "      <th>X1</th>\n",
       "      <th>X2</th>\n",
       "      <th>X3</th>\n",
       "    </tr>\n",
       "  </thead>\n",
       "  <tbody>\n",
       "    <tr>\n",
       "      <th>0</th>\n",
       "      <td>a</td>\n",
       "      <td>11.432</td>\n",
       "      <td>NaN</td>\n",
       "    </tr>\n",
       "    <tr>\n",
       "      <th>1</th>\n",
       "      <td>b</td>\n",
       "      <td>1.303</td>\n",
       "      <td>NaN</td>\n",
       "    </tr>\n",
       "    <tr>\n",
       "      <th>2</th>\n",
       "      <td>c</td>\n",
       "      <td>99.906</td>\n",
       "      <td>NaN</td>\n",
       "    </tr>\n",
       "    <tr>\n",
       "      <th>0</th>\n",
       "      <td>a</td>\n",
       "      <td>NaN</td>\n",
       "      <td>20.784</td>\n",
       "    </tr>\n",
       "    <tr>\n",
       "      <th>1</th>\n",
       "      <td>b</td>\n",
       "      <td>NaN</td>\n",
       "      <td>NaN</td>\n",
       "    </tr>\n",
       "    <tr>\n",
       "      <th>2</th>\n",
       "      <td>d</td>\n",
       "      <td>NaN</td>\n",
       "      <td>20.784</td>\n",
       "    </tr>\n",
       "  </tbody>\n",
       "</table>\n",
       "</div>"
      ],
      "text/plain": [
       "  X1      X2      X3\n",
       "0  a  11.432     NaN\n",
       "1  b   1.303     NaN\n",
       "2  c  99.906     NaN\n",
       "0  a     NaN  20.784\n",
       "1  b     NaN     NaN\n",
       "2  d     NaN  20.784"
      ]
     },
     "metadata": {
      "tags": []
     },
     "execution_count": 45
    }
   ]
  },
  {
   "cell_type": "markdown",
   "metadata": {
    "id": "Q6VRevvChBeu"
   },
   "source": [
    "## 11. Cleaning data for analysis\n",
    "Dive into some of the grittier aspects of data cleaning. Learn about string manipulation and pattern matching to deal with unstructured data, and then explore techniques to deal with missing or duplicate data. You'll also learn the valuable skill of programmatically checking your data for consistency, which will give you confidence that your code is running correctly and that the results of your analysis are reliable."
   ]
  },
  {
   "cell_type": "markdown",
   "metadata": {
    "id": "bwyMKYvphBev"
   },
   "source": [
    "### 11.1 Converting data types"
   ]
  },
  {
   "cell_type": "code",
   "metadata": {
    "id": "bY-O9mKrhBev",
    "outputId": "2567e601-3b28-4656-9dbd-b90295270ae5",
    "colab": {
     "base_uri": "https://localhost:8080/"
    }
   },
   "source": [
    "dataset.dtypes"
   ],
   "execution_count": 46,
   "outputs": [
    {
     "output_type": "execute_result",
     "data": {
      "text/plain": [
       "gender                       object\n",
       "age                           int64\n",
       "race                         object\n",
       "DMDEDUC2                      int64\n",
       "household_size                int64\n",
       "height_cm                   float64\n",
       "weight_kg                   float64\n",
       "freq_worried                 object\n",
       "freq_depressed                int64\n",
       "controlling_weight           object\n",
       "increasing_exercise          object\n",
       "reducing_diet_salt           object\n",
       "reducing_diet_fat            object\n",
       "lifetime_cigarettes_100+     object\n",
       "last_visit_dentist           object\n",
       "donte_blood_past_yr          object\n",
       "drink_dairy_milk             object\n",
       "dtype: object"
      ]
     },
     "metadata": {
      "tags": []
     },
     "execution_count": 46
    }
   ]
  },
  {
   "cell_type": "code",
   "metadata": {
    "id": "SJlmK7j2hBex",
    "outputId": "fe4157be-9bd0-4a15-8bff-4256834caded",
    "colab": {
     "base_uri": "https://localhost:8080/"
    }
   },
   "source": [
    "# freq_depressed is a categorical variable, we can change the values to strings\n",
    "\n",
    "dataset['freq_depressed'] = dataset['freq_depressed'].astype('str')\n",
    "\n",
    "dataset.dtypes\n"
   ],
   "execution_count": 47,
   "outputs": [
    {
     "output_type": "execute_result",
     "data": {
      "text/plain": [
       "gender                       object\n",
       "age                           int64\n",
       "race                         object\n",
       "DMDEDUC2                      int64\n",
       "household_size                int64\n",
       "height_cm                   float64\n",
       "weight_kg                   float64\n",
       "freq_worried                 object\n",
       "freq_depressed               object\n",
       "controlling_weight           object\n",
       "increasing_exercise          object\n",
       "reducing_diet_salt           object\n",
       "reducing_diet_fat            object\n",
       "lifetime_cigarettes_100+     object\n",
       "last_visit_dentist           object\n",
       "donte_blood_past_yr          object\n",
       "drink_dairy_milk             object\n",
       "dtype: object"
      ]
     },
     "metadata": {
      "tags": []
     },
     "execution_count": 47
    }
   ]
  },
  {
   "cell_type": "code",
   "metadata": {
    "id": "QUR7q7pRhBey",
    "outputId": "efadca4e-2f27-4e1d-ef6c-a422970107e5",
    "colab": {
     "base_uri": "https://localhost:8080/"
    }
   },
   "source": [
    "# categorical variables can also be assigned the 'category' dtype\n",
    "\n",
    "dataset['gender'] = dataset['gender'].astype('category')\n",
    "\n",
    "dataset.dtypes\n"
   ],
   "execution_count": 48,
   "outputs": [
    {
     "output_type": "execute_result",
     "data": {
      "text/plain": [
       "gender                      category\n",
       "age                            int64\n",
       "race                          object\n",
       "DMDEDUC2                       int64\n",
       "household_size                 int64\n",
       "height_cm                    float64\n",
       "weight_kg                    float64\n",
       "freq_worried                  object\n",
       "freq_depressed                object\n",
       "controlling_weight            object\n",
       "increasing_exercise           object\n",
       "reducing_diet_salt            object\n",
       "reducing_diet_fat             object\n",
       "lifetime_cigarettes_100+      object\n",
       "last_visit_dentist            object\n",
       "donte_blood_past_yr           object\n",
       "drink_dairy_milk              object\n",
       "dtype: object"
      ]
     },
     "metadata": {
      "tags": []
     },
     "execution_count": 48
    }
   ]
  },
  {
   "cell_type": "code",
   "metadata": {
    "id": "FfJb8VNxhBe0",
    "outputId": "85c53c74-4bcc-46f5-921a-a4031f1cdc4e",
    "colab": {
     "base_uri": "https://localhost:8080/"
    }
   },
   "source": [
    "# you can see the category information is saved for the column\n",
    "# this is sometimes useful for analysis packages\n",
    "\n",
    "dataset.gender"
   ],
   "execution_count": 49,
   "outputs": [
    {
     "output_type": "execute_result",
     "data": {
      "text/plain": [
       "ID\n",
       "93705     F\n",
       "93708     F\n",
       "93711     M\n",
       "93713     M\n",
       "93714     F\n",
       "         ..\n",
       "102949    M\n",
       "102952    F\n",
       "102953    M\n",
       "102954    F\n",
       "102956    M\n",
       "Name: gender, Length: 4753, dtype: category\n",
       "Categories (2, object): ['F', 'M']"
      ]
     },
     "metadata": {
      "tags": []
     },
     "execution_count": 49
    }
   ]
  },
  {
   "cell_type": "markdown",
   "metadata": {
    "id": "Gw3m5_QShBe1"
   },
   "source": [
    "### 11.2 Dropping duplicate data\n"
   ]
  },
  {
   "cell_type": "code",
   "metadata": {
    "id": "QAWa-f6QhBe2",
    "outputId": "a47d3f80-e3dc-4a20-e656-c4ef98538bf4",
    "colab": {
     "base_uri": "https://localhost:8080/"
    }
   },
   "source": [
    "data3 = pd.DataFrame({'X1':['a','b','b','c'],\n",
    "                      'X2':[11, 12, 12, 13]})\n",
    "print(data3)"
   ],
   "execution_count": 50,
   "outputs": [
    {
     "output_type": "stream",
     "text": [
      "  X1  X2\n",
      "0  a  11\n",
      "1  b  12\n",
      "2  b  12\n",
      "3  c  13\n"
     ],
     "name": "stdout"
    }
   ]
  },
  {
   "cell_type": "code",
   "metadata": {
    "id": "2plT7H4nhBe3",
    "outputId": "90370859-4805-4891-89dd-df814eb007e4",
    "colab": {
     "base_uri": "https://localhost:8080/",
     "height": 0
    }
   },
   "source": [
    "# remove duplicate rows\n",
    "\n",
    "data3.drop_duplicates()"
   ],
   "execution_count": 51,
   "outputs": [
    {
     "output_type": "execute_result",
     "data": {
      "text/html": [
       "<div>\n",
       "<style scoped>\n",
       "    .dataframe tbody tr th:only-of-type {\n",
       "        vertical-align: middle;\n",
       "    }\n",
       "\n",
       "    .dataframe tbody tr th {\n",
       "        vertical-align: top;\n",
       "    }\n",
       "\n",
       "    .dataframe thead th {\n",
       "        text-align: right;\n",
       "    }\n",
       "</style>\n",
       "<table border=\"1\" class=\"dataframe\">\n",
       "  <thead>\n",
       "    <tr style=\"text-align: right;\">\n",
       "      <th></th>\n",
       "      <th>X1</th>\n",
       "      <th>X2</th>\n",
       "    </tr>\n",
       "  </thead>\n",
       "  <tbody>\n",
       "    <tr>\n",
       "      <th>0</th>\n",
       "      <td>a</td>\n",
       "      <td>11</td>\n",
       "    </tr>\n",
       "    <tr>\n",
       "      <th>1</th>\n",
       "      <td>b</td>\n",
       "      <td>12</td>\n",
       "    </tr>\n",
       "    <tr>\n",
       "      <th>3</th>\n",
       "      <td>c</td>\n",
       "      <td>13</td>\n",
       "    </tr>\n",
       "  </tbody>\n",
       "</table>\n",
       "</div>"
      ],
      "text/plain": [
       "  X1  X2\n",
       "0  a  11\n",
       "1  b  12\n",
       "3  c  13"
      ]
     },
     "metadata": {
      "tags": []
     },
     "execution_count": 51
    }
   ]
  },
  {
   "cell_type": "markdown",
   "metadata": {
    "id": "a3RE_ZsHhBe6"
   },
   "source": [
    "### 11.3 Dealing with missing data"
   ]
  },
  {
   "cell_type": "code",
   "metadata": {
    "id": "bRs5T6EJhBe6",
    "outputId": "1a0fd07d-fb4f-4a91-9409-be2e40cc781d",
    "colab": {
     "base_uri": "https://localhost:8080/"
    }
   },
   "source": [
    "# drop rows with any column having NA/null data, then check with info()\n",
    "\n",
    "dataset.dropna(inplace=False).info()"
   ],
   "execution_count": 52,
   "outputs": [
    {
     "output_type": "stream",
     "text": [
      "<class 'pandas.core.frame.DataFrame'>\n",
      "Int64Index: 4752 entries, 93705 to 102956\n",
      "Data columns (total 17 columns):\n",
      " #   Column                    Non-Null Count  Dtype   \n",
      "---  ------                    --------------  -----   \n",
      " 0   gender                    4752 non-null   category\n",
      " 1   age                       4752 non-null   int64   \n",
      " 2   race                      4752 non-null   object  \n",
      " 3   DMDEDUC2                  4752 non-null   int64   \n",
      " 4   household_size            4752 non-null   int64   \n",
      " 5   height_cm                 4752 non-null   float64 \n",
      " 6   weight_kg                 4752 non-null   float64 \n",
      " 7   freq_worried              4752 non-null   object  \n",
      " 8   freq_depressed            4752 non-null   object  \n",
      " 9   controlling_weight        4752 non-null   object  \n",
      " 10  increasing_exercise       4752 non-null   object  \n",
      " 11  reducing_diet_salt        4752 non-null   object  \n",
      " 12  reducing_diet_fat         4752 non-null   object  \n",
      " 13  lifetime_cigarettes_100+  4752 non-null   object  \n",
      " 14  last_visit_dentist        4752 non-null   object  \n",
      " 15  donte_blood_past_yr       4752 non-null   object  \n",
      " 16  drink_dairy_milk          4752 non-null   object  \n",
      "dtypes: category(1), float64(2), int64(3), object(11)\n",
      "memory usage: 635.9+ KB\n"
     ],
     "name": "stdout"
    }
   ]
  },
  {
   "cell_type": "code",
   "metadata": {
    "id": "8IHrJTMHhBe7"
   },
   "source": [
    "# replace all NA/null data with dedicated value, then check with info()\n",
    "\n",
    "dataset.fillna(\"no\", inplace=False).info()"
   ],
   "execution_count": null,
   "outputs": []
  },
  {
   "cell_type": "markdown",
   "metadata": {
    "id": "8BUzRYI4hBe8"
   },
   "source": [
    ".fillna( ) can be used to impute missing data with the mean value, for example, as in df.height_cm.fillna(df.height_cm.mean( ))."
   ]
  },
  {
   "cell_type": "markdown",
   "metadata": {
    "id": "EvlLLR5xhBe9"
   },
   "source": [
    "### 11.4 recoding data\n",
    "Sometimes we want the values to be coded differently, eg. no-0, yes-1."
   ]
  },
  {
   "cell_type": "code",
   "metadata": {
    "id": "upwr1X-rhBe9",
    "outputId": "d1551805-56b0-4fdd-8386-49c9664b2603",
    "colab": {
     "base_uri": "https://localhost:8080/",
     "height": 0
    }
   },
   "source": [
    "# replace values with others\n",
    "\n",
    "dataset.replace(\"no\", 0, inplace=False)"
   ],
   "execution_count": 54,
   "outputs": [
    {
     "output_type": "execute_result",
     "data": {
      "text/html": [
       "<div>\n",
       "<style scoped>\n",
       "    .dataframe tbody tr th:only-of-type {\n",
       "        vertical-align: middle;\n",
       "    }\n",
       "\n",
       "    .dataframe tbody tr th {\n",
       "        vertical-align: top;\n",
       "    }\n",
       "\n",
       "    .dataframe thead th {\n",
       "        text-align: right;\n",
       "    }\n",
       "</style>\n",
       "<table border=\"1\" class=\"dataframe\">\n",
       "  <thead>\n",
       "    <tr style=\"text-align: right;\">\n",
       "      <th></th>\n",
       "      <th>gender</th>\n",
       "      <th>age</th>\n",
       "      <th>race</th>\n",
       "      <th>DMDEDUC2</th>\n",
       "      <th>household_size</th>\n",
       "      <th>height_cm</th>\n",
       "      <th>weight_kg</th>\n",
       "      <th>freq_worried</th>\n",
       "      <th>freq_depressed</th>\n",
       "      <th>controlling_weight</th>\n",
       "      <th>increasing_exercise</th>\n",
       "      <th>reducing_diet_salt</th>\n",
       "      <th>reducing_diet_fat</th>\n",
       "      <th>lifetime_cigarettes_100+</th>\n",
       "      <th>last_visit_dentist</th>\n",
       "      <th>donte_blood_past_yr</th>\n",
       "      <th>drink_dairy_milk</th>\n",
       "    </tr>\n",
       "    <tr>\n",
       "      <th>ID</th>\n",
       "      <th></th>\n",
       "      <th></th>\n",
       "      <th></th>\n",
       "      <th></th>\n",
       "      <th></th>\n",
       "      <th></th>\n",
       "      <th></th>\n",
       "      <th></th>\n",
       "      <th></th>\n",
       "      <th></th>\n",
       "      <th></th>\n",
       "      <th></th>\n",
       "      <th></th>\n",
       "      <th></th>\n",
       "      <th></th>\n",
       "      <th></th>\n",
       "      <th></th>\n",
       "    </tr>\n",
       "  </thead>\n",
       "  <tbody>\n",
       "    <tr>\n",
       "      <th>93705</th>\n",
       "      <td>F</td>\n",
       "      <td>66</td>\n",
       "      <td>Non-Hispanic Black</td>\n",
       "      <td>2</td>\n",
       "      <td>1</td>\n",
       "      <td>158.3</td>\n",
       "      <td>79.5</td>\n",
       "      <td>few times a year</td>\n",
       "      <td>4</td>\n",
       "      <td>yes</td>\n",
       "      <td>yes</td>\n",
       "      <td>yes</td>\n",
       "      <td>yes</td>\n",
       "      <td>yes</td>\n",
       "      <td>less than 6 months</td>\n",
       "      <td>0</td>\n",
       "      <td>0</td>\n",
       "    </tr>\n",
       "    <tr>\n",
       "      <th>93708</th>\n",
       "      <td>F</td>\n",
       "      <td>66</td>\n",
       "      <td>Non-Hispanic Asian</td>\n",
       "      <td>1</td>\n",
       "      <td>2</td>\n",
       "      <td>150.2</td>\n",
       "      <td>53.5</td>\n",
       "      <td>never</td>\n",
       "      <td>5</td>\n",
       "      <td>yes</td>\n",
       "      <td>0</td>\n",
       "      <td>yes</td>\n",
       "      <td>0</td>\n",
       "      <td>0</td>\n",
       "      <td>6 months to 1 yr</td>\n",
       "      <td>0</td>\n",
       "      <td>yes</td>\n",
       "    </tr>\n",
       "    <tr>\n",
       "      <th>93711</th>\n",
       "      <td>M</td>\n",
       "      <td>56</td>\n",
       "      <td>Non-Hispanic Asian</td>\n",
       "      <td>5</td>\n",
       "      <td>3</td>\n",
       "      <td>170.6</td>\n",
       "      <td>62.1</td>\n",
       "      <td>never</td>\n",
       "      <td>5</td>\n",
       "      <td>yes</td>\n",
       "      <td>0</td>\n",
       "      <td>yes</td>\n",
       "      <td>yes</td>\n",
       "      <td>0</td>\n",
       "      <td>less than 6 months</td>\n",
       "      <td>0</td>\n",
       "      <td>0</td>\n",
       "    </tr>\n",
       "    <tr>\n",
       "      <th>93713</th>\n",
       "      <td>M</td>\n",
       "      <td>67</td>\n",
       "      <td>Non-Hispanic White</td>\n",
       "      <td>3</td>\n",
       "      <td>1</td>\n",
       "      <td>178.6</td>\n",
       "      <td>74.9</td>\n",
       "      <td>daily</td>\n",
       "      <td>1</td>\n",
       "      <td>0</td>\n",
       "      <td>0</td>\n",
       "      <td>0</td>\n",
       "      <td>0</td>\n",
       "      <td>yes</td>\n",
       "      <td>less than 6 months</td>\n",
       "      <td>0</td>\n",
       "      <td>yes</td>\n",
       "    </tr>\n",
       "    <tr>\n",
       "      <th>93714</th>\n",
       "      <td>F</td>\n",
       "      <td>54</td>\n",
       "      <td>Non-Hispanic Black</td>\n",
       "      <td>4</td>\n",
       "      <td>3</td>\n",
       "      <td>147.8</td>\n",
       "      <td>87.1</td>\n",
       "      <td>few times a year</td>\n",
       "      <td>4</td>\n",
       "      <td>0</td>\n",
       "      <td>0</td>\n",
       "      <td>0</td>\n",
       "      <td>0</td>\n",
       "      <td>yes</td>\n",
       "      <td>more than 5 yrs</td>\n",
       "      <td>0</td>\n",
       "      <td>yes</td>\n",
       "    </tr>\n",
       "    <tr>\n",
       "      <th>...</th>\n",
       "      <td>...</td>\n",
       "      <td>...</td>\n",
       "      <td>...</td>\n",
       "      <td>...</td>\n",
       "      <td>...</td>\n",
       "      <td>...</td>\n",
       "      <td>...</td>\n",
       "      <td>...</td>\n",
       "      <td>...</td>\n",
       "      <td>...</td>\n",
       "      <td>...</td>\n",
       "      <td>...</td>\n",
       "      <td>...</td>\n",
       "      <td>...</td>\n",
       "      <td>...</td>\n",
       "      <td>...</td>\n",
       "      <td>...</td>\n",
       "    </tr>\n",
       "    <tr>\n",
       "      <th>102949</th>\n",
       "      <td>M</td>\n",
       "      <td>33</td>\n",
       "      <td>Non-Hispanic White</td>\n",
       "      <td>3</td>\n",
       "      <td>5</td>\n",
       "      <td>180.1</td>\n",
       "      <td>76.9</td>\n",
       "      <td>never</td>\n",
       "      <td>5</td>\n",
       "      <td>0</td>\n",
       "      <td>0</td>\n",
       "      <td>0</td>\n",
       "      <td>0</td>\n",
       "      <td>yes</td>\n",
       "      <td>3 yrs to 5 yrs</td>\n",
       "      <td>0</td>\n",
       "      <td>yes</td>\n",
       "    </tr>\n",
       "    <tr>\n",
       "      <th>102952</th>\n",
       "      <td>F</td>\n",
       "      <td>70</td>\n",
       "      <td>Non-Hispanic Asian</td>\n",
       "      <td>3</td>\n",
       "      <td>2</td>\n",
       "      <td>156.5</td>\n",
       "      <td>49.0</td>\n",
       "      <td>never</td>\n",
       "      <td>5</td>\n",
       "      <td>yes</td>\n",
       "      <td>yes</td>\n",
       "      <td>yes</td>\n",
       "      <td>yes</td>\n",
       "      <td>0</td>\n",
       "      <td>6 months to 1 yr</td>\n",
       "      <td>0</td>\n",
       "      <td>yes</td>\n",
       "    </tr>\n",
       "    <tr>\n",
       "      <th>102953</th>\n",
       "      <td>M</td>\n",
       "      <td>42</td>\n",
       "      <td>Mexican American</td>\n",
       "      <td>3</td>\n",
       "      <td>1</td>\n",
       "      <td>164.9</td>\n",
       "      <td>97.4</td>\n",
       "      <td>few times a year</td>\n",
       "      <td>4</td>\n",
       "      <td>0</td>\n",
       "      <td>0</td>\n",
       "      <td>0</td>\n",
       "      <td>0</td>\n",
       "      <td>yes</td>\n",
       "      <td>more than 5 yrs</td>\n",
       "      <td>0</td>\n",
       "      <td>yes</td>\n",
       "    </tr>\n",
       "    <tr>\n",
       "      <th>102954</th>\n",
       "      <td>F</td>\n",
       "      <td>41</td>\n",
       "      <td>Non-Hispanic Black</td>\n",
       "      <td>5</td>\n",
       "      <td>7</td>\n",
       "      <td>162.6</td>\n",
       "      <td>69.1</td>\n",
       "      <td>never</td>\n",
       "      <td>5</td>\n",
       "      <td>yes</td>\n",
       "      <td>yes</td>\n",
       "      <td>yes</td>\n",
       "      <td>yes</td>\n",
       "      <td>0</td>\n",
       "      <td>2 yrs to 3 yrs</td>\n",
       "      <td>0</td>\n",
       "      <td>yes</td>\n",
       "    </tr>\n",
       "    <tr>\n",
       "      <th>102956</th>\n",
       "      <td>M</td>\n",
       "      <td>38</td>\n",
       "      <td>Non-Hispanic White</td>\n",
       "      <td>4</td>\n",
       "      <td>5</td>\n",
       "      <td>175.8</td>\n",
       "      <td>111.5</td>\n",
       "      <td>weekly</td>\n",
       "      <td>3</td>\n",
       "      <td>0</td>\n",
       "      <td>0</td>\n",
       "      <td>0</td>\n",
       "      <td>0</td>\n",
       "      <td>yes</td>\n",
       "      <td>1 yr to 2 yrs</td>\n",
       "      <td>0</td>\n",
       "      <td>0</td>\n",
       "    </tr>\n",
       "  </tbody>\n",
       "</table>\n",
       "<p>4753 rows × 17 columns</p>\n",
       "</div>"
      ],
      "text/plain": [
       "       gender  age  ... donte_blood_past_yr  drink_dairy_milk\n",
       "ID                  ...                                      \n",
       "93705       F   66  ...                   0                 0\n",
       "93708       F   66  ...                   0               yes\n",
       "93711       M   56  ...                   0                 0\n",
       "93713       M   67  ...                   0               yes\n",
       "93714       F   54  ...                   0               yes\n",
       "...       ...  ...  ...                 ...               ...\n",
       "102949      M   33  ...                   0               yes\n",
       "102952      F   70  ...                   0               yes\n",
       "102953      M   42  ...                   0               yes\n",
       "102954      F   41  ...                   0               yes\n",
       "102956      M   38  ...                   0                 0\n",
       "\n",
       "[4753 rows x 17 columns]"
      ]
     },
     "metadata": {
      "tags": []
     },
     "execution_count": 54
    }
   ]
  },
  {
   "cell_type": "markdown",
   "metadata": {
    "collapsed": false,
    "pycharm": {
     "name": "#%% md\n"
    },
    "id": "7oe2G5lhhBe-"
   },
   "source": [
    "## <p><img alt=\"Scikit-learn logo\" height=\"45px\" src=\"https://raw.githubusercontent.com/KHSDTC/Hackathon_Autumn2020_Challenge/master/day1notebooks/figures/evaluation.png\" align=\"left\" hspace=\"10px\" vspace=\"0px\"></p>  **Challenge**"
   ]
  },
  {
   "cell_type": "markdown",
   "metadata": {
    "id": "2GHGMdyOhS-u"
   },
   "source": [
    "1. Change the outlier age value to the correct \"33\"."
   ]
  },
  {
   "cell_type": "code",
   "metadata": {
    "id": "WYcczIY2igGZ",
    "pycharm": {
     "name": "#%%\n"
    }
   },
   "source": [
    "new_age = dataset.age.values"
   ],
   "execution_count": 55,
   "outputs": []
  },
  {
   "cell_type": "code",
   "metadata": {
    "id": "zKaHAxFAiipb",
    "outputId": "607a4b6d-dab5-4b8a-f58d-e68f43e2d97f",
    "colab": {
     "base_uri": "https://localhost:8080/"
    }
   },
   "source": [
    "new_age[new_age == 333] = 33\n",
    "max(new_age)"
   ],
   "execution_count": 56,
   "outputs": [
    {
     "output_type": "execute_result",
     "data": {
      "text/plain": [
       "80"
      ]
     },
     "metadata": {
      "tags": []
     },
     "execution_count": 56
    }
   ]
  },
  {
   "cell_type": "code",
   "metadata": {
    "id": "ziXhcCCdij3A",
    "outputId": "afba1241-a7d4-4354-8740-60cc610217fe",
    "colab": {
     "base_uri": "https://localhost:8080/"
    }
   },
   "source": [
    "dataset[\"age\"] = new_age\n",
    "max(dataset[\"age\"])"
   ],
   "execution_count": 57,
   "outputs": [
    {
     "output_type": "execute_result",
     "data": {
      "text/plain": [
       "80"
      ]
     },
     "metadata": {
      "tags": []
     },
     "execution_count": 57
    }
   ]
  },
  {
   "cell_type": "markdown",
   "metadata": {
    "id": "LmoRHC46hU6L",
    "pycharm": {
     "name": "#%% md\n"
    }
   },
   "source": [
    "2. Create a new variable \"BMI\" based on height and weight. (BMI = weight(kg) / [height(m) ^2])\n"
   ]
  },
  {
   "cell_type": "code",
   "metadata": {
    "id": "klSeisnximaj",
    "outputId": "0093d591-3116-4824-c19f-0cbb1bb99176",
    "colab": {
     "base_uri": "https://localhost:8080/"
    },
    "pycharm": {
     "name": "#%%\n"
    }
   },
   "source": [
    "dataset.columns"
   ],
   "execution_count": 58,
   "outputs": [
    {
     "output_type": "execute_result",
     "data": {
      "text/plain": [
       "Index(['gender', 'age', 'race', 'DMDEDUC2', 'household_size', 'height_cm',\n",
       "       'weight_kg', 'freq_worried', 'freq_depressed', 'controlling_weight',\n",
       "       'increasing_exercise', 'reducing_diet_salt', 'reducing_diet_fat',\n",
       "       'lifetime_cigarettes_100+', 'last_visit_dentist', 'donte_blood_past_yr',\n",
       "       'drink_dairy_milk'],\n",
       "      dtype='object')"
      ]
     },
     "metadata": {
      "tags": []
     },
     "execution_count": 58
    }
   ]
  },
  {
   "cell_type": "code",
   "metadata": {
    "id": "BQOUDhopioXB",
    "outputId": "05dec147-e10a-431b-850c-b4cf4d815c4a",
    "colab": {
     "base_uri": "https://localhost:8080/"
    }
   },
   "source": [
    "dataset[\"BMI\"] = dataset[\"weight_kg\"].values / ((dataset[\"height_cm\"].values / 100) ** 2)\n",
    "dataset[\"BMI\"]"
   ],
   "execution_count": 59,
   "outputs": [
    {
     "output_type": "execute_result",
     "data": {
      "text/plain": [
       "ID\n",
       "93705     31.725268\n",
       "93708     23.714497\n",
       "93711     21.337009\n",
       "93713     23.481125\n",
       "93714     39.872116\n",
       "            ...    \n",
       "102949    23.708218\n",
       "102952    20.006329\n",
       "102953    35.819345\n",
       "102954    26.135870\n",
       "102956    36.077557\n",
       "Name: BMI, Length: 4753, dtype: float64"
      ]
     },
     "metadata": {
      "tags": []
     },
     "execution_count": 59
    }
   ]
  },
  {
   "cell_type": "markdown",
   "metadata": {
    "id": "gRfY419rhWRb",
    "pycharm": {
     "name": "#%% md\n"
    }
   },
   "source": [
    "3. DMDEDUC2 represents \"Education Level\" (https://wwwn.cdc.gov/nchs/nhanes/search/default.aspx). Replace the values with strings as described at (https://wwwn.cdc.gov/Nchs/Nhanes/2017-2018/DEMO_J.htm#DMDEDUC2).\n",
    "\n",
    "You can do the same for dreq_depressed (DLQ140)."
   ]
  },
  {
   "cell_type": "code",
   "metadata": {
    "id": "3uSx0pCjiquE",
    "outputId": "10c45240-9dea-4fa0-fa93-aa1c4ccd5e63",
    "colab": {
     "base_uri": "https://localhost:8080/"
    },
    "pycharm": {
     "name": "#%%\n"
    }
   },
   "source": [
    "dataset[\"DMDEDUC2\"]"
   ],
   "execution_count": 60,
   "outputs": [
    {
     "output_type": "execute_result",
     "data": {
      "text/plain": [
       "ID\n",
       "93705     2\n",
       "93708     1\n",
       "93711     5\n",
       "93713     3\n",
       "93714     4\n",
       "         ..\n",
       "102949    3\n",
       "102952    3\n",
       "102953    3\n",
       "102954    5\n",
       "102956    4\n",
       "Name: DMDEDUC2, Length: 4753, dtype: int64"
      ]
     },
     "metadata": {
      "tags": []
     },
     "execution_count": 60
    }
   ]
  },
  {
   "cell_type": "code",
   "metadata": {
    "id": "DVZq1kaOisIK"
   },
   "source": [
    "DMDEDUC2_dictionary = {1:\"<9th grade\",\n",
    "                       2:\"9-11 grade\",\n",
    "                       3:\"high skl grad\",\n",
    "                       4:\"some college\",\n",
    "                       5:\"college grad +\",\n",
    "                       7:\"refused\",\n",
    "                       9:\"dont know\"}"
   ],
   "execution_count": 61,
   "outputs": []
  },
  {
   "cell_type": "code",
   "metadata": {
    "id": "xLKX95IFitJy",
    "outputId": "714cc77b-3f16-4726-bfa0-e5e8fdb5ac34",
    "colab": {
     "base_uri": "https://localhost:8080/"
    }
   },
   "source": [
    "dataset.replace({\"DMDEDUC2\":DMDEDUC2_dictionary}, inplace=True)\n",
    "dataset[\"DMDEDUC2\"]"
   ],
   "execution_count": 62,
   "outputs": [
    {
     "output_type": "execute_result",
     "data": {
      "text/plain": [
       "ID\n",
       "93705         9-11 grade\n",
       "93708         <9th grade\n",
       "93711     college grad +\n",
       "93713      high skl grad\n",
       "93714       some college\n",
       "               ...      \n",
       "102949     high skl grad\n",
       "102952     high skl grad\n",
       "102953     high skl grad\n",
       "102954    college grad +\n",
       "102956      some college\n",
       "Name: DMDEDUC2, Length: 4753, dtype: object"
      ]
     },
     "metadata": {
      "tags": []
     },
     "execution_count": 62
    }
   ]
  },
  {
   "cell_type": "markdown",
   "metadata": {
    "id": "lqDgl-MYhZtd",
    "pycharm": {
     "name": "#%% md\n"
    }
   },
   "source": [
    "4. Which variable correlates highest with freq_worried? Why do you think so?\n"
   ]
  },
  {
   "cell_type": "code",
   "metadata": {
    "id": "lRVQNXFkiu3s",
    "outputId": "5bfd1e20-248f-413d-b528-6f6a9a32cdad",
    "colab": {
     "base_uri": "https://localhost:8080/"
    },
    "pycharm": {
     "name": "#%%\n"
    }
   },
   "source": [
    "dataset.dtypes"
   ],
   "execution_count": 63,
   "outputs": [
    {
     "output_type": "execute_result",
     "data": {
      "text/plain": [
       "gender                      category\n",
       "age                            int64\n",
       "race                          object\n",
       "DMDEDUC2                      object\n",
       "household_size                 int64\n",
       "height_cm                    float64\n",
       "weight_kg                    float64\n",
       "freq_worried                  object\n",
       "freq_depressed                object\n",
       "controlling_weight            object\n",
       "increasing_exercise           object\n",
       "reducing_diet_salt            object\n",
       "reducing_diet_fat             object\n",
       "lifetime_cigarettes_100+      object\n",
       "last_visit_dentist            object\n",
       "donte_blood_past_yr           object\n",
       "drink_dairy_milk              object\n",
       "BMI                          float64\n",
       "dtype: object"
      ]
     },
     "metadata": {
      "tags": []
     },
     "execution_count": 63
    }
   ]
  },
  {
   "cell_type": "code",
   "metadata": {
    "id": "jWxKw_2OiwFF",
    "outputId": "1eb41442-4ec2-4a3c-df7d-f8697281c434",
    "colab": {
     "base_uri": "https://localhost:8080/",
     "height": 206
    }
   },
   "source": [
    "dataset.select_dtypes(include=[\"int64\",\"float64\"]).corr(method = \"pearson\")"
   ],
   "execution_count": 64,
   "outputs": [
    {
     "output_type": "execute_result",
     "data": {
      "text/html": [
       "<div>\n",
       "<style scoped>\n",
       "    .dataframe tbody tr th:only-of-type {\n",
       "        vertical-align: middle;\n",
       "    }\n",
       "\n",
       "    .dataframe tbody tr th {\n",
       "        vertical-align: top;\n",
       "    }\n",
       "\n",
       "    .dataframe thead th {\n",
       "        text-align: right;\n",
       "    }\n",
       "</style>\n",
       "<table border=\"1\" class=\"dataframe\">\n",
       "  <thead>\n",
       "    <tr style=\"text-align: right;\">\n",
       "      <th></th>\n",
       "      <th>age</th>\n",
       "      <th>household_size</th>\n",
       "      <th>height_cm</th>\n",
       "      <th>weight_kg</th>\n",
       "      <th>BMI</th>\n",
       "    </tr>\n",
       "  </thead>\n",
       "  <tbody>\n",
       "    <tr>\n",
       "      <th>age</th>\n",
       "      <td>1.000000</td>\n",
       "      <td>-0.381498</td>\n",
       "      <td>-0.135513</td>\n",
       "      <td>-0.057804</td>\n",
       "      <td>0.000201</td>\n",
       "    </tr>\n",
       "    <tr>\n",
       "      <th>household_size</th>\n",
       "      <td>-0.381498</td>\n",
       "      <td>1.000000</td>\n",
       "      <td>-0.047517</td>\n",
       "      <td>-0.012395</td>\n",
       "      <td>0.006977</td>\n",
       "    </tr>\n",
       "    <tr>\n",
       "      <th>height_cm</th>\n",
       "      <td>-0.135513</td>\n",
       "      <td>-0.047517</td>\n",
       "      <td>1.000000</td>\n",
       "      <td>0.437540</td>\n",
       "      <td>-0.004731</td>\n",
       "    </tr>\n",
       "    <tr>\n",
       "      <th>weight_kg</th>\n",
       "      <td>-0.057804</td>\n",
       "      <td>-0.012395</td>\n",
       "      <td>0.437540</td>\n",
       "      <td>1.000000</td>\n",
       "      <td>0.891003</td>\n",
       "    </tr>\n",
       "    <tr>\n",
       "      <th>BMI</th>\n",
       "      <td>0.000201</td>\n",
       "      <td>0.006977</td>\n",
       "      <td>-0.004731</td>\n",
       "      <td>0.891003</td>\n",
       "      <td>1.000000</td>\n",
       "    </tr>\n",
       "  </tbody>\n",
       "</table>\n",
       "</div>"
      ],
      "text/plain": [
       "                     age  household_size  height_cm  weight_kg       BMI\n",
       "age             1.000000       -0.381498  -0.135513  -0.057804  0.000201\n",
       "household_size -0.381498        1.000000  -0.047517  -0.012395  0.006977\n",
       "height_cm      -0.135513       -0.047517   1.000000   0.437540 -0.004731\n",
       "weight_kg      -0.057804       -0.012395   0.437540   1.000000  0.891003\n",
       "BMI             0.000201        0.006977  -0.004731   0.891003  1.000000"
      ]
     },
     "metadata": {
      "tags": []
     },
     "execution_count": 64
    }
   ]
  },
  {
   "cell_type": "code",
   "metadata": {
    "id": "hulU4sWPixku",
    "outputId": "a3a732c7-508f-41e0-8825-ac61e04649a3",
    "colab": {
     "base_uri": "https://localhost:8080/"
    }
   },
   "source": [
    "# actually this question doesn't make much sense. \n",
    "# But if you recode freq_worried (DLQ100) into an ordered variable, it will be the highest\n",
    "\n",
    "dataset.freq_worried.unique()"
   ],
   "execution_count": 65,
   "outputs": [
    {
     "output_type": "execute_result",
     "data": {
      "text/plain": [
       "array(['few times a year', 'never', 'daily', 'weekly', 'monthly',\n",
       "       'dont know'], dtype=object)"
      ]
     },
     "metadata": {
      "tags": []
     },
     "execution_count": 65
    }
   ]
  },
  {
   "cell_type": "code",
   "metadata": {
    "id": "EcarYEbti1tT",
    "outputId": "d56081c3-d32e-4383-98a4-b0bb3984ac14",
    "colab": {
     "base_uri": "https://localhost:8080/",
     "height": 238
    }
   },
   "source": [
    "freq_worried_dictionary = {\"daily\":1,\n",
    "                           \"weekly\":2,\n",
    "                           \"monthly\":3,\n",
    "                           \"few times a year\":4,\n",
    "                           \"never\":5,\n",
    "                           \"dont know\":9}\n",
    "dataset.replace({\"freq_worried\":freq_worried_dictionary}, inplace=True)\n",
    "dataset.select_dtypes(include=[\"int64\",\"float64\"]).corr(method = \"pearson\")\n"
   ],
   "execution_count": 66,
   "outputs": [
    {
     "output_type": "execute_result",
     "data": {
      "text/html": [
       "<div>\n",
       "<style scoped>\n",
       "    .dataframe tbody tr th:only-of-type {\n",
       "        vertical-align: middle;\n",
       "    }\n",
       "\n",
       "    .dataframe tbody tr th {\n",
       "        vertical-align: top;\n",
       "    }\n",
       "\n",
       "    .dataframe thead th {\n",
       "        text-align: right;\n",
       "    }\n",
       "</style>\n",
       "<table border=\"1\" class=\"dataframe\">\n",
       "  <thead>\n",
       "    <tr style=\"text-align: right;\">\n",
       "      <th></th>\n",
       "      <th>age</th>\n",
       "      <th>household_size</th>\n",
       "      <th>height_cm</th>\n",
       "      <th>weight_kg</th>\n",
       "      <th>freq_worried</th>\n",
       "      <th>BMI</th>\n",
       "    </tr>\n",
       "  </thead>\n",
       "  <tbody>\n",
       "    <tr>\n",
       "      <th>age</th>\n",
       "      <td>1.000000</td>\n",
       "      <td>-0.381498</td>\n",
       "      <td>-0.135513</td>\n",
       "      <td>-0.057804</td>\n",
       "      <td>0.139305</td>\n",
       "      <td>0.000201</td>\n",
       "    </tr>\n",
       "    <tr>\n",
       "      <th>household_size</th>\n",
       "      <td>-0.381498</td>\n",
       "      <td>1.000000</td>\n",
       "      <td>-0.047517</td>\n",
       "      <td>-0.012395</td>\n",
       "      <td>0.030912</td>\n",
       "      <td>0.006977</td>\n",
       "    </tr>\n",
       "    <tr>\n",
       "      <th>height_cm</th>\n",
       "      <td>-0.135513</td>\n",
       "      <td>-0.047517</td>\n",
       "      <td>1.000000</td>\n",
       "      <td>0.437540</td>\n",
       "      <td>-0.003015</td>\n",
       "      <td>-0.004731</td>\n",
       "    </tr>\n",
       "    <tr>\n",
       "      <th>weight_kg</th>\n",
       "      <td>-0.057804</td>\n",
       "      <td>-0.012395</td>\n",
       "      <td>0.437540</td>\n",
       "      <td>1.000000</td>\n",
       "      <td>-0.040091</td>\n",
       "      <td>0.891003</td>\n",
       "    </tr>\n",
       "    <tr>\n",
       "      <th>freq_worried</th>\n",
       "      <td>0.139305</td>\n",
       "      <td>0.030912</td>\n",
       "      <td>-0.003015</td>\n",
       "      <td>-0.040091</td>\n",
       "      <td>1.000000</td>\n",
       "      <td>-0.046619</td>\n",
       "    </tr>\n",
       "    <tr>\n",
       "      <th>BMI</th>\n",
       "      <td>0.000201</td>\n",
       "      <td>0.006977</td>\n",
       "      <td>-0.004731</td>\n",
       "      <td>0.891003</td>\n",
       "      <td>-0.046619</td>\n",
       "      <td>1.000000</td>\n",
       "    </tr>\n",
       "  </tbody>\n",
       "</table>\n",
       "</div>"
      ],
      "text/plain": [
       "                     age  household_size  ...  freq_worried       BMI\n",
       "age             1.000000       -0.381498  ...      0.139305  0.000201\n",
       "household_size -0.381498        1.000000  ...      0.030912  0.006977\n",
       "height_cm      -0.135513       -0.047517  ...     -0.003015 -0.004731\n",
       "weight_kg      -0.057804       -0.012395  ...     -0.040091  0.891003\n",
       "freq_worried    0.139305        0.030912  ...      1.000000 -0.046619\n",
       "BMI             0.000201        0.006977  ...     -0.046619  1.000000\n",
       "\n",
       "[6 rows x 6 columns]"
      ]
     },
     "metadata": {
      "tags": []
     },
     "execution_count": 66
    }
   ]
  },
  {
   "cell_type": "markdown",
   "metadata": {
    "id": "1sbJVurDhfO6",
    "pycharm": {
     "name": "#%% md\n"
    }
   },
   "source": [
    "5. If they get 3 points for controlling weight, 2 points for increase exercise, 1 point each for reducing diet salt and fat:\n",
    "\n",
    "        5.1 Which male has the highest points?\n",
    "        5.2 Which female has the 5 points?\n",
    "        5.3 How much points does person 93776 have?"
   ]
  },
  {
   "cell_type": "code",
   "metadata": {
    "id": "eseKx0QZi3lg",
    "pycharm": {
     "name": "#%%\n"
    }
   },
   "source": [
    "dataset.replace(\"no\", 0, inplace=True)\n",
    "dataset.replace(\"yes\", 1, inplace=True)"
   ],
   "execution_count": 67,
   "outputs": []
  },
  {
   "cell_type": "code",
   "metadata": {
    "id": "-NCQUn7_i47s",
    "outputId": "f4942a33-d192-40ba-ddb3-f53f15352567",
    "colab": {
     "base_uri": "https://localhost:8080/",
     "height": 431
    }
   },
   "source": [
    "dataset[\"points\"] = dataset[\"controlling_weight\"]*3 + dataset[\"increasing_exercise\"]*2 + dataset[\"reducing_diet_salt\"] + dataset[\"reducing_diet_fat\"]\n",
    "dataset.head()"
   ],
   "execution_count": 68,
   "outputs": [
    {
     "output_type": "execute_result",
     "data": {
      "text/html": [
       "<div>\n",
       "<style scoped>\n",
       "    .dataframe tbody tr th:only-of-type {\n",
       "        vertical-align: middle;\n",
       "    }\n",
       "\n",
       "    .dataframe tbody tr th {\n",
       "        vertical-align: top;\n",
       "    }\n",
       "\n",
       "    .dataframe thead th {\n",
       "        text-align: right;\n",
       "    }\n",
       "</style>\n",
       "<table border=\"1\" class=\"dataframe\">\n",
       "  <thead>\n",
       "    <tr style=\"text-align: right;\">\n",
       "      <th></th>\n",
       "      <th>gender</th>\n",
       "      <th>age</th>\n",
       "      <th>race</th>\n",
       "      <th>DMDEDUC2</th>\n",
       "      <th>household_size</th>\n",
       "      <th>height_cm</th>\n",
       "      <th>weight_kg</th>\n",
       "      <th>freq_worried</th>\n",
       "      <th>freq_depressed</th>\n",
       "      <th>controlling_weight</th>\n",
       "      <th>increasing_exercise</th>\n",
       "      <th>reducing_diet_salt</th>\n",
       "      <th>reducing_diet_fat</th>\n",
       "      <th>lifetime_cigarettes_100+</th>\n",
       "      <th>last_visit_dentist</th>\n",
       "      <th>donte_blood_past_yr</th>\n",
       "      <th>drink_dairy_milk</th>\n",
       "      <th>BMI</th>\n",
       "      <th>points</th>\n",
       "    </tr>\n",
       "    <tr>\n",
       "      <th>ID</th>\n",
       "      <th></th>\n",
       "      <th></th>\n",
       "      <th></th>\n",
       "      <th></th>\n",
       "      <th></th>\n",
       "      <th></th>\n",
       "      <th></th>\n",
       "      <th></th>\n",
       "      <th></th>\n",
       "      <th></th>\n",
       "      <th></th>\n",
       "      <th></th>\n",
       "      <th></th>\n",
       "      <th></th>\n",
       "      <th></th>\n",
       "      <th></th>\n",
       "      <th></th>\n",
       "      <th></th>\n",
       "      <th></th>\n",
       "    </tr>\n",
       "  </thead>\n",
       "  <tbody>\n",
       "    <tr>\n",
       "      <th>93705</th>\n",
       "      <td>F</td>\n",
       "      <td>66</td>\n",
       "      <td>Non-Hispanic Black</td>\n",
       "      <td>9-11 grade</td>\n",
       "      <td>1</td>\n",
       "      <td>158.3</td>\n",
       "      <td>79.5</td>\n",
       "      <td>4</td>\n",
       "      <td>4</td>\n",
       "      <td>1</td>\n",
       "      <td>1</td>\n",
       "      <td>1</td>\n",
       "      <td>1</td>\n",
       "      <td>1.0</td>\n",
       "      <td>less than 6 months</td>\n",
       "      <td>0</td>\n",
       "      <td>0</td>\n",
       "      <td>31.725268</td>\n",
       "      <td>7</td>\n",
       "    </tr>\n",
       "    <tr>\n",
       "      <th>93708</th>\n",
       "      <td>F</td>\n",
       "      <td>66</td>\n",
       "      <td>Non-Hispanic Asian</td>\n",
       "      <td>&lt;9th grade</td>\n",
       "      <td>2</td>\n",
       "      <td>150.2</td>\n",
       "      <td>53.5</td>\n",
       "      <td>5</td>\n",
       "      <td>5</td>\n",
       "      <td>1</td>\n",
       "      <td>0</td>\n",
       "      <td>1</td>\n",
       "      <td>0</td>\n",
       "      <td>0.0</td>\n",
       "      <td>6 months to 1 yr</td>\n",
       "      <td>0</td>\n",
       "      <td>1</td>\n",
       "      <td>23.714497</td>\n",
       "      <td>4</td>\n",
       "    </tr>\n",
       "    <tr>\n",
       "      <th>93711</th>\n",
       "      <td>M</td>\n",
       "      <td>56</td>\n",
       "      <td>Non-Hispanic Asian</td>\n",
       "      <td>college grad +</td>\n",
       "      <td>3</td>\n",
       "      <td>170.6</td>\n",
       "      <td>62.1</td>\n",
       "      <td>5</td>\n",
       "      <td>5</td>\n",
       "      <td>1</td>\n",
       "      <td>0</td>\n",
       "      <td>1</td>\n",
       "      <td>1</td>\n",
       "      <td>0.0</td>\n",
       "      <td>less than 6 months</td>\n",
       "      <td>0</td>\n",
       "      <td>0</td>\n",
       "      <td>21.337009</td>\n",
       "      <td>5</td>\n",
       "    </tr>\n",
       "    <tr>\n",
       "      <th>93713</th>\n",
       "      <td>M</td>\n",
       "      <td>67</td>\n",
       "      <td>Non-Hispanic White</td>\n",
       "      <td>high skl grad</td>\n",
       "      <td>1</td>\n",
       "      <td>178.6</td>\n",
       "      <td>74.9</td>\n",
       "      <td>1</td>\n",
       "      <td>1</td>\n",
       "      <td>0</td>\n",
       "      <td>0</td>\n",
       "      <td>0</td>\n",
       "      <td>0</td>\n",
       "      <td>1.0</td>\n",
       "      <td>less than 6 months</td>\n",
       "      <td>0</td>\n",
       "      <td>1</td>\n",
       "      <td>23.481125</td>\n",
       "      <td>0</td>\n",
       "    </tr>\n",
       "    <tr>\n",
       "      <th>93714</th>\n",
       "      <td>F</td>\n",
       "      <td>54</td>\n",
       "      <td>Non-Hispanic Black</td>\n",
       "      <td>some college</td>\n",
       "      <td>3</td>\n",
       "      <td>147.8</td>\n",
       "      <td>87.1</td>\n",
       "      <td>4</td>\n",
       "      <td>4</td>\n",
       "      <td>0</td>\n",
       "      <td>0</td>\n",
       "      <td>0</td>\n",
       "      <td>0</td>\n",
       "      <td>1.0</td>\n",
       "      <td>more than 5 yrs</td>\n",
       "      <td>0</td>\n",
       "      <td>1</td>\n",
       "      <td>39.872116</td>\n",
       "      <td>0</td>\n",
       "    </tr>\n",
       "  </tbody>\n",
       "</table>\n",
       "</div>"
      ],
      "text/plain": [
       "      gender  age                race  ... drink_dairy_milk        BMI  points\n",
       "ID                                     ...                                    \n",
       "93705      F   66  Non-Hispanic Black  ...                0  31.725268       7\n",
       "93708      F   66  Non-Hispanic Asian  ...                1  23.714497       4\n",
       "93711      M   56  Non-Hispanic Asian  ...                0  21.337009       5\n",
       "93713      M   67  Non-Hispanic White  ...                1  23.481125       0\n",
       "93714      F   54  Non-Hispanic Black  ...                1  39.872116       0\n",
       "\n",
       "[5 rows x 19 columns]"
      ]
     },
     "metadata": {
      "tags": []
     },
     "execution_count": 68
    }
   ]
  },
  {
   "cell_type": "code",
   "metadata": {
    "id": "JKb5HNmfi6np",
    "outputId": "b9e66aa3-a235-486a-9cc5-87f5ca897c72",
    "colab": {
     "base_uri": "https://localhost:8080/"
    }
   },
   "source": [
    "dataset.loc[(dataset[\"gender\"]==\"M\") & (dataset[\"points\"]==max(dataset[\"points\"])),].index\n",
    "# there are 720 males with the highest points"
   ],
   "execution_count": 69,
   "outputs": [
    {
     "output_type": "execute_result",
     "data": {
      "text/plain": [
       "Int64Index([ 93723,  93727,  93738,  93740,  93742,  93754,  93759,  93791,\n",
       "             93799,  93806,\n",
       "            ...\n",
       "            102869, 102878, 102879, 102883, 102890, 102895, 102901, 102916,\n",
       "            102944, 102947],\n",
       "           dtype='int64', name='ID', length=720)"
      ]
     },
     "metadata": {
      "tags": []
     },
     "execution_count": 69
    }
   ]
  },
  {
   "cell_type": "code",
   "metadata": {
    "id": "CvB3ipS-i7og",
    "outputId": "5ca93987-56fd-40fa-d09b-53a7e1ce848d",
    "colab": {
     "base_uri": "https://localhost:8080/"
    }
   },
   "source": [
    "\n",
    "dataset.loc[(dataset[\"gender\"]==\"F\") & (dataset[\"points\"]==5),].index\n"
   ],
   "execution_count": 70,
   "outputs": [
    {
     "output_type": "execute_result",
     "data": {
      "text/plain": [
       "Int64Index([ 93752,  93760,  93780,  93788,  93815,  93841,  93846,  93851,\n",
       "             93939,  93947,\n",
       "            ...\n",
       "            102710, 102737, 102823, 102831, 102872, 102886, 102893, 102907,\n",
       "            102923, 102924],\n",
       "           dtype='int64', name='ID', length=351)"
      ]
     },
     "metadata": {
      "tags": []
     },
     "execution_count": 70
    }
   ]
  },
  {
   "cell_type": "code",
   "metadata": {
    "id": "FXRLQOm8i8qX",
    "outputId": "f3d9098a-d5c4-4239-db13-2b380ad4f252",
    "colab": {
     "base_uri": "https://localhost:8080/"
    }
   },
   "source": [
    "dataset.loc[93776,\"points\"]"
   ],
   "execution_count": 71,
   "outputs": [
    {
     "output_type": "execute_result",
     "data": {
      "text/plain": [
       "7"
      ]
     },
     "metadata": {
      "tags": []
     },
     "execution_count": 71
    }
   ]
  },
  {
   "cell_type": "markdown",
   "metadata": {
    "id": "6NSZqqpNhjNR",
    "pycharm": {
     "name": "#%% md\n"
    }
   },
   "source": [
    "6. Make a \"hexagonal bin plot\" of height and weight (instead of a scatter plot).\n"
   ]
  },
  {
   "cell_type": "markdown",
   "metadata": {
    "id": "kxAHRUWlhlH7"
   },
   "source": [
    "dataset.plot.hexbin(\"height_cm\",\"weight_kg\", gridsize = 30)"
   ]
  }
 ]
}