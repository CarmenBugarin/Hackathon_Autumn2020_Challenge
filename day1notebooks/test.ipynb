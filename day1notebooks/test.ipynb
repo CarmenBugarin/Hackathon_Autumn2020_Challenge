{
 "cells": [
  {
   "cell_type": "markdown",
   "metadata": {},
   "source": [
    "<p><img alt=\"Pandas logo\" width=\"100\" src=\"./figures/pandas_secondary.svg\" align=\"left\" hspace=\"10px\" vspace=\"0px\"></p>\n",
    "\n",
    "<h1>Introduction to Working with Data with Pandas</h1>"
   ]
  },
  {
   "cell_type": "markdown",
   "metadata": {},
   "source": [
    "## **Getting started**\n",
    "\n",
    "\n",
    "<b>pandas</b> (https://pandas.pydata.org/pandas-docs/stable/index.html#) is a software library written for the Python programming language which contains tools for data handling and analysis. Because of its easy-to-use design and broad functionality, it is one of the most popular libraries for data science in Python. It is largely built on top of a more generic and primitive package - NumPy.\n",
    "\n",
    "pandas's stable release version is 1.1.3 as of 5th October 2020.\n",
    "\n",
    "Honestly, pandas's User Guide is a lot more comprehensive and much clearer, (https://pandas.pydata.org/docs/user_guide/index.html) it's worth spending some time there.\n",
    "\n",
    "<br><br>In the <b>\"pandas\"</b> part of this tutorial, we will cover:\n",
    "1. pandas data structures\n",
    "2. input\n",
    "- data selection\n",
    "- adding new data\n",
    "- removing data\n",
    "- data sorting\n",
    "- output\n",
    "- basic methods & attributes to retrieve info\n",
    "\n",
    "<br>In the <b>\"Working with Data\"</b> part of this tutorial, we will cover:\n",
    "9. exploratory data analysis\n",
    "- combining data (concatenate, join, merge)\n",
    "- cleaning data (data types, duplicate & missing data)\n",
    "\n",
    "---"
   ]
  },
  {
   "cell_type": "code",
   "execution_count": null,
   "metadata": {},
   "outputs": [],
   "source": []
  }
 ],
 "metadata": {
  "kernelspec": {
   "display_name": "Python 3",
   "language": "python",
   "name": "python3"
  },
  "language_info": {
   "codemirror_mode": {
    "name": "ipython",
    "version": 3
   },
   "file_extension": ".py",
   "mimetype": "text/x-python",
   "name": "python",
   "nbconvert_exporter": "python",
   "pygments_lexer": "ipython3",
   "version": "3.7.4"
  }
 },
 "nbformat": 4,
 "nbformat_minor": 2
}
