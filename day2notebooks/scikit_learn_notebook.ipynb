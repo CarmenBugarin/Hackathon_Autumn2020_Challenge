{
  "nbformat": 4,
  "nbformat_minor": 0,
  "metadata": {
    "colab": {
      "name": "Copy of Scikit-learn_class.ipynb",
      "provenance": [],
      "collapsed_sections": []
    },
    "kernelspec": {
      "name": "python3",
      "display_name": "Python 3"
    }
  },
  "cells": [
    {
      "cell_type": "markdown",
      "metadata": {
        "id": "qet_C1Qljuxx"
      },
      "source": [
        "<p><img alt=\"Scikit-learn logo\" height=\"45px\" src=\"https://raw.githubusercontent.com/KHSDTC/Hackathon_Spring2020_Challenge/machine_learning/machine_learning/figures/scikit-learn-logo-small.png\" align=\"left\" hspace=\"10px\" vspace=\"0px\"></p>\n",
        "\n",
        "<h1>Introduction to Machine Learning with Scikit-learn</h1>\n"
      ]
    },
    {
      "cell_type": "markdown",
      "metadata": {
        "id": "Gqfm6CpLkS_v"
      },
      "source": [
        "## **Getting started**\n",
        "\n",
        "Many Python libraries provide reliable implementations of machine learning algorithms. One of the most popular is Scikit-learn (https://scikit-learn.org/stable/index.html), an open-source package that provides efficient implementations of a large number of machine learning methods and algorithms. \n",
        "\n",
        "Scikit-learn is characterized by a clean API, as well as by handy and complete online documentation. A benefit of this uniform API is that once you understand the basic use and syntax for one type of model, switching to a new model is pretty straightforward. \n",
        "\n",
        "A guide illustrating some of the Scikit-learn main features can be found [here](https://scikit-learn.org/stable/getting_started.html).\n",
        "\n",
        "In this tutorial, we will learn how to use Scikit-learn to perform a very basic machine learning task involving supervised learning. Let's start!\n",
        "\n",
        "---\n"
      ]
    },
    {
      "cell_type": "markdown",
      "metadata": {
        "id": "7QNxZDxiDe19"
      },
      "source": [
        "# Importing Python libraries\n",
        "As we saw in the Python course, it is a good practice first to import all the Python libraries that we are going to use in the script."
      ]
    },
    {
      "cell_type": "code",
      "metadata": {
        "id": "H3MtKIHolcwq"
      },
      "source": [
        "import matplotlib.pyplot as plt\n",
        "import numpy as np\n",
        "import pandas as pd\n",
        "from joblib import dump, load\n",
        "from sklearn.metrics import accuracy_score\n",
        "from sklearn.model_selection import train_test_split\n",
        "from sklearn.svm import LinearSVC"
      ],
      "execution_count": 1,
      "outputs": []
    },
    {
      "cell_type": "markdown",
      "metadata": {
        "id": "iKCTNwFCEQd_"
      },
      "source": [
        "# Download dataset\n",
        "\n",
        "Now, let's download and have a quick look at the data we will use.\n"
      ]
    },
    {
      "cell_type": "code",
      "metadata": {
        "id": "S_MqLKvKMuJJ",
        "outputId": "ec961732-97f9-49ac-f890-bc3adc106656",
        "colab": {
          "base_uri": "https://localhost:8080/",
          "height": 260
        }
      },
      "source": [
        "dataset_url = 'https://raw.githubusercontent.com/KHSDTC/Hackathon_Spring2020_Challenge/machine_learning/machine_learning/dataset.csv'\n",
        "dataset = pd.read_csv(dataset_url)\n",
        "print(dataset)"
      ],
      "execution_count": 2,
      "outputs": [
        {
          "output_type": "stream",
          "text": [
            "     washing hands  touching face  outcome\n",
            "0         8.862434      15.637931      ill\n",
            "1        10.422334      15.404222      ill\n",
            "2        12.462217      27.923875      ill\n",
            "3        12.242321      25.734998      ill\n",
            "4        12.511457      18.840600      ill\n",
            "..             ...            ...      ...\n",
            "195      14.613281      18.484341  healthy\n",
            "196      17.811169      22.817188  healthy\n",
            "197      16.425944      13.559383  healthy\n",
            "198      20.922666      23.578661  healthy\n",
            "199      14.923250      12.524323  healthy\n",
            "\n",
            "[200 rows x 3 columns]\n"
          ],
          "name": "stdout"
        }
      ]
    },
    {
      "cell_type": "markdown",
      "metadata": {
        "id": "jkyrDl0l2gVe"
      },
      "source": [
        "In our dataset, we have data from about 200 people telling:\n",
        "\n",
        "*   The mean time spent washing their hands;\n",
        "*   The mean number of times that they touched their face per hour;\n",
        "*   And if they got a virus in the following 2 months.\n",
        "\n",
        "From all this data, we want to develop a model that would perform a useful clinical task for us. For this development, we will apply the **machine learning workflow**."
      ]
    },
    {
      "cell_type": "markdown",
      "metadata": {
        "id": "FkICW-xsFlK0"
      },
      "source": [
        "# **Machine learning workflow**\n",
        "For this tutorial, we will use the workflow presented during the theory presentation.\n",
        "\n",
        "\n",
        "\n",
        "<center><img src=\"https://raw.githubusercontent.com/KHSDTC/Hackathon_Spring2020_Challenge/machine_learning/machine_learning/figures/workflow.png\" width=\"600\"></center>\n",
        "\n",
        "\n",
        "\n",
        "The machine learning workflow tries to give us a recipe to follow when working with a machine learning project. The first step is to perform the **problem formulation**."
      ]
    },
    {
      "cell_type": "markdown",
      "metadata": {
        "id": "2YU56yRWZPNV"
      },
      "source": [
        "## <p><img alt=\"Scikit-learn logo\" height=\"45px\" src=\"https://raw.githubusercontent.com/KHSDTC/Hackathon_Spring2020_Challenge/machine_learning/machine_learning/figures/problem.png\" align=\"left\" hspace=\"10px\" vspace=\"0px\"></p> **Problem formulation**\n",
        "\n",
        "First, we need to frame our machine learning problem. In this step, we need to define the features that we will use, the target variable or label that we want to predict, and finally, the machine learning task.\n",
        "\n",
        "Give a try to create a straight forward sentence presenting our project scope by yourselves. When you are done, check our example of the framing below.\n",
        "\n"
      ]
    },
    {
      "cell_type": "markdown",
      "metadata": {
        "id": "rnw9EbBrKjYY"
      },
      "source": [
        "### Answer"
      ]
    },
    {
      "cell_type": "markdown",
      "metadata": {
        "id": "L5B9opQVINP9"
      },
      "source": [
        "> *Given how often people touch their own faces and how long they wash their hands, predict if they get ill in the next 2 months.*\n",
        "\n",
        "*   Task: Classification\n",
        "*   Features: Washing hand time and how many times touch the face\n",
        "*   Target: Outcome in the next 2 months  \n"
      ]
    },
    {
      "cell_type": "markdown",
      "metadata": {
        "id": "op818zaWJoGi"
      },
      "source": [
        "For convinience, let's store our features and targets in lists to use later."
      ]
    },
    {
      "cell_type": "code",
      "metadata": {
        "id": "xu3rELsmM3vY"
      },
      "source": [
        "features = ['washing hands', 'touching face']\n",
        "targets = ['outcome']"
      ],
      "execution_count": 3,
      "outputs": []
    },
    {
      "cell_type": "markdown",
      "metadata": {
        "id": "R-4UInw2nGtD"
      },
      "source": [
        "Remember, framing your scope concisely and comprehensively is very important to guarantee that everyone involved in your project understands your goals.\n",
        "For more information about this step, please, check this [material](https://developers.google.com/machine-learning/problem-framing)."
      ]
    },
    {
      "cell_type": "markdown",
      "metadata": {
        "id": "qah6FegWldT6"
      },
      "source": [
        "## <p><img alt=\"Scikit-learn logo\" height=\"45px\" src=\"https://raw.githubusercontent.com/KHSDTC/Hackathon_Spring2020_Challenge/machine_learning/machine_learning/figures/data.png\" align=\"left\" hspace=\"10px\" vspace=\"0px\"></p>  **Data preparation**\n",
        "\n",
        "In this step, we perform most of the exploratory data analyses and deal with the data's inconsistencies. As we saw in the previous course, Pandas is an excellent tool to perform this step when working with tabular data.\n",
        "\n",
        "In our case, our dataset is already cleaned and validated for our task. Let's check how it looks like!\n"
      ]
    },
    {
      "cell_type": "code",
      "metadata": {
        "id": "7weTVgzE7P65"
      },
      "source": [
        "X = dataset[features].values\n",
        "y = dataset[targets].values"
      ],
      "execution_count": 4,
      "outputs": []
    },
    {
      "cell_type": "code",
      "metadata": {
        "id": "TVM6VIGcNmJp",
        "outputId": "954bda48-9c3a-4553-d2a0-31aafbfaadb1",
        "colab": {
          "base_uri": "https://localhost:8080/",
          "height": 86
        }
      },
      "source": [
        "print(f'Features type: {type(X)}')\n",
        "print(f'Target type: {type(y)}')\n",
        "\n",
        "print(f'Features dimensions: {X.shape}')\n",
        "print(f'Target dimensions: {y.shape}')"
      ],
      "execution_count": 27,
      "outputs": [
        {
          "output_type": "stream",
          "text": [
            "Features type: <class 'numpy.ndarray'>\n",
            "Target type: <class 'numpy.ndarray'>\n",
            "Features dimensions: (200, 2)\n",
            "Target dimensions: (200, 1)\n"
          ],
          "name": "stdout"
        }
      ]
    },
    {
      "cell_type": "markdown",
      "metadata": {
        "id": "OQo-0kCu5Tvk"
      },
      "source": [
        "To have more flexibility to plot some graphs, we opt to use the data in the Numpy array format. We got the data using this format using the \".values\" call. By using this format, we have the following feature matrix and target vector format.\n",
        "\n",
        "![alt text](https://raw.githubusercontent.com/KHSDTC/Hackathon_Spring2020_Challenge/machine_learning/machine_learning/figures/features_targets.png)\n",
        "\n",
        "Now, let's try to visualise how our features are distributed."
      ]
    },
    {
      "cell_type": "code",
      "metadata": {
        "id": "keUon2K2-j6u",
        "outputId": "d62a84ad-c751-4a25-e664-32845026d4f4",
        "colab": {
          "base_uri": "https://localhost:8080/",
          "height": 279
        }
      },
      "source": [
        "plt.scatter(X[:, 0], X[:, 1], marker='.', color='k')\n",
        "plt.xlabel('Washing hands (seconds)')\n",
        "plt.ylabel('Face touches (per hour)')\n",
        "plt.show()"
      ],
      "execution_count": 6,
      "outputs": [
        {
          "output_type": "display_data",
          "data": {
            "image/png": "[encoded data removed]",
            "text/plain": [
              "<Figure size 432x288 with 1 Axes>"
            ]
          },
          "metadata": {
            "tags": [],
            "needs_background": "light"
          }
        }
      ]
    },
    {
      "cell_type": "markdown",
      "metadata": {
        "id": "nXbEb1J3Lmx8"
      },
      "source": [
        "Since we are trying to perform classification, let's have a look at how the different categories are scattered in our plot."
      ]
    },
    {
      "cell_type": "code",
      "metadata": {
        "id": "BME7GCN2OHik",
        "outputId": "de80a49c-502c-498e-8a93-95275a04940f",
        "colab": {
          "base_uri": "https://localhost:8080/",
          "height": 279
        }
      },
      "source": [
        "healthy_index = np.where(y=='healthy')\n",
        "ill_index = np.where(y=='ill')\n",
        "\n",
        "plt.scatter(X[healthy_index, 0], X[healthy_index, 1], marker='o', color='blue', label='healthy')\n",
        "plt.scatter(X[ill_index, 0], X[ill_index, 1], marker='x', color='red', label='ill')\n",
        "plt.xlabel('Washing hands (seconds)')\n",
        "plt.ylabel('Face touches (per hour)')\n",
        "plt.legend()\n",
        "plt.show()"
      ],
      "execution_count": 7,
      "outputs": [
        {
          "output_type": "display_data",
          "data": {
            "image/png": "[encoded data removed]",
            "text/plain": [
              "<Figure size 432x288 with 1 Axes>"
            ]
          },
          "metadata": {
            "tags": [],
            "needs_background": "light"
          }
        }
      ]
    },
    {
      "cell_type": "markdown",
      "metadata": {
        "id": "4-J1kEuLeXsz"
      },
      "source": [
        "### **Splitting Your Data**\n",
        "In the presentation, we introduced the idea of dividing your data set into two subsets:\n",
        "\n",
        "*   Training set — a subset to train our model.\n",
        "*   Test set — a subset to test our trained model.\n",
        "\n",
        "**Never train on test data**. If you see surprisingly good results on your evaluation metrics, it might be a sign that you are accidentally training on the test set. For example, high accuracy might indicate that test data has leaked into the training set.\n",
        "\n",
        "Make sure never to use testing data in your training set. Fortunately, Scikit-learn provided us with a very handful function to divide our original dataset. Let's try it!"
      ]
    },
    {
      "cell_type": "code",
      "metadata": {
        "id": "fkfjmvftmeRj"
      },
      "source": [
        "X_train, X_test, y_train, y_test = train_test_split(X, y, test_size=0.20, random_state=42)"
      ],
      "execution_count": 8,
      "outputs": []
    },
    {
      "cell_type": "markdown",
      "metadata": {
        "id": "biu7_ekr3FKi"
      },
      "source": [
        "**NOTE**: Before continue, please, check out the **Scikit-learn documentation** about the train_test_split() function in this [link](https://scikit-learn.org/stable/modules/generated/sklearn.model_selection.train_test_split.html).\n",
        "\n",
        "As a programmer, a crucial skill is to know where you can find out about how to implement what you want. Some great tools to help at this point is **Google** and the **Python library documentation** that you are working with! So let's get familiar with them! ^^"
      ]
    },
    {
      "cell_type": "code",
      "metadata": {
        "id": "jd4IvNlm_RSy",
        "outputId": "4f4f048f-7052-4462-b2f9-4734bb0264c2",
        "colab": {
          "base_uri": "https://localhost:8080/",
          "height": 52
        }
      },
      "source": [
        "print(f'Training set size: {X_train.shape[0]}')\n",
        "print(f'Test set size: {X_test.shape[0]}')\n"
      ],
      "execution_count": 9,
      "outputs": [
        {
          "output_type": "stream",
          "text": [
            "Training set size: 160\n",
            "Test set size: 40\n"
          ],
          "name": "stdout"
        }
      ]
    },
    {
      "cell_type": "markdown",
      "metadata": {
        "id": "unGyAViw2h4x"
      },
      "source": [
        "There are different ways to split your dataset. The aim of performing this step is to evaluate your machine learning models' results without the risk of having an undesired bias. Usually, the division of the data and the evaluation process is called **cross-validation**.\n",
        "\n",
        "For more information about cross-validation:\n",
        "\n",
        "- https://developers.google.com/machine-learning/data-prep\n",
        "- https://scikit-learn.org/stable/modules/cross_validation.html"
      ]
    },
    {
      "cell_type": "markdown",
      "metadata": {
        "id": "6mnINHzJXg2S"
      },
      "source": [
        "## <p><img alt=\"Scikit-learn logo\" height=\"45px\" src=\"https://raw.githubusercontent.com/KHSDTC/Hackathon_Spring2020_Challenge/machine_learning/machine_learning/figures/training.png\" align=\"left\" hspace=\"10px\" vspace=\"0px\"></p>   **Training model**\n",
        "\n",
        "\n",
        "Training a model means learning (determining) good values for all model's parameters from labelled examples. In supervised learning, a machine learning algorithm builds a model by examining many examples and attempting to find a model that minimizes loss.\n",
        "\n",
        "Loss is the penalty for a bad prediction. That is, the loss is a number indicating how bad the model's prediction was on a single example. If the model's prediction is perfect, the loss is zero; otherwise, the loss is greater. The goal of training a model is to find a set of parameters that have low loss, on average, across all examples."
      ]
    },
    {
      "cell_type": "markdown",
      "metadata": {
        "id": "gjQM7yNcloBa"
      },
      "source": [
        "### **Choosing your model**\n",
        "\n",
        "Often the hardest part of solving a machine learning problem can be finding the right estimator for the job.\n",
        "\n",
        "Different estimators are better suited for different types of data and different problems.\n",
        "\n",
        "<a href=\"https://scikit-learn.org/stable/tutorial/machine_learning_map/index.html\">\n",
        "<img src=\"https://scikit-learn.org/stable/_static/ml_map.png\">\n",
        "</a>\n",
        "Source: https://scikit-learn.org/stable/tutorial/machine_learning_map/index.html\n"
      ]
    },
    {
      "cell_type": "markdown",
      "metadata": {
        "id": "yXdpyPuVa-WF"
      },
      "source": [
        "In our case, we have about 200 samples, and we are performing a classification.\n",
        "\n",
        "Then, the recommended model is [LinearSVC](https://scikit-learn.org/stable/modules/generated/sklearn.svm.LinearSVC.html).\n",
        "\n",
        "Before continue, check out its documentation to get familiar with the API and examples."
      ]
    },
    {
      "cell_type": "markdown",
      "metadata": {
        "id": "mgu4DYtO_IYD"
      },
      "source": [
        "To start, let's create an instance of this model.\n"
      ]
    },
    {
      "cell_type": "code",
      "metadata": {
        "id": "ia9ZpgngApMI"
      },
      "source": [
        "clf = LinearSVC(random_state=0)"
      ],
      "execution_count": 10,
      "outputs": []
    },
    {
      "cell_type": "markdown",
      "metadata": {
        "id": "JWjn__LP_NmK"
      },
      "source": [
        "Now, we can train our model on our training set using the method \".fit()\". \n",
        "\n"
      ]
    },
    {
      "cell_type": "code",
      "metadata": {
        "id": "b2hfcwRRBIkZ",
        "outputId": "5087a102-fea5-4832-c6e5-62d4a1900687",
        "colab": {
          "base_uri": "https://localhost:8080/",
          "height": 176
        }
      },
      "source": [
        "clf.fit(X_train, y_train)"
      ],
      "execution_count": 11,
      "outputs": [
        {
          "output_type": "stream",
          "text": [
            "/usr/local/lib/python3.6/dist-packages/sklearn/utils/validation.py:760: DataConversionWarning: A column-vector y was passed when a 1d array was expected. Please change the shape of y to (n_samples, ), for example using ravel().\n",
            "  y = column_or_1d(y, warn=True)\n",
            "/usr/local/lib/python3.6/dist-packages/sklearn/svm/_base.py:947: ConvergenceWarning: Liblinear failed to converge, increase the number of iterations.\n",
            "  \"the number of iterations.\", ConvergenceWarning)\n"
          ],
          "name": "stderr"
        },
        {
          "output_type": "execute_result",
          "data": {
            "text/plain": [
              "LinearSVC(C=1.0, class_weight=None, dual=True, fit_intercept=True,\n",
              "          intercept_scaling=1, loss='squared_hinge', max_iter=1000,\n",
              "          multi_class='ovr', penalty='l2', random_state=0, tol=0.0001,\n",
              "          verbose=0)"
            ]
          },
          "metadata": {
            "tags": []
          },
          "execution_count": 11
        }
      ]
    },
    {
      "cell_type": "markdown",
      "metadata": {
        "id": "ZJhrbYD7_gSQ"
      },
      "source": [
        "And that is it! We trained our machine learning model.\n",
        "\n",
        "Let's make some predictions!"
      ]
    },
    {
      "cell_type": "markdown",
      "metadata": {
        "id": "MxzuP5nZmaYT"
      },
      "source": [
        "## <p><img alt=\"Scikit-learn logo\" height=\"45px\" src=\"https://raw.githubusercontent.com/KHSDTC/Hackathon_Spring2020_Challenge/machine_learning/machine_learning/figures/evaluation.png\" align=\"left\" hspace=\"10px\" vspace=\"0px\"></p>   **Model evaluation**\n",
        "\n",
        "Fitting a model to some data does not entail that it will predict well on unseen data. This needs to be directly evaluated. We have just seen the train_test_split helper that splits a dataset into train and test sets, but Scikit-learn provides many other tools for model evaluation, in particular for cross-validation.\n"
      ]
    },
    {
      "cell_type": "code",
      "metadata": {
        "id": "WmWxfECH7l2G"
      },
      "source": [
        "pred = clf.predict(X_test)"
      ],
      "execution_count": 12,
      "outputs": []
    },
    {
      "cell_type": "code",
      "metadata": {
        "id": "0Q7AH4j179vL",
        "outputId": "57f68e13-0714-448e-f89a-a4131d9fb4ae",
        "colab": {
          "base_uri": "https://localhost:8080/",
          "height": 104
        }
      },
      "source": [
        "print(pred)"
      ],
      "execution_count": 13,
      "outputs": [
        {
          "output_type": "stream",
          "text": [
            "['ill' 'healthy' 'ill' 'healthy' 'healthy' 'healthy' 'ill' 'healthy'\n",
            " 'healthy' 'healthy' 'ill' 'healthy' 'healthy' 'ill' 'healthy' 'healthy'\n",
            " 'ill' 'healthy' 'ill' 'ill' 'healthy' 'ill' 'healthy' 'ill' 'ill' 'ill'\n",
            " 'healthy' 'ill' 'healthy' 'healthy' 'ill' 'healthy' 'ill' 'healthy'\n",
            " 'healthy' 'healthy' 'healthy' 'healthy' 'healthy' 'ill']\n"
          ],
          "name": "stdout"
        }
      ]
    },
    {
      "cell_type": "code",
      "metadata": {
        "id": "qtRWzNLT8GAR",
        "outputId": "b9a32810-9ca1-4b0f-be4c-8cff4221aae0",
        "colab": {
          "base_uri": "https://localhost:8080/",
          "height": 104
        }
      },
      "source": [
        "print(y_test.flatten())"
      ],
      "execution_count": 14,
      "outputs": [
        {
          "output_type": "stream",
          "text": [
            "['ill' 'ill' 'ill' 'healthy' 'healthy' 'healthy' 'ill' 'healthy' 'healthy'\n",
            " 'ill' 'ill' 'healthy' 'healthy' 'ill' 'healthy' 'healthy' 'ill' 'healthy'\n",
            " 'ill' 'ill' 'healthy' 'ill' 'healthy' 'ill' 'ill' 'ill' 'ill' 'ill'\n",
            " 'healthy' 'healthy' 'ill' 'ill' 'ill' 'ill' 'healthy' 'healthy' 'healthy'\n",
            " 'healthy' 'healthy' 'ill']\n"
          ],
          "name": "stdout"
        }
      ]
    },
    {
      "cell_type": "markdown",
      "metadata": {
        "id": "IEaWjdeI9E5W"
      },
      "source": [
        "Since it is a lot of samples being predicted, let's summarise it into some performance metrics. The Scikit-Learn offer a wide number of options of metrics. They are specific for which machine learning task we are performing. In our case, we are developing a classifier, so a commonly used metric is the accuracy. Informally, accuracy is the fraction of predictions our model got right. Formally, accuracy has the following definition:\n",
        "\n",
        "$$\\text{Accuracy} = \\frac{\\text{Number of correct predictions}}{\\text{Total number of predictions}}$$\n",
        "\n",
        "You can check for other metrics from Scikit-learn [here](https://scikit-learn.org/stable/modules/classes.html#module-sklearn.metrics)"
      ]
    },
    {
      "cell_type": "code",
      "metadata": {
        "id": "kFR58KOGBWh3",
        "outputId": "eb615f46-8f7d-41df-a850-fd89b9f2760d",
        "colab": {
          "base_uri": "https://localhost:8080/",
          "height": 34
        }
      },
      "source": [
        "acc = accuracy_score(y_test, pred)\n",
        "print(f'Model Accuracy: {acc}')"
      ],
      "execution_count": 15,
      "outputs": [
        {
          "output_type": "stream",
          "text": [
            "Model Accuracy: 0.875\n"
          ],
          "name": "stdout"
        }
      ]
    },
    {
      "cell_type": "markdown",
      "metadata": {
        "id": "L5-wDHiz_B-9"
      },
      "source": [
        "Accuracy comes out to 0.825, or 82.5% (33 correct predictions out of 40 total examples from the test set). That means our classifier is doing a decent job of identifying people in risk, right?"
      ]
    },
    {
      "cell_type": "code",
      "metadata": {
        "id": "evXhbxoX8D9G",
        "outputId": "f1d7a8bf-d72a-48be-997d-8717bda21fcf",
        "colab": {
          "base_uri": "https://localhost:8080/",
          "height": 34
        }
      },
      "source": [
        "clf.predict(np.array([[20,10]]))"
      ],
      "execution_count": 16,
      "outputs": [
        {
          "output_type": "execute_result",
          "data": {
            "text/plain": [
              "array(['healthy'], dtype=object)"
            ]
          },
          "metadata": {
            "tags": []
          },
          "execution_count": 16
        }
      ]
    },
    {
      "cell_type": "code",
      "metadata": {
        "id": "3PICzuF6eUz1",
        "outputId": "3b035079-4ba0-40d3-e760-ea3019ffa36d",
        "colab": {
          "base_uri": "https://localhost:8080/",
          "height": 279
        }
      },
      "source": [
        "h = .02\n",
        "cm = plt.cm.RdBu\n",
        "xx, yy = np.meshgrid(np.arange(0, 30, h),\n",
        "                        np.arange(0, 30, h))\n",
        "Z = clf.predict(np.c_[xx.ravel(), yy.ravel()])\n",
        "Z = Z.reshape(xx.shape)\n",
        "\n",
        "Z[Z =='ill'] = 1\n",
        "Z[Z =='healthy'] = 0\n",
        "\n",
        "plt.contourf(xx, yy, Z, alpha=.8)\n",
        "\n",
        "\n",
        "healthy_index = np.where(y_test=='healthy')\n",
        "ill_index = np.where(y_test=='ill')\n",
        "\n",
        "plt.scatter(X_test[healthy_index, 0], X_test[healthy_index, 1], marker='o', color='blue', label='healthy')\n",
        "plt.scatter(X_test[ill_index, 0], X_test[ill_index, 1], marker='x', color='red', label='ill')\n",
        "plt.xlabel('Washing hands (in sec)')\n",
        "plt.ylabel('Face touches (per hour)')\n",
        "plt.show()"
      ],
      "execution_count": 17,
      "outputs": [
        {
          "output_type": "display_data",
          "data": {
            "image/png": "[encoded data removed]",
            "text/plain": [
              "<Figure size 432x288 with 1 Axes>"
            ]
          },
          "metadata": {
            "tags": [],
            "needs_background": "light"
          }
        }
      ]
    },
    {
      "cell_type": "markdown",
      "metadata": {
        "id": "67QWiNqRFS0f"
      },
      "source": [
        "More information about model evaluation:\n",
        "*   https://scikit-learn.org/stable/modules/model_evaluation.html\n",
        "*   https://machinelearningmastery.com/metrics-evaluate-machine-learning-algorithms-python/\n"
      ]
    },
    {
      "cell_type": "markdown",
      "metadata": {
        "id": "0cztx9KMme9q"
      },
      "source": [
        "## **Finalising**\n",
        "### **Saving model and predictions**\n",
        "\n",
        "Finally, we save our model in a persistent format."
      ]
    },
    {
      "cell_type": "code",
      "metadata": {
        "id": "OB4atvRbmk84",
        "outputId": "0a9b8b35-be1c-43e1-e631-d5cac61975bf",
        "colab": {
          "base_uri": "https://localhost:8080/",
          "height": 34
        }
      },
      "source": [
        "dump(clf, 'classifier.joblib') "
      ],
      "execution_count": 18,
      "outputs": [
        {
          "output_type": "execute_result",
          "data": {
            "text/plain": [
              "['classifier.joblib']"
            ]
          },
          "metadata": {
            "tags": []
          },
          "execution_count": 18
        }
      ]
    },
    {
      "cell_type": "markdown",
      "metadata": {
        "id": "qZst-KgMMqbE"
      },
      "source": [
        "\n",
        "\n",
        "---\n",
        "\n"
      ]
    },
    {
      "cell_type": "markdown",
      "metadata": {
        "id": "O7kfArwbkmVJ"
      },
      "source": [
        "# Exercise 1\n",
        "\n",
        "Read and try to implement an scaler in \n",
        "\n",
        "Note: fit and transform with the scaler on the training set and then just transform the test set\n",
        "\n",
        "https://scikit-learn.org/stable/modules/preprocessing.html"
      ]
    },
    {
      "cell_type": "code",
      "metadata": {
        "id": "Hd0ZVhypklQR",
        "outputId": "89277c0c-e225-48d4-cce7-ff5b83cef18d",
        "colab": {
          "base_uri": "https://localhost:8080/",
          "height": 89
        }
      },
      "source": [
        "# Data preparation\n",
        "dataset = pd.read_csv('https://raw.githubusercontent.com/KHSDTC/Hackathon_Spring2020_Challenge/machine_learning/machine_learning/dataset.csv')\n",
        "\n",
        "features = ['washing hands', 'touching face']\n",
        "targets = ['outcome']\n",
        "\n",
        "X = dataset[features].values\n",
        "y = dataset[targets].values\n",
        "\n",
        "# Spliting data\n",
        "X_train, X_test, y_train, y_test = train_test_split(X, y, test_size=0.20, random_state=42)\n",
        "\n",
        "# Feature engineering\n",
        "# #####################\n",
        "# ADD YOUR CODE BELOW\n",
        "# #####################\n",
        "\n",
        "from sklearn.preprocessing import StandardScaler\n",
        "\n",
        "scaler = StandardScaler()\n",
        "X_train_scaled = scaler.fit_transform(X_train)\n",
        "X_test_scaled = scaler.transform(X_test)\n",
        "\n",
        "# #####################\n",
        "\n",
        "clf = LinearSVC(random_state=0)\n",
        "clf.fit(X_train_scaled, y_train)\n",
        "pred = clf.predict(X_test_scaled)\n",
        "\n",
        "acc = accuracy_score(y_test, pred)\n",
        "print(f'Model Accuracy with Feature Engineering: {acc}')"
      ],
      "execution_count": 19,
      "outputs": [
        {
          "output_type": "stream",
          "text": [
            "Model Accuracy with Feature Engineering: 0.925\n"
          ],
          "name": "stdout"
        },
        {
          "output_type": "stream",
          "text": [
            "/usr/local/lib/python3.6/dist-packages/sklearn/utils/validation.py:760: DataConversionWarning: A column-vector y was passed when a 1d array was expected. Please change the shape of y to (n_samples, ), for example using ravel().\n",
            "  y = column_or_1d(y, warn=True)\n"
          ],
          "name": "stderr"
        }
      ]
    },
    {
      "cell_type": "markdown",
      "metadata": {
        "id": "IkS1LZn9OB1T"
      },
      "source": [
        "\n",
        "\n",
        "---\n",
        "\n"
      ]
    },
    {
      "cell_type": "markdown",
      "metadata": {
        "id": "aVI2_4YxF-CV"
      },
      "source": [
        "# Exercise 2\n",
        "\n",
        "Read and try to implement using a different classification model\n",
        "\n",
        "Note: fit and transform with the scaler on the training set and then just transform the test set\n",
        "\n",
        "https://scikit-learn.org/stable/modules/preprocessing.html"
      ]
    },
    {
      "cell_type": "code",
      "metadata": {
        "id": "uMI8m5t5GDvd",
        "outputId": "b0384583-90f6-4142-c07f-85784fb8fee0",
        "colab": {
          "base_uri": "https://localhost:8080/",
          "height": 89
        }
      },
      "source": [
        "# Data preparation\n",
        "dataset = pd.read_csv('https://raw.githubusercontent.com/KHSDTC/Hackathon_Spring2020_Challenge/machine_learning/machine_learning/dataset.csv')\n",
        "\n",
        "features = ['washing hands', 'touching face']\n",
        "targets = ['outcome']\n",
        "\n",
        "X = dataset[features].values\n",
        "y = dataset[targets].values\n",
        "\n",
        "# Spliting data\n",
        "X_train, X_test, y_train, y_test = train_test_split(X, y, test_size=0.20, random_state=42)\n",
        "\n",
        "# Feature engineering\n",
        "# #####################\n",
        "# ADD YOUR CODE BELOW\n",
        "# #####################\n",
        "\n",
        "from sklearn.preprocessing import StandardScaler\n",
        "\n",
        "scaler = StandardScaler()\n",
        "X_train_scaled = scaler.fit_transform(X_train)\n",
        "X_test_scaled = scaler.transform(X_test)\n",
        "\n",
        "# #####################\n",
        "\n",
        "# Feature engineering\n",
        "# #####################\n",
        "# ADD YOUR CODE BELOW\n",
        "# #####################\n",
        "\n",
        "clf = LinearSVC(random_state=0)\n",
        "\n",
        "# #####################\n",
        "\n",
        "clf.fit(X_train_scaled, y_train)\n",
        "pred = clf.predict(X_test_scaled)\n",
        "\n",
        "acc = accuracy_score(y_test, pred)\n",
        "print(f'Model Accuracy with Feature Engineering: {acc}')"
      ],
      "execution_count": 20,
      "outputs": [
        {
          "output_type": "stream",
          "text": [
            "Model Accuracy with Feature Engineering: 0.925\n"
          ],
          "name": "stdout"
        },
        {
          "output_type": "stream",
          "text": [
            "/usr/local/lib/python3.6/dist-packages/sklearn/utils/validation.py:760: DataConversionWarning: A column-vector y was passed when a 1d array was expected. Please change the shape of y to (n_samples, ), for example using ravel().\n",
            "  y = column_or_1d(y, warn=True)\n"
          ],
          "name": "stderr"
        }
      ]
    },
    {
      "cell_type": "markdown",
      "metadata": {
        "id": "swWRFAMvBpPJ"
      },
      "source": [
        "# Other references\n",
        "\n",
        "*   https://colab.research.google.com/github/jakevdp/PythonDataScienceHandbook/blob/master/notebooks/05.02-Introducing-Scikit-Learn.ipynb\n",
        "*   https://scikit-learn.org/stable/modules/classes.html"
      ]
    }
  ]
}